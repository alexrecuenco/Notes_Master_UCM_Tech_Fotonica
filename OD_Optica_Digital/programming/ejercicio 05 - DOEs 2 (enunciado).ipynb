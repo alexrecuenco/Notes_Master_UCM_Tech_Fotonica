{
 "cells": [
  {
   "cell_type": "markdown",
   "metadata": {},
   "source": [
    "![Alt text](http://www.ucm.es/logo/ucm.png \"a title\")\n",
    "\n",
    "<div align=\"center\"> \n",
    "<font size=5> Máster en Nuevas Tecnologías Electrónicas y Fotónicas </font>\n",
    "</div>\n",
    "    \n",
    "<div align=\"center\"> \n",
    "<font size=4> Óptica Digital, curso 2022-2023 </font>\n",
    "</div>\n",
    "\n",
    "<div align=\"center\"> \n",
    "<font size=4>  \n",
    "\n",
    "</font>\n",
    "</div>\n",
    "\n",
    "<div align=\"center\"> \n",
    "<font size=5> Ejercicio 5 - Elementos ópticos difractivos </font>\n",
    "</div>"
   ]
  },
  {
   "cell_type": "markdown",
   "metadata": {
    "ExecuteTime": {
     "end_time": "2021-09-03T08:07:15.590395Z",
     "start_time": "2021-09-03T08:07:15.586258Z"
    }
   },
   "source": [
    "- **Fecha**: \n",
    "        \n",
    "- **Alumno**:  \n"
   ]
  },
  {
   "cell_type": "markdown",
   "metadata": {},
   "source": [
    "# Introducción\n",
    "\n",
    "En este ejercicio nos vamos a centrar en el uso de kinoformas. Éstas producen una distribución de intensidad deseada en el campo lejano. Utilizaremos dos estrategias:\n",
    "\n",
    "- La función fft de la clase, que directamente calcula la distribución en campo lejano.\n",
    "- El uso de una lente y propagar hasta la distancia focal. Esto nos permitirá el control del tamaño cambiando la focal.\n",
    "\n",
    "Veremos el efecto de una kinoforma de amplitud y una de fase."
   ]
  },
  {
   "cell_type": "markdown",
   "metadata": {},
   "source": [
    "# Enunciados\n",
    "\n",
    "1. Sea una kinoforma proporcionada mediante un dibujo .bmp.\n",
    "\n",
    "    a. Cargue la imagen (DOEucm.bmp) y genere una transmitancia de amplitud. Hay una función específica dentro de Scalar_mask_XY.\n",
    "    \n",
    "    b. Obtenga la distribución de intensidad en campo lejano cuando esta kinoforma es iluminada por una onda armónica plana en incidencia normal.\n",
    "    \n",
    "    c. Convierta la imagen en una transmitancia de fase. Obtenga de nuevo la distribución de intensidad en campo lejano.\n",
    "    \n",
    "    d. Para obtener el campo lejano, utilice una lente. Obtenga la distribución de intensidad en el plano focal de la lente. \n",
    "    \n",
    "    e. Para el caso d), utilice una máscara para eliminar el orden 0.\n",
    "    \n",
    "    f. Compare los resultados.\n",
    "    \n",
    "    \n",
    "    "
   ]
  },
  {
   "cell_type": "markdown",
   "metadata": {},
   "source": [
    "<div class=\"alert alert-block alert-success\">\n",
    "    \n",
    "<b>Nota:</b>\n",
    "    \n",
    "En todos los casos, especialmente en las kinoformas de amplitud, es conveniente eliminar el orden 0 de la intensidad obtenida, pues reduce la visibilidad del resultado.\n",
    "\n",
    "    - Para la función fft, hay un parámetro específico.\n",
    "\n",
    "    - Para campo cercano es necesario crear la máscara y multiplicarla por el resultado.\n",
    "    \n",
    "</div>\n",
    "\n"
   ]
  },
  {
   "cell_type": "markdown",
   "metadata": {},
   "source": [
    "Proponga un valor para los parámetros que no vengan en el enunciado. En todos los casos, los resultados son gráficas de intensidad y fase luminosa."
   ]
  },
  {
   "cell_type": "markdown",
   "metadata": {},
   "source": [
    "<div class=\"alert alert-block alert-info\">\n",
    "\n",
    "<b>Consejos:</b>\n",
    "    \n",
    "    - Para una mejor observación y rapidez en los cálculos, utilice una máscara de 512 x 512 pixeles.\n",
    "    \n",
    "    - El tamaño de la máscara puede ser 1 mm.\n",
    "    \n",
    "    - Para enmascarar, utilice una abertura circular, donde el centro tenga una transmitancia 0 y los bordes una transmitancia 1.\n",
    "    \n",
    "  \n",
    "</div>"
   ]
  },
  {
   "cell_type": "markdown",
   "metadata": {},
   "source": [
    "## Resolución\n"
   ]
  },
  {
   "cell_type": "code",
   "execution_count": null,
   "metadata": {},
   "outputs": [],
   "source": []
  },
  {
   "cell_type": "markdown",
   "metadata": {},
   "source": [
    "### Definiciones iniciales"
   ]
  },
  {
   "cell_type": "code",
   "execution_count": null,
   "metadata": {},
   "outputs": [],
   "source": []
  },
  {
   "cell_type": "markdown",
   "metadata": {},
   "source": [
    "### a. Cargar la imagen"
   ]
  },
  {
   "cell_type": "code",
   "execution_count": null,
   "metadata": {},
   "outputs": [],
   "source": []
  },
  {
   "cell_type": "markdown",
   "metadata": {},
   "source": [
    "### b. Distribución de intensidad en campo lejano"
   ]
  },
  {
   "cell_type": "code",
   "execution_count": null,
   "metadata": {},
   "outputs": [],
   "source": []
  },
  {
   "cell_type": "markdown",
   "metadata": {},
   "source": [
    "### c. Máscara de fase"
   ]
  },
  {
   "cell_type": "code",
   "execution_count": null,
   "metadata": {},
   "outputs": [],
   "source": []
  },
  {
   "cell_type": "markdown",
   "metadata": {},
   "source": [
    "### d. Uso de una lente"
   ]
  },
  {
   "cell_type": "code",
   "execution_count": null,
   "metadata": {},
   "outputs": [],
   "source": []
  },
  {
   "cell_type": "markdown",
   "metadata": {},
   "source": [
    "### e. Máscara para orden 0"
   ]
  },
  {
   "cell_type": "code",
   "execution_count": null,
   "metadata": {},
   "outputs": [],
   "source": []
  },
  {
   "cell_type": "markdown",
   "metadata": {},
   "source": [
    "**Conclusiones**:"
   ]
  }
 ],
 "metadata": {
  "kernelspec": {
   "display_name": "Python 3.10.4 64-bit",
   "language": "python",
   "name": "python3"
  },
  "language_info": {
   "codemirror_mode": {
    "name": "ipython",
    "version": 3
   },
   "file_extension": ".py",
   "mimetype": "text/x-python",
   "name": "python",
   "nbconvert_exporter": "python",
   "pygments_lexer": "ipython3",
   "version": "3.10.4"
  },
  "latex_envs": {
   "LaTeX_envs_menu_present": true,
   "autoclose": false,
   "autocomplete": true,
   "bibliofile": "biblio.bib",
   "cite_by": "apalike",
   "current_citInitial": 1,
   "eqLabelWithNumbers": true,
   "eqNumInitial": 1,
   "hotkeys": {
    "equation": "Ctrl-E",
    "itemize": "Ctrl-I"
   },
   "labels_anchors": false,
   "latex_user_defs": false,
   "report_style_numbering": false,
   "user_envs_cfg": false
  },
  "toc": {
   "base_numbering": 1,
   "nav_menu": {},
   "number_sections": false,
   "sideBar": true,
   "skip_h1_title": true,
   "title_cell": "Table of Contents",
   "title_sidebar": "Contents",
   "toc_cell": false,
   "toc_position": {},
   "toc_section_display": true,
   "toc_window_display": false
  },
  "vscode": {
   "interpreter": {
    "hash": "916dbcbb3f70747c44a77c7bcd40155683ae19c65e1c03b4aa3499c5328201f1"
   }
  },
  "widgets": {
   "application/vnd.jupyter.widget-state+json": {
    "state": {},
    "version_major": 2,
    "version_minor": 0
   }
  }
 },
 "nbformat": 4,
 "nbformat_minor": 4
}
