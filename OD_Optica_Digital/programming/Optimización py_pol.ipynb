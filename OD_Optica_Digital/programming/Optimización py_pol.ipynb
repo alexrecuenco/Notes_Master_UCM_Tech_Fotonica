{
 "cells": [
  {
   "cell_type": "markdown",
   "metadata": {},
   "source": [
    "![Alt text](http://www.ucm.es/logo/ucm.png \"a title\")\n",
    "\n",
    "<div align=\"center\"> \n",
    "<font size=6> Máster en Nuevas Tecnologías Electrónicas y Fotónicas </font>\n",
    "</div>\n",
    "    \n",
    "<div align=\"center\"> \n",
    "<font size=5> Óptica Digital, curso 2022-2023 </font>\n",
    "</div>\n",
    "\n",
    "    \n",
    "<div align=\"center\"> \n",
    "<font size=5> Tema 9 - Ejemplo de optimización y funciones de mérito</font>\n",
    "</div>\n"
   ]
  },
  {
   "cell_type": "markdown",
   "metadata": {},
   "source": [
    "**Jesús del Hoyo Muñoz**"
   ]
  },
  {
   "cell_type": "markdown",
   "metadata": {},
   "source": [
    "# Objetivos\n",
    "\n",
    "    • Aprender a utilizar el módulo *optimize* de *scipy*.\n",
    "    • Ver el ejemplo de la implementación de una función de mérito."
   ]
  },
  {
   "cell_type": "markdown",
   "metadata": {},
   "source": [
    "# Importar modulos\n",
    "\n",
    "Vamos a cargar los módulos y las clases que necesitamos."
   ]
  },
  {
   "cell_type": "code",
   "execution_count": null,
   "metadata": {},
   "outputs": [],
   "source": [
    "%load_ext autoreload\n",
    "%autoreload 2"
   ]
  },
  {
   "cell_type": "code",
   "execution_count": null,
   "metadata": {},
   "outputs": [],
   "source": [
    "import numpy as np\n",
    "import matplotlib.pyplot as plt\n",
    "from matplotlib import rcParams\n",
    "rcParams['figure.dpi']=150\n",
    "rcParams['image.cmap']='hot'\n",
    "\n",
    "from py_pol.jones_vector import Jones_vector\n",
    "from py_pol.jones_matrix import Jones_matrix, degrees\n",
    "\n",
    "from scipy.optimize import least_squares"
   ]
  },
  {
   "cell_type": "code",
   "execution_count": null,
   "metadata": {},
   "outputs": [],
   "source": [
    "# Cargar datos del SLM\n",
    "data = np.load(\"SLM_Jones_components.npz\")\n",
    "components = [data[\"J0\"] * np.exp(1j * data[\"d0\"]),\n",
    "             data[\"J1\"] * np.exp(1j * data[\"d1\"]),\n",
    "             data[\"J2\"] * np.exp(1j * data[\"d2\"]),\n",
    "             data[\"J3\"] * np.exp(1j * data[\"d3\"])]\n",
    "Jslm = Jones_matrix().from_components(components);"
   ]
  },
  {
   "cell_type": "markdown",
   "metadata": {},
   "source": [
    "---\n",
    "# 1. Target\n",
    "\n",
    "Vamos a definir una función de mérito y a hacer una optimización empleando una distribución objetivo que queremos obtener.\n",
    "\n",
    "La modulación que queremos conseguir es mixta: cambio lineal en amplitud y fase."
   ]
  },
  {
   "cell_type": "code",
   "execution_count": null,
   "metadata": {},
   "outputs": [],
   "source": [
    "def system_transmition(angles, Jslm:Jones_matrix):\n",
    "    (a1, a2, a3, a4) = angles\n",
    "    Ein = Jones_vector().circular_light(intensity=2) # intensity 2, since circular -> perfect diatenuator will remove half of it\n",
    "    Jp1 = Jones_matrix().diattenuator_perfect(azimuth=a1)\n",
    "    Jr1 = Jones_matrix().quarter_waveplate(azimuth=a2)\n",
    "    Jr2 = Jones_matrix().quarter_waveplate(azimuth=a2)\n",
    "    Jp2 = Jones_matrix().diattenuator_perfect(azimuth=a2)\n",
    "\n",
    "    Efin = Jp2 * Jr2 * Jslm * Jr1 * Ein\n",
    "    \n",
    "    Ifin, phase = Efin.parameters.intensity(), Efin.parameters.global_phase()\n",
    "\n",
    "    return Ifin, phase\n",
    "\n",
    "    "
   ]
  },
  {
   "cell_type": "code",
   "execution_count": null,
   "metadata": {},
   "outputs": [],
   "source": [
    "def score(angles, Jslm):\n",
    "    # Ideal transmission\n",
    "    v = np.linspace(0, Jslm.size - 1, Jslm.size)\n",
    "    t = v / v.max()\n",
    "    t_phase = 2 * np.pi * v.max()\n",
    "\n",
    "    # System transmition\n",
    "    t_i_transmission, t_phase_transmission = system_transmition(angles, Jslm)\n",
    "\n",
    "    t_phase = 2 * np.pi * v.max()\n",
    "    sqr_error = (t_i_transmission- t) ** 2 + (t_phase_transmission - t_phase) ** 2\n",
    "    return sqr_error"
   ]
  },
  {
   "cell_type": "code",
   "execution_count": null,
   "metadata": {},
   "outputs": [],
   "source": [
    "init = np.random.rand(4) * np.pi / 2  # angles are given in radians.\n",
    "bounds = (np.zeros(4), np.ones(4) * np.pi)\n",
    "result = least_squares(score, x0=init, bounds=bounds, args= [Jslm])\n"
   ]
  },
  {
   "cell_type": "code",
   "execution_count": null,
   "metadata": {},
   "outputs": [],
   "source": []
  },
  {
   "cell_type": "code",
   "execution_count": null,
   "metadata": {},
   "outputs": [],
   "source": []
  },
  {
   "cell_type": "code",
   "execution_count": null,
   "metadata": {},
   "outputs": [],
   "source": [
    "from scipy.optimize import minimize\n",
    "\n",
    "def system_transmition_pol(angles, Jslm:Jones_matrix):\n",
    "    (a1, a2, a3, a4) = angles\n",
    "    Ein = Jones_vector().circular_light(intensity=2) # intensity 2, since circular -> perfect diatenuator will remove half of it\n",
    "    Jp1 = Jones_matrix().diattenuator_perfect(azimuth=a1)\n",
    "    Jr1 = Jones_matrix().quarter_waveplate(azimuth=a2)\n",
    "    Jr2 = Jones_matrix().quarter_waveplate(azimuth=a2)\n",
    "    Jp2 = Jones_matrix().diattenuator_perfect(azimuth=a2)\n",
    "\n",
    "    Efin = Jp2 * Jr2 * Jslm * Jr1 * Ein\n",
    "    Ifin, phase = Efin.parameters.intensity(), Efin.parameters.global_phase()\n",
    "    az, el = Efin.parameters.\n",
    "\n",
    "    return Ifin, phase, az, el\n",
    "\n",
    "def score_pol(angles, Jslm):\n",
    "    # Ideal transmission\n",
    "    v = np.linspace(0, Jslm.size - 1, Jslm.size)\n",
    "    t = v / v.max()\n",
    "    t_phase = 2* np.pi * v.max()\n",
    "\n",
    "    # System transmition\n",
    "    t_samp, t_phase,t_az, t_el = system_transmition_pol(angles, Jslm)\n",
    "\n",
    "    t_phase = 2 * np.pi * v.max()\n",
    "    error = np.sum(t_el**2) + 1/(t_az.max() - t_az.min()) + (t_samp.max() - t_samp.min()) + 1 / t_samp.mean()\n",
    "    return error\n",
    "\n",
    "\n",
    "\n",
    "# YOU ARE MISSING A LOT\n",
    "result = minimize(score_pol)\n",
    "\n",
    "## Keep playing around until you find something that works.\n"
   ]
  },
  {
   "cell_type": "code",
   "execution_count": null,
   "metadata": {},
   "outputs": [],
   "source": []
  },
  {
   "cell_type": "markdown",
   "metadata": {},
   "source": [
    "---\n",
    "# Parámetros\n",
    "\n",
    "En este caso, definiremos la función de mérito usando unos parámetros adecuados. \n",
    "\n",
    "En este caso vamos a buscar una distribución diferente: Polarización lineal con variación lineal del azimut lo más grande posible."
   ]
  },
  {
   "cell_type": "code",
   "execution_count": null,
   "metadata": {},
   "outputs": [],
   "source": []
  },
  {
   "cell_type": "code",
   "execution_count": null,
   "metadata": {},
   "outputs": [],
   "source": []
  },
  {
   "cell_type": "code",
   "execution_count": null,
   "metadata": {},
   "outputs": [],
   "source": []
  },
  {
   "cell_type": "code",
   "execution_count": null,
   "metadata": {},
   "outputs": [],
   "source": [
    "from functools import partial\n",
    "\n",
    "partial()"
   ]
  },
  {
   "cell_type": "code",
   "execution_count": null,
   "metadata": {},
   "outputs": [],
   "source": [
    "def score_pol_constnat(angles, Jslm, weights):\n",
    "    # Ideal transmission\n",
    "    v = np.linspace(0, Jslm.size - 1, Jslm.size)\n",
    "    t = v / v.max()\n",
    "    t_phase = 2 * np.pi * v.max()\n",
    "\n",
    "    # System transmition\n",
    "    t_samp, t_phase, t_az, t_el = system_transmition_pol(angles, Jslm)\n",
    "\n",
    "    (w0, w1, w2, w3,w4, ) = weights\n",
    "\n",
    "    t_phase = 2 * np.pi * v.max()\n",
    "    error = (\n",
    "        w0 * np.sum(t_el**2)\n",
    "        + w1 * 1 / (t_az.max() - t_az.min())\n",
    "        + w3 * np.std(np.diff(t_az))\n",
    "        + w4 * np.std(t_az)\n",
    "        + w5 * 1 / t_samp.mean()\n",
    "    )\n",
    "    return error\n",
    "\n",
    "\n",
    "# YOU ARE MISSING A LOT\n",
    "result = minimize(score_pol)\n"
   ]
  }
 ],
 "metadata": {
  "kernelspec": {
   "display_name": "Python 3.10.3 ('env': venv)",
   "language": "python",
   "name": "python3"
  },
  "language_info": {
   "codemirror_mode": {
    "name": "ipython",
    "version": 3
   },
   "file_extension": ".py",
   "mimetype": "text/x-python",
   "name": "python",
   "nbconvert_exporter": "python",
   "pygments_lexer": "ipython3",
   "version": "3.10.3"
  },
  "latex_envs": {
   "LaTeX_envs_menu_present": true,
   "autoclose": false,
   "autocomplete": true,
   "bibliofile": "biblio.bib",
   "cite_by": "apalike",
   "current_citInitial": 1,
   "eqLabelWithNumbers": true,
   "eqNumInitial": 1,
   "hotkeys": {
    "equation": "Ctrl-E",
    "itemize": "Ctrl-I"
   },
   "labels_anchors": false,
   "latex_user_defs": false,
   "report_style_numbering": false,
   "user_envs_cfg": false
  },
  "toc": {
   "base_numbering": 1,
   "nav_menu": {},
   "number_sections": false,
   "sideBar": true,
   "skip_h1_title": false,
   "title_cell": "Table of Contents",
   "title_sidebar": "Contents",
   "toc_cell": false,
   "toc_position": {},
   "toc_section_display": true,
   "toc_window_display": true
  },
  "toc-autonumbering": true,
  "vscode": {
   "interpreter": {
    "hash": "dc988374c93268eb4bbdbb388996892ca7ce2166a8df0f80e60341213632aaf8"
   }
  }
 },
 "nbformat": 4,
 "nbformat_minor": 4
}
