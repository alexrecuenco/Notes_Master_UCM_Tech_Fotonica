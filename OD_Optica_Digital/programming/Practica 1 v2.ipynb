{
 "cells": [
  {
   "cell_type": "markdown",
   "metadata": {},
   "source": [
    "![Alt text](http://www.ucm.es/logo/ucm.png \"a title\")\n",
    "\n",
    "<div align=\"center\"> \n",
    "<font size=6> Máster en Nuevas Tecnologías Electrónicas y Fotónicas </font>\n",
    "</div>\n",
    "    \n",
    "<div align=\"center\"> \n",
    "<font size=5> Óptica Digital, curso 2021-2022 </font>\n",
    "</div>\n",
    "\n",
    "    \n",
    "<div align=\"center\"> \n",
    "<font size=5> Laboratorio 1 - Funcionamiento de un Modulador Espacial de Luz</font>\n",
    "</div>\n"
   ]
  },
  {
   "cell_type": "markdown",
   "metadata": {},
   "source": [
    "- **Grupo de laboratorio**: ***\n",
    "        \n",
    "- **Alumnos**:  \n",
    "     1. Apellidos, nombre\n",
    "     1. Apellidos, nombre\n",
    "     1. Apellidos, nombre\n",
    "     \n",
    "     \n",
    "- **Fecha de realización del laboratorio**: aaaa/mm/dd -- hh:mm a hh:mm"
   ]
  },
  {
   "cell_type": "markdown",
   "metadata": {},
   "source": [
    "# Objetivos de la práctica\n",
    "\n",
    "    • Aprender a utilizar los equipos del laboratorio.\n",
    "    • Encontrar el plano del SLM después del sistema 4f.\n",
    "    • Encontrar las condiciones de modulación de amplitud y fase\n",
    "    • Implementar una máscara sencilla.\n"
   ]
  },
  {
   "cell_type": "markdown",
   "metadata": {},
   "source": [
    "# Introducción\n",
    "El objetivo de la siguiente práctica es aprender a utilizar todos los aparatos que se emplearán durante las prácticas de Óptica Digital. Esto se lleva a cabo a través de la librería **py_lab**, una librería capaz de controlar diversos motores, cámaras y SLM independientemente del modelo conectado.\n",
    "\n",
    "Es necesario aprender a realizar las siguientes tareas:\n",
    "- Colocar el motor que mueve la cámara en la posición deseada.\n",
    "- Abrir una ventana que muestre lo que ve la cámara en tiempo real.\n",
    "- Tomar imágenes con las propiedades (resolución, brillo, ...) deseadas.\n",
    "- Enviar una máscara al SLM.\n",
    "- Encontrar una posición de los polarizadores y retardadores que implementen modulación de amplitud y otra que implemente modulación de fase.\n",
    "\n",
    "El resultado archivo jupyter (.ipynb) y su copia como .html es suficiente para realizar la práctica.\n"
   ]
  },
  {
   "cell_type": "markdown",
   "metadata": {},
   "source": [
    "---\n",
    "# Puesta a punto\n",
    "\n",
    "En primer lugar, hay que cargar los módulos necesarios para el desarrollo de la práctica. Estos módulos son *py_lab*, que servirá para controlar los aparatos, y *diffractio*, con el que implementaremos algunas máscaras para enviarlas al SLM."
   ]
  },
  {
   "cell_type": "code",
   "execution_count": null,
   "metadata": {},
   "outputs": [],
   "source": [
    "%load_ext autoreload\n",
    "%autoreload 2"
   ]
  },
  {
   "cell_type": "code",
   "execution_count": null,
   "metadata": {},
   "outputs": [],
   "source": [
    "import numpy as np\n",
    "from PIL import Image\n",
    "\n",
    "from py_lab.motor import Motor\n",
    "from py_lab.camera import Camera\n",
    "from py_lab.slm import SLM\n",
    "from py_lab.daca import DACA\n",
    "\n",
    "from diffractio import degrees, mm, plt, sp, um, np\n",
    "from diffractio.scalar_masks_XY import Scalar_mask_XY"
   ]
  },
  {
   "cell_type": "markdown",
   "metadata": {},
   "source": [
    "Después, hay que asegurarse que los datos se guardan en el directorio correcto. Por ello, se debe crear la carpeta dentro de H:\\Optica digital\\2021_2022\\sesion 1\\Pareja X. A continuación, se debe establecer ese directorio como el directorio activo:"
   ]
  },
  {
   "cell_type": "code",
   "execution_count": null,
   "metadata": {},
   "outputs": [],
   "source": [
    "#Dependiendo de donde se abra la ventana de comandos, funcionará uno de los dos. Comentad el otro:\n",
    "%cd H:\\Optica digital\\2021_2022\\sesion 1\\Pareja 0\n",
    "%cd Pareja 0"
   ]
  },
  {
   "cell_type": "code",
   "execution_count": null,
   "metadata": {},
   "outputs": [],
   "source": [
    "%pwd"
   ]
  },
  {
   "cell_type": "code",
   "execution_count": null,
   "metadata": {},
   "outputs": [],
   "source": [
    "import matplotlib\n",
    "\n",
    "from matplotlib import rcParams\n",
    "rcParams['figure.dpi']=300\n",
    "rcParams['image.cmap']='hot'"
   ]
  },
  {
   "cell_type": "markdown",
   "metadata": {},
   "source": [
    "---\n",
    "# Control básico de los equipos\n",
    "\n",
    "Vamos a ver cómo se controla cada uno de los aparatos de la práctica. Iremos de uno en uno para que sea más fácil de aprender. De todas maneras, conviene tener presente que el uso de cualquiera de los aparatos sigue una misma estructura. \n",
    "\n",
    "En primer lugar, cada aparato será controlado mediante un objeto de la clase adecuada: Camera para la cámara, Motor para el motor que mueve la cámara, SLM para el SLM, y DACA para la tarjeta de adquisición de datos (DAta Acquisition Card) que mide la señal generada por los fotodetectores. Cualquier operación que se lleve a cabo con dicho aparato se realizará empleando un método de la clase correspondiente.\n",
    "\n",
    "El uso de cualquiera de estos aparatos segurá la siguiente estructura:\n",
    "1. Creación del objeto (*cam = Camera()*)\n",
    "1. Inicialización del objeto (*cam.Open()*). Este paso conecta el ordenador al aparato y comprueba que no haya errores.\n",
    "1. Uso del dispositivo (*image = cam.Get_Image()*). Cada elemento tiene diversos métodos para realizar las operaciones encesarias.\n",
    "1. Apagado (*cam.Close()*). Al finalizar el uso hay que terminar la conexión entre el ordenador y el dispositivo."
   ]
  },
  {
   "cell_type": "markdown",
   "metadata": {},
   "source": [
    "## Cámara\n",
    "\n",
    "Vamos a empezar por la cámara. \n",
    "\n",
    "### Primeros pasos\n",
    "\n",
    "Empezamos creando el objeto. Todos los métodos de creación de objeto tienen un argumento de entrada *name* en el que se les especifica el modelo de objeto que se está utilizando. En el caso de la cámara, hay que introducir un nombre diferente dependiendo del puesto de la práctica:"
   ]
  },
  {
   "cell_type": "code",
   "execution_count": null,
   "metadata": {},
   "outputs": [],
   "source": [
    "# Comentar la línea de código correspondiente al otro puesto\n",
    "cam = Camera(name=\"ImagingSource\")    # Puesto 1\n",
    "# cam = Camera(name=\"ImagingSource2\")   # Puesto 2"
   ]
  },
  {
   "cell_type": "markdown",
   "metadata": {},
   "source": [
    "Ahora tenemos que inicializarlo (establecer la conexión entre el ordenador y la cámara). Este paso bloqueará el uso de la cámara mediante otro software."
   ]
  },
  {
   "cell_type": "code",
   "execution_count": null,
   "metadata": {},
   "outputs": [],
   "source": [
    "cam.Open()\n",
    "cam.List_Devices()"
   ]
  },
  {
   "cell_type": "markdown",
   "metadata": {},
   "source": [
    "### Propiedades de la cámara\n",
    "\n",
    "Ya podemos empezar a usar la cámara. Primero vamos a aprender a cambiar algunas de las propiedades de la cámara. Esto se hace con el método *Set_Property*. Este método acepta 3 variables de entrada:\n",
    "\n",
    "* **name** (str): Nombre de la propiedad. Posibles opciones: Resolution (resolución), Gain (ganancia), Exposure (tiempo de exposición logaritmico), Framerate (tasa de refresco en Hz), y otras muchas.\n",
    "* **value**: Nuevo valor de la propiedad.\n",
    "* **is_switcher** (bool): Determina si la propiedad es de tipo switcher (encendido, apagado) o no. Para la mayoría de propiedades, representa si el valor puede ser variado automáticamente por los drivers de la cámarta o no. Por defecto: False."
   ]
  },
  {
   "cell_type": "markdown",
   "metadata": {},
   "source": [
    "<div class=\"alert alert-block alert-success\">\n",
    "    \n",
    "<b>Cámara:</b>\n",
    "La exposición y la ganancia se deben modificar según el experimento para capturar las imágenes con el mejor rango. Hay que procurar que no haya muchos píxeles de la cámara saturados (valor > 255). Los valores adecuados para estos parámetros son:\n",
    "- Gain: 0 a 5\n",
    "- Exposure: -5 a -13. Viene dado por el valor 'value=int(np.log2(1/tiempo_integracion))'.\n",
    "</div>"
   ]
  },
  {
   "cell_type": "code",
   "execution_count": null,
   "metadata": {},
   "outputs": [],
   "source": [
    "cam.Set_Property(name=\"Resolution\", value=\"Y800 (640x480)\", is_switcher=False)   # Cambiar la resolucion a una manejable para el video en vivo\n",
    "cam.Set_Property(name=\"Gain\", value=0, is_switcher=True)                         # Cambiar la ganancia a manual\n",
    "cam.Set_Property(name=\"Exposure\", value=0, is_switcher=True)                     # Cambiar el tiempo de exposicion a manual\n",
    "cam.Set_Property(name=\"Gain\", value=10, is_switcher=False)                       # Cambiar la ganancia a un valor fijo"
   ]
  },
  {
   "cell_type": "markdown",
   "metadata": {},
   "source": [
    "También podemos preguntar qué valor tienen esas propiedades actualmente con el método *Get_Property*:"
   ]
  },
  {
   "cell_type": "code",
   "execution_count": null,
   "metadata": {},
   "outputs": [],
   "source": [
    "_ = cam.Get_Property(name=\"Resolution\", is_switcher=False)"
   ]
  },
  {
   "cell_type": "markdown",
   "metadata": {},
   "source": [
    "### Video en vivo\n",
    "\n",
    "Para que la cámara empieze a medir hay que usar el método *Start_Live*. Si se usa el parámetro de entrada *view* como True, se abrirá una ventana con la imagen en vivo."
   ]
  },
  {
   "cell_type": "code",
   "execution_count": null,
   "metadata": {},
   "outputs": [],
   "source": [
    "cam.Start_Live(view=True)"
   ]
  },
  {
   "cell_type": "markdown",
   "metadata": {},
   "source": [
    "<div class=\"alert alert-block alert-success\">\n",
    "    \n",
    "<b>Consejo:</b>\n",
    "Conviene usar la resolución Y800 (640x480) cuando abrimos la ventana para ver la imagen de la cámara para que quepa cómodamente en la pantalla.\n",
    "    \n",
    "</div>"
   ]
  },
  {
   "cell_type": "markdown",
   "metadata": {},
   "source": [
    "Podemos pararlo empleando el método *Stop_Live* (o cerrando la ventana, o presionando Esc con la ventana activa):"
   ]
  },
  {
   "cell_type": "code",
   "execution_count": null,
   "metadata": {},
   "outputs": [],
   "source": [
    "cam.Stop_Live()"
   ]
  },
  {
   "cell_type": "markdown",
   "metadata": {},
   "source": [
    "### Adquisicion de imagenes\n",
    "\n",
    "Para tomar imagenes se usa el metodo *Get_Image*. Si además especificamos la variable *draw* como True, podremos ver una representación de la imagen el el notebook."
   ]
  },
  {
   "cell_type": "markdown",
   "metadata": {},
   "source": [
    "<div class=\"alert alert-block alert-info\">\n",
    "\n",
    "**NOTA:** Para tomar imágenes, la cámara debe estar activa (método *Start_Live*).\n",
    "  \n",
    "</div>"
   ]
  },
  {
   "cell_type": "code",
   "execution_count": null,
   "metadata": {},
   "outputs": [],
   "source": [
    "cam.Start_Live(view=False)"
   ]
  },
  {
   "cell_type": "code",
   "execution_count": null,
   "metadata": {},
   "outputs": [],
   "source": [
    "image = cam.Get_Image(draw=True)"
   ]
  },
  {
   "cell_type": "markdown",
   "metadata": {},
   "source": [
    "<div class=\"alert alert-block alert-success\">\n",
    "    \n",
    "<b>Consejo:</b>\n",
    "A la hora de guardar imágenes, conviene usar la máxima resolución Y800 (2592x1944).\n",
    "    \n",
    "</div>"
   ]
  },
  {
   "cell_type": "markdown",
   "metadata": {},
   "source": [
    "### Guardar imágenes\n",
    "\n",
    "El método *Get_Image* devuelve la imagen en forma de un *numpy.ndarray* de dos dimensiones. Podemos guardar este array empleando el método de numpy *savez*:"
   ]
  },
  {
   "cell_type": "code",
   "execution_count": null,
   "metadata": {},
   "outputs": [],
   "source": [
    "np.savez('Test_image.npz', nombre_variable=image)"
   ]
  },
  {
   "cell_type": "markdown",
   "metadata": {},
   "source": [
    "Estos archivos .npz se pueden cargar mediante el método de numpy *load*. Todas las variables guardadas en el archivo se cargan como un diccionaro."
   ]
  },
  {
   "cell_type": "code",
   "execution_count": null,
   "metadata": {},
   "outputs": [],
   "source": [
    "data = np.load('Test_image.npz')\n",
    "image = data[\"nombre_variable\"]"
   ]
  },
  {
   "cell_type": "markdown",
   "metadata": {},
   "source": [
    "Otra opción es guardar la información como imágenes. Esto se consigue empleando el módulo *PIL*:"
   ]
  },
  {
   "cell_type": "code",
   "execution_count": null,
   "metadata": {},
   "outputs": [],
   "source": [
    "image_PIL = Image.fromarray(image)\n",
    "image_PIL.save(\"Test_image.png\")"
   ]
  },
  {
   "cell_type": "markdown",
   "metadata": {},
   "source": [
    "Estas imágenes pueden cargarse y transformarse a arrays de numpy:"
   ]
  },
  {
   "cell_type": "code",
   "execution_count": null,
   "metadata": {},
   "outputs": [],
   "source": [
    "image_PIL = Image.open('Test_image.png')\n",
    "image = np.asarray(image_PIL)"
   ]
  },
  {
   "cell_type": "markdown",
   "metadata": {},
   "source": [
    "### Cerrar la cámara\n",
    "\n",
    "Por último, vamos a cerrar la cámara."
   ]
  },
  {
   "cell_type": "code",
   "execution_count": null,
   "metadata": {},
   "outputs": [],
   "source": [
    "cam.Close()"
   ]
  },
  {
   "cell_type": "markdown",
   "metadata": {},
   "source": [
    "## Motores\n",
    "\n",
    "Ahora vamos a aprender a controlar los motores.\n",
    "\n",
    "### Primeros pasos\n",
    "\n",
    "Como siempre, empezamos creando el objeto e inicializandolo."
   ]
  },
  {
   "cell_type": "code",
   "execution_count": null,
   "metadata": {},
   "outputs": [],
   "source": [
    "# Comentar la línea de código correspondiente al otro puesto\n",
    "motor = Motor(name=\"SMC100\")    # Puesto 1\n",
    "# motor = Motor(name=\"???\")   # Puesto 2"
   ]
  },
  {
   "cell_type": "code",
   "execution_count": null,
   "metadata": {},
   "outputs": [],
   "source": [
    "motor.Open()"
   ]
  },
  {
   "cell_type": "code",
   "execution_count": null,
   "metadata": {},
   "outputs": [],
   "source": [
    "motor.Test_Connection()"
   ]
  },
  {
   "cell_type": "markdown",
   "metadata": {},
   "source": [
    "Aquellos motores que tienen un encoder que les permite conocer su posición absoluta necesitan encontrar su posición para poder trabajar. Normalmente, esto supone que se mueven a su posición de 0, ubicada en el centro o en uno de los extremos. A esta maniobra se la conoce como *Homing*."
   ]
  },
  {
   "cell_type": "code",
   "execution_count": null,
   "metadata": {},
   "outputs": [],
   "source": [
    "motor.Home()"
   ]
  },
  {
   "cell_type": "markdown",
   "metadata": {},
   "source": [
    "<div class=\"alert alert-block alert-info\">\n",
    "\n",
    "**IMPORTANTE (Puesto 2):** Este motor devuelve el control al programa antes de terminar su movimiento. SIn embargo, cuando se le intenta dar una nueva orden mientras aún se está moviendo, devuelve un error. Hay que esperar a que termine el movimiento antes de dar una nueva orden, o se obtendrá un error. \n",
    "  \n",
    "</div>"
   ]
  },
  {
   "cell_type": "markdown",
   "metadata": {},
   "source": [
    "### Movimiento\n",
    "\n",
    "Tenemos varias opciones para movernos. En primer lugar, está el método *Move_Absolute*. Con este método podemos movernos a una posición específica."
   ]
  },
  {
   "cell_type": "code",
   "execution_count": null,
   "metadata": {},
   "outputs": [],
   "source": [
    "motor.Move_Absolute(pos=25, units=\"mm\")"
   ]
  },
  {
   "cell_type": "markdown",
   "metadata": {},
   "source": [
    "La segunda opción es el movimiento relativo, que nos permite movernos una cierta distancia respecto a la posición actual. Para ello se usa el método *Move_Relative*. El signo de la distancia define la dirección de movimiento."
   ]
  },
  {
   "cell_type": "code",
   "execution_count": null,
   "metadata": {},
   "outputs": [],
   "source": [
    "motor.Move_Relative(dist=-30, units=\"mm\")"
   ]
  },
  {
   "cell_type": "markdown",
   "metadata": {},
   "source": [
    "<div class=\"alert alert-block alert-success\">\n",
    "    \n",
    "<b>Nota:</b>\n",
    "Los métodos de movimiento ofrecen como argumento de salida la posición final.\n",
    "    \n",
    "</div>"
   ]
  },
  {
   "cell_type": "markdown",
   "metadata": {},
   "source": [
    "Para conocer la posición actual se emplea el método *Get_Position*:"
   ]
  },
  {
   "cell_type": "code",
   "execution_count": null,
   "metadata": {},
   "outputs": [],
   "source": [
    "pos = motor.Get_Position()\n",
    "print(pos)"
   ]
  },
  {
   "cell_type": "markdown",
   "metadata": {},
   "source": [
    "### Guardar posiciones\n",
    "\n",
    "Es posible guardar la posición actual para poder volver a ella más tarde fácilemnte."
   ]
  },
  {
   "cell_type": "code",
   "execution_count": null,
   "metadata": {},
   "outputs": [],
   "source": [
    "motor.Save_Position(name=\"Inicio\")"
   ]
  },
  {
   "cell_type": "markdown",
   "metadata": {},
   "source": [
    "Después, se puede volver a dicha posición empleando el método *Move_To_Position*:"
   ]
  },
  {
   "cell_type": "code",
   "execution_count": null,
   "metadata": {},
   "outputs": [],
   "source": [
    "motor.Move_Relative(dist=10)"
   ]
  },
  {
   "cell_type": "code",
   "execution_count": null,
   "metadata": {},
   "outputs": [],
   "source": [
    "motor.Move_To_Position(name=\"Inicio\")"
   ]
  },
  {
   "cell_type": "markdown",
   "metadata": {},
   "source": [
    "### Cerrar el motor\n",
    "\n",
    "Como siempre, hay que cerrar el objeto después de terminar de utilizarlo."
   ]
  },
  {
   "cell_type": "code",
   "execution_count": null,
   "metadata": {},
   "outputs": [],
   "source": [
    "motor.Close()"
   ]
  },
  {
   "cell_type": "markdown",
   "metadata": {},
   "source": [
    "## SLM\n",
    "\n",
    "Ahora vamos a manejar el SLM.\n",
    "\n",
    "### Primeros pasos\n",
    "\n",
    "Como siempre, empezamos creando el objeto. A diferencia de otros elementos, no es necesario ejecutar ningún método de conexión, ya que los SLM funcionan de una manera muy peculiar: el ordenador los trata como una pantalla."
   ]
  },
  {
   "cell_type": "code",
   "execution_count": null,
   "metadata": {},
   "outputs": [],
   "source": [
    "# Comentar la línea de código correspondiente al otro puesto\n",
    "slm = SLM(name=\"HoloEye2500\")    # Puesto 1\n",
    "# slm = SLM(name=\"HoloEyePluto\")   # Puesto 2"
   ]
  },
  {
   "cell_type": "markdown",
   "metadata": {},
   "source": [
    "<div class=\"alert alert-block alert-success\">\n",
    "    \n",
    "<b>Nota:</b>\n",
    "Se puede comprobar que el SLM es tratado como una segunda pantalla haciendo una captura de pantalla y pegandola en Paint.\n",
    "    \n",
    "</div>"
   ]
  },
  {
   "cell_type": "markdown",
   "metadata": {},
   "source": [
    "### Envío de máscaras\n",
    "\n",
    "La manera de usar el SLM es enviarle una máscara para que él la represente en sus píxeles. Esto se consigue mediante el método *Send_Image*. La variable de entrada principal del método es *image*, que representa qué va a mandarse al SLM. Esta variable puede ser un numpy.ndarray o un diffractio.Scalar_mask_XY. Vamos a empezar con el array de numpy."
   ]
  },
  {
   "cell_type": "code",
   "execution_count": null,
   "metadata": {},
   "outputs": [],
   "source": [
    "image = np.random.rand(768, 1024)    # Puesto 1\n",
    "# image = np.random.rand(1080, 1920)   # Puesto 2\n",
    "slm.Send_Image(image)"
   ]
  },
  {
   "cell_type": "markdown",
   "metadata": {},
   "source": [
    "<div class=\"alert alert-block alert-info\">\n",
    "\n",
    "**NOTA:** La resolución de la imagen debe coincidir con la del SLM para que se visualice correctamente.\n",
    "  \n",
    "</div>"
   ]
  },
  {
   "cell_type": "markdown",
   "metadata": {},
   "source": [
    "Usar una máscara de diffractio es un poco más complicado, ya que es necesario definir las coordenadas espaciales. Estas coordenadas dependen del SLM que se esté utilizando. Para hacerlo un poco más fácil, vamos a usar la siguiente función:"
   ]
  },
  {
   "cell_type": "code",
   "execution_count": null,
   "metadata": {},
   "outputs": [],
   "source": [
    "def Get_Diffractio_Space(slm):\n",
    "    \"\"\"Calculates diffractio x and y variables for diffractio.\n",
    "\n",
    "    Returns:\n",
    "        x, y (np.ndarray): Arrays of space.\n",
    "    \"\"\"\n",
    "    lim = slm.pixel_size[0] * mm * (slm.resolution[0] - 1) / 2\n",
    "    x = np.linspace(-lim, lim, slm.resolution[0])\n",
    "    lim = slm.pixel_size[1] * mm * (slm.resolution[1] - 1) / 2\n",
    "    y = np.linspace(-lim, lim, slm.resolution[1])\n",
    "    return x, y"
   ]
  },
  {
   "cell_type": "code",
   "execution_count": null,
   "metadata": {},
   "outputs": [],
   "source": [
    "# Calcular el espacio\n",
    "x, y = Get_Diffractio_Space(slm)\n",
    "\n",
    "# Calcular la máscara\n",
    "ajedrez = Scalar_mask_XY(x=x, y=y, wavelength=0.6328*um)\n",
    "ajedrez.grating_2D_chess(period=2 * mm, amin=0, amax=1., phase=0,\n",
    "                r0=(0, 0), fill_factor=0.5, angle=0.0 * degrees)\n",
    "ajedrez.draw(kind='intensity', has_colorbar='horizontal')\n",
    "\n",
    "# Mandarla al SLM\n",
    "slm.Send_Image(ajedrez, kind=\"intensity\")"
   ]
  },
  {
   "cell_type": "markdown",
   "metadata": {},
   "source": [
    "### Cerrar el SLM\n",
    "\n",
    "El SLM, puesto que no se inicializa, no necesita cerrarse. Sin embargo, es posible que sea necesario cerrar la ventana que muestra la imagen del SLM en la pantaya auxiliar. Para eso, se emplea el método *Close_Image*."
   ]
  },
  {
   "cell_type": "code",
   "execution_count": null,
   "metadata": {},
   "outputs": [],
   "source": [
    "slm.Close_Image()"
   ]
  },
  {
   "cell_type": "markdown",
   "metadata": {},
   "source": [
    "# Ejercicios\n",
    "\n",
    "Debéis realizar los siguientes ejercicios."
   ]
  },
  {
   "cell_type": "markdown",
   "metadata": {},
   "source": [
    "## Encontrar el plano del SLM\n",
    "\n",
    "Puesto que hay un sistema 4f después del SLM, el plano del SLM se reproduce en el plano focal imagen de la segunda lente. Para encontrarlo con la cámara hay que realizar las siguientes operaciones:\n",
    "\n",
    "1. Colocar una imagen en el SLM que presente alto contraste (por ejemplo, la imagen del ajedrez).\n",
    "1. Abrir una ventana que muestre lo que mide la cámara.\n",
    "1. Mover el motor hasta ver bien enfocado la imagen proyectada en el SLM.\n",
    "1. Guardar la imagen.\n",
    "\n",
    "No olvidéis anotar la posición absoluta de este plano, la vais a utilizar en otras prácticas."
   ]
  },
  {
   "cell_type": "code",
   "execution_count": null,
   "metadata": {},
   "outputs": [],
   "source": []
  },
  {
   "cell_type": "markdown",
   "metadata": {},
   "source": [
    "## Encontrar las configuraciones de modulación de amplitud y fase\n",
    "\n",
    "Para encontrarlas tendréis que rotar los polarizadores y retardadores del PSG y el PSA. El proceso es el siguiente:\n",
    "\n",
    "1. Colocar la cámara en el plano del SLM.\n",
    "1. Proyectar una imagen en el SLM que contenga regiones de nivel 0 y regiones de nivel 1 (por ejemplo, la de ajedrez).\n",
    "1. Rotar los elementos del PSG y el PSA hasta que se vea una imagen con cuadrados muy negros y muy blancos (amplitud), o cuadrados con todos el mismo brillo (fase).\n",
    "1. Guardar una imagen para cada configuración.\n",
    "1. Calcular (ya en casa) el nivel de gris medio medido por la cámara, y su error, de los cuadrados negros y los cuadrados blancos. En el caso de la modulación de amplitud, calcular la visibilidad.\n",
    "\n",
    "Tenéis que anotar los ángulos a los que habéis colocado los elementos de polarización para poder recuperas esas configuraciones en prácticas subsiguientes."
   ]
  },
  {
   "cell_type": "code",
   "execution_count": null,
   "metadata": {},
   "outputs": [],
   "source": []
  },
  {
   "cell_type": "markdown",
   "metadata": {},
   "source": [
    "<div class=\"alert alert-block alert-info\">\n",
    "\n",
    "**IMPORTANTE:** No olvides guardar este archivo, una vez finalizada la práctica, en formatos .ipynb y .html, y guárdalos en la carpeta de tu pareja.\n",
    "  \n",
    "</div>"
   ]
  },
  {
   "cell_type": "markdown",
   "metadata": {},
   "source": [
    "<div class=\"alert alert-block alert-success\">\n",
    "    \n",
    "<b>Nota:</b>\n",
    "Guardaros también los archivos que habéis generado en un pendrive. Recuerda utilizar este archivo, para obtener información para las próximas prácticas.\n",
    "    \n",
    "</div>"
   ]
  }
 ],
 "metadata": {
  "kernelspec": {
   "display_name": "Python 3",
   "language": "python",
   "name": "python3"
  },
  "language_info": {
   "codemirror_mode": {
    "name": "ipython",
    "version": 3
   },
   "file_extension": ".py",
   "mimetype": "text/x-python",
   "name": "python",
   "nbconvert_exporter": "python",
   "pygments_lexer": "ipython3",
   "version": "3.7.1"
  },
  "latex_envs": {
   "LaTeX_envs_menu_present": true,
   "autoclose": false,
   "autocomplete": true,
   "bibliofile": "biblio.bib",
   "cite_by": "apalike",
   "current_citInitial": 1,
   "eqLabelWithNumbers": true,
   "eqNumInitial": 1,
   "hotkeys": {
    "equation": "Ctrl-E",
    "itemize": "Ctrl-I"
   },
   "labels_anchors": false,
   "latex_user_defs": false,
   "report_style_numbering": false,
   "user_envs_cfg": false
  },
  "toc": {
   "base_numbering": 1,
   "nav_menu": {},
   "number_sections": false,
   "sideBar": true,
   "skip_h1_title": false,
   "title_cell": "Table of Contents",
   "title_sidebar": "Contents",
   "toc_cell": false,
   "toc_position": {},
   "toc_section_display": true,
   "toc_window_display": true
  },
  "toc-autonumbering": true
 },
 "nbformat": 4,
 "nbformat_minor": 4
}
