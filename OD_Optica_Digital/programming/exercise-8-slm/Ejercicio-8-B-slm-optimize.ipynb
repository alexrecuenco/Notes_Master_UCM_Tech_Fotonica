{
 "cells": [
  {
   "cell_type": "markdown",
   "metadata": {},
   "source": [
    "![Alt text](http://www.ucm.es/logo/ucm.png \"a title\")\n",
    "\n",
    "<div align=\"center\"> \n",
    "<font size=5> Máster en Nuevas Tecnologías Electrónicas y Fotónicas </font>\n",
    "</div>\n",
    "    \n",
    "<div align=\"center\"> \n",
    "<font size=4> Óptica Digital, curso 2021-2022 </font>\n",
    "</div>\n",
    "\n",
    "    \n",
    "<div align=\"center\"> \n",
    "<font size=4> Ejercicio A - Funcionamiento de los SLM </font>\n",
    "</div>"
   ]
  },
  {
   "cell_type": "markdown",
   "metadata": {
    "ExecuteTime": {
     "end_time": "2021-09-03T08:07:15.590395Z",
     "start_time": "2021-09-03T08:07:15.586258Z"
    }
   },
   "source": [
    "- **Fecha**: 11 Dec 2022\n",
    "        \n",
    "- **Alumno**: Alex Recuenco (Alejandro Gonzalez Recuenco) \n"
   ]
  },
  {
   "cell_type": "markdown",
   "metadata": {},
   "source": [
    "# Introducción\n",
    "\n",
    "En este ejercicio vamos a trabajar con la calibración del SLM para encontrar unas condiciones de modulación de amplitud y modulación de fase. Para ello, hay que diseñar una función de mérito para cada una de los dos tipos de modulación y encontrar una configuración de ángulos para cada una mediante una optimización.\n",
    "\n",
    "## Cargar calibración del SLM\n",
    "\n",
    "Hay que realizar estos pasos para cargar la calibración como un objeto *Jones_vector* de *pypol*."
   ]
  },
  {
   "cell_type": "code",
   "execution_count": null,
   "metadata": {},
   "outputs": [],
   "source": [
    "import numpy as np\n",
    "from py_pol.jones_matrix import Jones_matrix\n",
    "from py_pol.jones_vector import Jones_vector"
   ]
  },
  {
   "cell_type": "code",
   "execution_count": null,
   "metadata": {},
   "outputs": [],
   "source": [
    "# Cargar datos del archivo NPZ (grabado con np.savez)\n",
    "data = np.load(\"SLM_Jones_components.npz\")\n",
    "# Definir una lista con las componentes de la matriz de Jones: J00, J01, J10 y J11\n",
    "components = [\n",
    "    data[\"J0\"] * np.exp(1j * data[\"d0\"]),\n",
    "    data[\"J1\"] * np.exp(1j * data[\"d1\"]),\n",
    "    data[\"J2\"] * np.exp(1j * data[\"d2\"]),\n",
    "    data[\"J3\"] * np.exp(1j * data[\"d3\"]),\n",
    "]\n",
    "# Crear el objeto py_pol\n",
    "Jslm = Jones_matrix()\n",
    "Jslm.from_components(components);"
   ]
  },
  {
   "cell_type": "markdown",
   "metadata": {},
   "source": [
    "## Sistema\n",
    "\n",
    "El sistema será igual que en el laboratorio: un haz inicial de polarización circular a derechas, un generador de estados (PSG) formado por un polarizador perfecto y una lámina de cuarto de onda que pueden rotar, el SLM, y un analizador de estados (PSA) formado por una lámina de cuarto de onda y un polarizador perfecto que pueden rotar."
   ]
  },
  {
   "cell_type": "markdown",
   "metadata": {},
   "source": [
    "# Análisis del SLM\n",
    "\n",
    "En primer lugar, vamos a estudiar el SLM que tenemos. Para ello, en primer lugar vamos a representar su matriz de Jones empleando diversas combinaciones de parámetros.\n",
    "\n",
    "## Parte real y parte imaginaria\n",
    "\n",
    "Primero vamos a representar la parte real y la parte imaginaria de los elementos de matriz. Para ello, es necesario extraer las componentes con el método *parameters.components*."
   ]
  },
  {
   "cell_type": "code",
   "execution_count": null,
   "metadata": {},
   "outputs": [],
   "source": [
    "compontents = Jslm.parameters.components()\n",
    "J00, J01, J10, J11 = components"
   ]
  },
  {
   "cell_type": "markdown",
   "metadata": {},
   "source": [
    "Ahora, representa en una figura con 2 filas y 4 columnas la parte real y la parte imaginaria de las diferentes componentes en función de los niveles de gris."
   ]
  },
  {
   "cell_type": "code",
   "execution_count": null,
   "metadata": {},
   "outputs": [],
   "source": [
    "import matplotlib.pyplot as plt\n",
    "from itertools import count\n",
    "\n",
    "fig, ax = plt.subplots(nrows=4, ncols=2, sharex=True, sharey=True)\n",
    "fig.suptitle(\"Componentes\")\n",
    "fig.supxlabel(\"gray level\")\n",
    "fig.supylabel(\"\")\n",
    "\n",
    "real_imag = map(lambda j: (np.real(j), np.imag(j)), components)\n",
    "for index, (col1, col2), (real, imag) in zip(count(), ax, real_imag):\n",
    "    col1.set_title(rf\"$\\Re(J_{{ {index:0>2b} }}) $\")\n",
    "    col1.plot(levels, real)\n",
    "    col2.set_title(rf\"$\\Im(J_{{ {index:0>2b} }}) $\")\n",
    "    col2.plot(levels, imag)\n",
    "fig.tight_layout()\n",
    "\n",
    "plt.show()\n",
    "plt.close()"
   ]
  },
  {
   "cell_type": "markdown",
   "metadata": {},
   "source": [
    "## Modulo y fase\n",
    "\n",
    "La representación en parte real e imaginaria, aunque correcta, no ofrece demasiada información. La representación en módulo y fase complejos ofrece algo más d información. Ahora, representa en una figura con 2 filas y 4 columnas el módulo y la fase complejas de las diferentes componentes en función de los niveles de gris."
   ]
  },
  {
   "cell_type": "code",
   "execution_count": null,
   "metadata": {},
   "outputs": [],
   "source": [
    "import matplotlib.pyplot as plt\n",
    "\n",
    "fig, ax = plt.subplots(nrows=4, ncols=2, sharex=True)\n",
    "fig.suptitle(\"Componentes\")\n",
    "fig.supxlabel(\"gray level\")\n",
    "fig.supylabel(\"\")\n",
    "\n",
    "mod_angle = map(lambda j: (np.abs(j), np.angle(j) / np.pi * 180), components)\n",
    "for index, (col1, col2), (real, imag) in zip(count(), ax, mod_angle):\n",
    "    col1.set_title(rf\"$|J_{{ {index:0>2b} }}| $\")\n",
    "    col1.plot(levels, mod)\n",
    "    col2.set_title(rf\"$\\phi(J_{{ {index:0>2b} }}) $\")\n",
    "    col2.plot(levels, angle)\n",
    "fig.tight_layout()\n",
    "\n",
    "plt.show()\n",
    "plt.close()"
   ]
  },
  {
   "cell_type": "markdown",
   "metadata": {},
   "source": [
    "## Descomposición polar\n",
    "\n",
    "La representación módulo - fase ofrece información clara para algunos estados incidentes simples, pero para otros es más complicado. Otra manera de representar la información de la matriz de Jones es utilizando el teorema de descomposición polar. Este teorema permite descomponer las matrices de Jones en un polarizador y un retardador. Los 8 parámetros que emplearemos será la fase global de la matriz de Jones del SLM, la retardancia del retardador, el azimut y la elipticidad del autoestado rápido del retardador, la transmisión máxima y mínima del polarizador, y el azimut y la elipticidad del autoestado de transmisión del polarizador. \n",
    "\n",
    "Para ello, hay que empezar por dividir la matriz de Jones del SLM en la de un retardador y un polarizador. Para ello, se usa el método *analysis.decompose_pure*."
   ]
  },
  {
   "cell_type": "code",
   "execution_count": null,
   "metadata": {},
   "outputs": [],
   "source": [
    "Jr, Jd, parameters = Jslm.analysis.decompose_pure(all_info=True)\n",
    "Jr: Jones_matrix\n",
    "Jd: Jones_matrix\n",
    "list(parameters.keys())"
   ]
  },
  {
   "cell_type": "markdown",
   "metadata": {},
   "source": [
    "Ahora ya se pueden extraer los parámetros del retardador y del diatenuador. Para ello se utilizan los métodos *analysis.diattenuator* y *analysis.retarder*."
   ]
  },
  {
   "cell_type": "code",
   "execution_count": null,
   "metadata": {
    "tags": []
   },
   "outputs": [],
   "source": [
    "# (trans_max, trans_min), (az_d, ellip_d) = Jd.analysis.diattenuator(transmissions=\"INTENSITY\", angles='AZIMUTH')\n",
    "# R, ang_r = Jr.analysis.retarder()\n",
    "# # fase global de la matriz de Jones del SLM,\n",
    "# # la retardancia del retardador,\n",
    "# retardance=Jr.parameters.retardance()\n",
    "# # el azimut y la elipticidad del autoestado rápido del retardador\n",
    "# R, (az,ellip) = Jr.analysis.retarder(angles=\"AZIMUTH\")\n",
    "# # la transmisión máxima y mínima del polarizador,\n",
    "# T_max, T_min = Jslm.parameters.transmissions()\n",
    "# # y el azimut y la elipticidad del autoestado de transmisión del polarizador.\n",
    "# Jslm.parameters.eigenvectors(angles=\"AZIMUTH\")\n",
    "\n",
    "list(parameters.keys())\n",
    "global_phase = Jslm.parameters.global_phase()\n",
    "\n",
    "characterization = {\n",
    "    \"global phase\": global_phase,\n",
    "    \"retardance\": parameters[\"R\"],\n",
    "    \"azimuth R\": parameters[\"azimuth R\"],\n",
    "    \"ellipticity R\": parameters[\"ellipticity R\"],\n",
    "    \"Transmitance max\": parameters[\"Tmax\"],\n",
    "    \"Transmitance min\": parameters[\"Tmin\"],\n",
    "    \"azimuth D\": parameters[\"azimuth D\"],\n",
    "    \"ellipticity D\": parameters[\"ellipticity D\"],\n",
    "}\n",
    "\n",
    "characterization"
   ]
  },
  {
   "cell_type": "markdown",
   "metadata": {},
   "source": [
    "Ya se pueden representar los parámetros en una figura de 2 filas y 4 columnas."
   ]
  },
  {
   "cell_type": "code",
   "execution_count": null,
   "metadata": {},
   "outputs": [],
   "source": [
    "import matplotlib.pyplot as plt\n",
    "import itertools\n",
    "\n",
    "fig, ax = plt.subplots(nrows=4, ncols=2, sharex=True)\n",
    "ax_flatten = [row for col in ax for row in col]\n",
    "fig.suptitle(\"Parametros\")\n",
    "fig.supxlabel(\"gray level\")\n",
    "fig.supylabel(\"\")\n",
    "ax_flatten\n",
    "\n",
    "for axis, (title, dat) in zip(ax_flatten, characterization.items()):\n",
    "    axis.set_title(title)\n",
    "    axis.plot(levels, dat)\n",
    "fig.tight_layout()\n",
    "\n",
    "plt.show()\n",
    "plt.close()"
   ]
  },
  {
   "cell_type": "markdown",
   "metadata": {},
   "source": [
    "Por último, hacer una breve descripción del SLM en función de los parámetros obtenidos."
   ]
  },
  {
   "cell_type": "markdown",
   "metadata": {},
   "source": [
    "# Modulacion\n"
   ]
  },
  {
   "cell_type": "code",
   "execution_count": null,
   "metadata": {},
   "outputs": [],
   "source": [
    "def transmission(angles, J: Jones_matrix) -> Jones_vector:\n",
    "    (a1, a2, a3, a4) = angles\n",
    "    Ein = Jones_vector().circular_light(\n",
    "        intensity=2\n",
    "    )  # intensity 2, since circular -> perfect diatenuator will remove half of it\n",
    "    Jp1 = Jones_matrix().diattenuator_perfect(azimuth=a1)\n",
    "    Jr1 = Jones_matrix().quarter_waveplate(azimuth=a2)\n",
    "    Jr2 = Jones_matrix().quarter_waveplate(azimuth=a2)\n",
    "    Jp2 = Jones_matrix().diattenuator_perfect(azimuth=a2)\n",
    "    # Efin: Jones_vector = Jp2 * Jr2 * Jslm * Jr1 * Ein\n",
    "    # Ifin, phase = Efin.parameters.intensity(), Efin.parameters.global_phase()\n",
    "    # global_ = Efin.parameters.inte.global_phase()\n",
    "    Efin: Jones_vector = Jp2 * Jr2 * J * Jr1 * Jp1 * Ein\n",
    "    return Efin\n",
    "\n",
    "\n",
    "def parameters_amplitud_phase(E: Jones_vector):\n",
    "    global_phase_init = E.parameters.global_phase()\n",
    "    global_phase = global_phase\n",
    "    return E.parameters.intensity(), (E.parameters.global_phase() % 2 * np.pi)\n",
    "\n",
    "\n",
    "def parameters_az_el(E: Jones_vector):\n",
    "    return E.parameters.azimuth_ellipticity()"
   ]
  },
  {
   "cell_type": "markdown",
   "metadata": {},
   "source": [
    "# Modulación de amplitud\n",
    "\n",
    "## Función de mérito\n",
    "\n",
    "Define una buena función de mérito que sirva para encontrar una configuración de modulación de amplitud."
   ]
  },
  {
   "cell_type": "code",
   "execution_count": null,
   "metadata": {},
   "outputs": [],
   "source": [
    "ideal_amplitud = np.arange(256) / 256\n",
    "ideal_phase = np.zeros(ideal_amplitud.shape) + np.pi\n",
    "\n",
    "\n",
    "def plot_amplitud_phase(t, phase, *, levels=levels):\n",
    "    fig, (ax1, ax2) = plt.subplots(nrows=1, ncols=2)\n",
    "\n",
    "    fig.suptitle(\"Amplitud Calibration\")\n",
    "    ax1.set_title(\"Amplitud\")\n",
    "    ax1.plot(levels, t)\n",
    "    ax2.set_title(\"Phase\")\n",
    "    ax2.plot(levels, phase)\n",
    "\n",
    "\n",
    "def err(\n",
    "    angles,\n",
    "    *,\n",
    "    J: Jones_matrix = Jslm,\n",
    "    ideal_amplitud=ideal_amplitud,\n",
    "    ideal_phase=ideal_phase\n",
    "):\n",
    "    E = transmission(angles, J)\n",
    "    t, phase = parameters_amplitud_phase(E)\n",
    "    normalized_phase = phase\n",
    "    normalized_ideal_phase = ideal_phase\n",
    "    phase_diff = normalized_phase - normalized_ideal_phase\n",
    "    phase_err = np.abs(phase_diff)\n",
    "    t_err = np.abs((t - ideal_amplitud))\n",
    "    return np.sum(t_err) + np.sum(phase_err)\n",
    "\n",
    "\n",
    "plot_amplitud_phase(ideal_amplitud, ideal_phase)"
   ]
  },
  {
   "cell_type": "markdown",
   "metadata": {},
   "source": [
    "## Optimización\n",
    "\n",
    "Encuentra la configuración de modulación de amplitud empleando la función de mérito definida en el apartado anterior. El resultado debe ser los ángulos de los polarizadores y láminas de cuarto de onda del PSG y del PSA, además de una representación de la transmisión en amplitud y fase del sistema en dicha configuración."
   ]
  },
  {
   "cell_type": "code",
   "execution_count": null,
   "metadata": {},
   "outputs": [],
   "source": [
    "from scipy.optimize import minimize\n",
    "\n",
    "solution = minimize(\n",
    "    err,\n",
    "    np.random.uniform(np.pi / 4, np.pi / 2, size=4),\n",
    "    options={\"disp\": True},\n",
    "    method=\"Nelder-Mead\",\n",
    "    bounds=[[0, 2 * np.pi]] * 4,\n",
    ")\n",
    "solution"
   ]
  },
  {
   "cell_type": "code",
   "execution_count": null,
   "metadata": {},
   "outputs": [],
   "source": [
    "print(\n",
    "    f\"Solution is {solution['x']}. Angles are, in order: Polarizer, Quarter waveplet, quarter Waveplet Polarizer\"\n",
    ")"
   ]
  },
  {
   "cell_type": "code",
   "execution_count": null,
   "metadata": {},
   "outputs": [],
   "source": [
    "E = transmission(solution[\"x\"], J=Jslm)\n",
    "\n",
    "t, phase = parameters_amplitud_phase(E)\n",
    "plot_amplitud_phase(t, phase)"
   ]
  },
  {
   "cell_type": "markdown",
   "metadata": {},
   "source": [
    "La modulación de la fase sale bastante mal, da igual como lo intente para mantenerla constante."
   ]
  },
  {
   "cell_type": "markdown",
   "metadata": {},
   "source": [
    "# Modulación de fase\n",
    "\n",
    "## Función de mérito\n",
    "\n",
    "Define una buena función de mérito que sirva para encontrar una configuración de modulación de fase."
   ]
  },
  {
   "cell_type": "code",
   "execution_count": null,
   "metadata": {},
   "outputs": [],
   "source": [
    "ideal_phase = np.pi * 2 * np.arange(256) / 255\n",
    "ideal_amplitud = np.ones(ideal_amplitud.shape)\n",
    "\n",
    "fig, (ax1, ax2) = plt.subplots(nrows=1, ncols=2, sharex=True)\n",
    "fig.suptitle(\"Ideal\")\n",
    "ax1.set_title(\"Amplitud\")\n",
    "ax2.set_title(\"Phase\")\n",
    "ax1.plot(levels, ideal_amplitud)\n",
    "ax2.plot(levels, ideal_phase)"
   ]
  },
  {
   "cell_type": "code",
   "execution_count": null,
   "metadata": {},
   "outputs": [],
   "source": []
  },
  {
   "cell_type": "markdown",
   "metadata": {},
   "source": [
    "## Optimización\n",
    "\n",
    "Encuentra la configuración de modulación de fase empleando la función de mérito definida en el apartado anterior. El resultado debe ser los ángulos de los polarizadores y láminas de cuarto de onda del PSG y del PSA, además de una representación de la transmisión en amplitud y fase del sistema en dicha configuración."
   ]
  },
  {
   "cell_type": "code",
   "execution_count": null,
   "metadata": {},
   "outputs": [],
   "source": [
    "from functools import partial\n",
    "from scipy.optimize import minimize\n",
    "\n",
    "\n",
    "def err(\n",
    "    angles,\n",
    "    *,\n",
    "    J: Jones_matrix = Jslm,\n",
    "    ideal_amplitud=ideal_amplitud,\n",
    "    ideal_phase=ideal_phase,\n",
    "):\n",
    "    E = transmission(angles, J)\n",
    "    t, phase = parameters_amplitud_phase(E)\n",
    "    normalized_phase = phase / (2 * np.pi)\n",
    "    normalized_ideal_phase = ideal_phase / (2 * np.pi)\n",
    "    phase_diff = normalized_phase - normalized_ideal_phase\n",
    "    phase_err = np.sum((phase_diff) ** 2)\n",
    "    t_err = np.sum((t - ideal_amplitud) ** 2)\n",
    "    return phase_err * t_err / (phase_err + t_err)\n",
    "\n",
    "\n",
    "ideal_phase = np.pi * 2 * np.arange(256) / 255\n",
    "ideal_amplitud = np.ones(ideal_amplitud.shape)\n",
    "\n",
    "phase_err = partial(err, ideal_phase=ideal_phase, ideal_amplitud=ideal_amplitud)\n",
    "\n",
    "solution = minimize(\n",
    "    err,\n",
    "    np.random.uniform(np.pi / 4, 3 * np.pi / 2, size=4),\n",
    "    options={\"disp\": True},\n",
    "    method=\"Nelder-Mead\",\n",
    "    bounds=[[0, 2 * np.pi]] * 4,\n",
    ")\n",
    "\n",
    "\n",
    "print(\n",
    "    f\"Solution is {solution}. Angles are, in order: Polarizer, Quarter waveplet, quarter Waveplet Polarizer\"\n",
    ")\n",
    "solution"
   ]
  },
  {
   "cell_type": "code",
   "execution_count": null,
   "metadata": {},
   "outputs": [],
   "source": [
    "E = transmission(solution[\"x\"], J=Jslm)\n",
    "\n",
    "t, phase = parameters_amplitud_phase(E)\n",
    "plot_amplitud_phase(t, phase)"
   ]
  },
  {
   "cell_type": "markdown",
   "metadata": {},
   "source": [
    "Lo mas seguro es que lo estoy haciendo mal.\n",
    "\n",
    "Sin embargo, cuando veo las graficas de la fase global, parece que es muy dificil consegui un cambio de esta fase global en nuestro sistema."
   ]
  }
 ],
 "metadata": {
  "kernelspec": {
   "display_name": "Python 3.10.3 ('env': venv)",
   "language": "python",
   "name": "python3"
  },
  "language_info": {
   "codemirror_mode": {
    "name": "ipython",
    "version": 3
   },
   "file_extension": ".py",
   "mimetype": "text/x-python",
   "name": "python",
   "nbconvert_exporter": "python",
   "pygments_lexer": "ipython3",
   "version": "3.10.3"
  },
  "latex_envs": {
   "LaTeX_envs_menu_present": true,
   "autoclose": false,
   "autocomplete": true,
   "bibliofile": "biblio.bib",
   "cite_by": "apalike",
   "current_citInitial": 1,
   "eqLabelWithNumbers": true,
   "eqNumInitial": 1,
   "hotkeys": {
    "equation": "Ctrl-E",
    "itemize": "Ctrl-I"
   },
   "labels_anchors": false,
   "latex_user_defs": false,
   "report_style_numbering": false,
   "user_envs_cfg": false
  },
  "toc": {
   "base_numbering": 1,
   "nav_menu": {},
   "number_sections": false,
   "sideBar": true,
   "skip_h1_title": true,
   "title_cell": "Table of Contents",
   "title_sidebar": "Contents",
   "toc_cell": false,
   "toc_position": {},
   "toc_section_display": true,
   "toc_window_display": false
  },
  "vscode": {
   "interpreter": {
    "hash": "dc988374c93268eb4bbdbb388996892ca7ce2166a8df0f80e60341213632aaf8"
   }
  },
  "widgets": {
   "application/vnd.jupyter.widget-state+json": {
    "state": {},
    "version_major": 2,
    "version_minor": 0
   }
  }
 },
 "nbformat": 4,
 "nbformat_minor": 4
}
