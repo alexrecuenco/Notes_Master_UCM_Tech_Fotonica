{
 "cells": [
  {
   "cell_type": "markdown",
   "metadata": {},
   "source": [
    "![Alt text](http://www.ucm.es/logo/ucm.png \"a title\")\n",
    "\n",
    "<div align=\"center\"> \n",
    "<font size=5> Máster en Nuevas Tecnologías Electrónicas y Fotónicas </font>\n",
    "</div>\n",
    "    \n",
    "<div align=\"center\"> \n",
    "<font size=4> Óptica Digital, curso 2021-2022 </font>\n",
    "</div>\n",
    "\n",
    "    \n",
    "<div align=\"center\"> \n",
    "<font size=4> Ejercicio A - Introducción a Py_pol </font>\n",
    "</div>"
   ]
  },
  {
   "cell_type": "markdown",
   "metadata": {
    "ExecuteTime": {
     "end_time": "2021-09-03T08:07:15.590395Z",
     "start_time": "2021-09-03T08:07:15.586258Z"
    }
   },
   "source": [
    "- **Fecha**: *\n",
    "        \n",
    "- **Alumno**: *  \n"
   ]
  },
  {
   "cell_type": "markdown",
   "metadata": {},
   "source": [
    "# Introducción\n",
    "\n",
    "Este es un ejercicio sencillo para empezar a utilizar el módulo *py_pol*."
   ]
  },
  {
   "cell_type": "code",
   "execution_count": null,
   "metadata": {},
   "outputs": [],
   "source": [
    "import numpy as np\n",
    "import matplotlib.pyplot as plt\n",
    "from py_pol.jones_matrix import Jones_matrix\n",
    "from py_pol.jones_vector import Jones_vector"
   ]
  },
  {
   "cell_type": "markdown",
   "metadata": {},
   "source": [
    "# 1. Generador de estados\n",
    "\n",
    "Vamos a modelar un generador de estados compuesto por los mismos elementos que vemos en clase y en el laboratorio: una fuente de luz circularmente polarizada y un polarizador y una lámina de cuarto de onda rotatorios. Utilizaremos elementos ideales por simplicidad.\n",
    "\n",
    "El ejercicio consiste en una demostración ilustrativa de las ecuaciones que relacionan los ángulos de los elementos del PSG con el acimut y el ángulo de elipticidad del estado generado. Para ello tendréis que realizar los siguientes pasos.\n",
    "\n",
    "1. Crear un elemento *Jones_matrix* que represente al polarizador y otro al retardador. Estos elementos deben tener todas las posibles combinaciones de ángulos de giro (entre 0º y 180º) con una resolución mínima de 1º. Para esto será de gran ayuda la función *meshgrid* de *numpy*.\n",
    "2. Crear la fuente circularmente polarizada como un *Jones_vector*. Multiplicar adecuadamente los elementos para obtener el estado a la salida del PSG.\n",
    "3. Representar gráficamente el aimut y el ángulo de elipticidad del estado final. Para ello serán de gran ayuda los métodos *azimuth* y *ellipticity* de la subclase *Jones_vector.parameters*.\n",
    "4. Representar gráficamente el resultado de aplicar las ecuaciones dadas en clase que calculan el acimut y el ángulo de elipticidad del estado final a partir de los ángulos de los elementos del PSG.\n",
    "5. Analizar las diferencias."
   ]
  },
  {
   "cell_type": "code",
   "execution_count": null,
   "metadata": {},
   "outputs": [],
   "source": []
  },
  {
   "cell_type": "markdown",
   "metadata": {},
   "source": [
    "# 2. Analizador de estados\n",
    "\n",
    "Ahora vamos a modelar el analizador de estados, de nuevo con una lámina de cuarto de onda y un polarizador rotatorios. De nuevo, serán elementos ideales.\n",
    "\n",
    "El ejercicio consistirá en una demostración visual de que el estado analizado es aquel que tiene mayor transmisión (1 porque emplearemos elementos ideales) y su estado ortogonal la mínima (0 en el caso de elementos ideales). Para ello debéis realizar los siguientes pasos.\n",
    "\n",
    "1. Crear dos objetos *Jones_matrix* que representen al retardador y polarizador del PSA. Escoger sus ángulos para que el estado analizado tenga un acimut y un ángulo de elipticidad conocidos pero generados aleatoriamente (por ejemplo, empleando la función *numpy.random.randint*). \n",
    "2. Crear un objeto *Jones_vector* que va a ser el estado incidente. Este objeto tiene que contener todas las combinaciones posibles de acimut y ángulo de elipticidad (entre 0º y 180º y -45º y 45º) con una resolución mínima de 1º.\n",
    "3. Multiplicar los elementos de manera que se pueda calcular el estado final.\n",
    "4. Calcular y representar la transmisión de intensidad del PSA.\n",
    "5. Identificar los puntos de transmisión 0 y 1. Pueden ser de utilidad las funciones *argmin*, *argmax* y *unravel_index* de *numpy*."
   ]
  },
  {
   "cell_type": "code",
   "execution_count": null,
   "metadata": {},
   "outputs": [],
   "source": []
  }
 ],
 "metadata": {
  "kernelspec": {
   "display_name": "Python 3.10.3 ('env': venv)",
   "language": "python",
   "name": "python3"
  },
  "language_info": {
   "codemirror_mode": {
    "name": "ipython",
    "version": 3
   },
   "file_extension": ".py",
   "mimetype": "text/x-python",
   "name": "python",
   "nbconvert_exporter": "python",
   "pygments_lexer": "ipython3",
   "version": "3.10.3"
  },
  "latex_envs": {
   "LaTeX_envs_menu_present": true,
   "autoclose": false,
   "autocomplete": true,
   "bibliofile": "biblio.bib",
   "cite_by": "apalike",
   "current_citInitial": 1,
   "eqLabelWithNumbers": true,
   "eqNumInitial": 1,
   "hotkeys": {
    "equation": "Ctrl-E",
    "itemize": "Ctrl-I"
   },
   "labels_anchors": false,
   "latex_user_defs": false,
   "report_style_numbering": false,
   "user_envs_cfg": false
  },
  "toc": {
   "base_numbering": 1,
   "nav_menu": {},
   "number_sections": false,
   "sideBar": true,
   "skip_h1_title": true,
   "title_cell": "Table of Contents",
   "title_sidebar": "Contents",
   "toc_cell": false,
   "toc_position": {},
   "toc_section_display": true,
   "toc_window_display": false
  },
  "vscode": {
   "interpreter": {
    "hash": "dc988374c93268eb4bbdbb388996892ca7ce2166a8df0f80e60341213632aaf8"
   }
  },
  "widgets": {
   "application/vnd.jupyter.widget-state+json": {
    "state": {},
    "version_major": 2,
    "version_minor": 0
   }
  }
 },
 "nbformat": 4,
 "nbformat_minor": 4
}
