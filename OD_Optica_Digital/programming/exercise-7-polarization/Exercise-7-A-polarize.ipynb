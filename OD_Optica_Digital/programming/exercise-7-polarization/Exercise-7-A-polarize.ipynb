{
 "cells": [
  {
   "cell_type": "markdown",
   "metadata": {},
   "source": [
    "![Alt text](http://www.ucm.es/logo/ucm.png \"a title\")\n",
    "\n",
    "<div align=\"center\"> \n",
    "<font size=5> Máster en Nuevas Tecnologías Electrónicas y Fotónicas </font>\n",
    "</div>\n",
    "    \n",
    "<div align=\"center\"> \n",
    "<font size=4> Óptica Digital, curso 2021-2022 </font>\n",
    "</div>\n",
    "\n",
    "    \n",
    "<div align=\"center\"> \n",
    "<font size=4> Ejercicio A - Introducción a Py_pol </font>\n",
    "</div>"
   ]
  },
  {
   "cell_type": "markdown",
   "metadata": {
    "ExecuteTime": {
     "end_time": "2021-09-03T08:07:15.590395Z",
     "start_time": "2021-09-03T08:07:15.586258Z"
    }
   },
   "source": [
    "- **Fecha**: Nov 27th 2022\n",
    "        \n",
    "- **Alumno**: Alex Recuenco (Alejandro Gonzalez Recuenco)\n"
   ]
  },
  {
   "cell_type": "markdown",
   "metadata": {},
   "source": [
    "# Introducción\n",
    "\n",
    "Este es un ejercicio sencillo para empezar a utilizar el módulo *py_pol*."
   ]
  },
  {
   "cell_type": "code",
   "execution_count": null,
   "metadata": {},
   "outputs": [],
   "source": [
    "import numpy as np\n",
    "import matplotlib.pyplot as plt\n",
    "from py_pol.jones_matrix import Jones_matrix\n",
    "from py_pol.jones_vector import Jones_vector"
   ]
  },
  {
   "cell_type": "code",
   "execution_count": null,
   "metadata": {},
   "outputs": [],
   "source": [
    "def label(ax, title: str):\n",
    "    ax.set_title(title)\n",
    "    ax.set_xlabel(r\"$\\alpha$ (pol)\")\n",
    "    ax.set_ylabel(r\"$\\alpha$ (ret)\")\n",
    "\n",
    "\n",
    "def plt_az_ellip(mesh_x, mesh_y, az_ell, *, label=label, title=None):\n",
    "    (azimuth, ellipticity) = az_ell\n",
    "\n",
    "    fig, (az_plt, el_plt) = plt.subplots(1, 2, constrained_layout=True)\n",
    "    if title:\n",
    "        plt.title(title)\n",
    "    az_plt.pcolor(mesh_x, mesh_y, np.mod(azimuth + np.pi / 2, np.pi))\n",
    "    el_plt.pcolor(mesh_x, mesh_y, np.mod(ellipticity + np.pi / 2, np.pi))\n",
    "    label(az_plt, title=\"azimuth\")\n",
    "    label(el_plt, title=\"ellipticity\")\n",
    "    plt.show()"
   ]
  },
  {
   "cell_type": "markdown",
   "metadata": {},
   "source": [
    "# 1. Generador de estados\n",
    "\n",
    "Vamos a modelar un generador de estados compuesto por los mismos elementos que vemos en clase y en el laboratorio: una fuente de luz circularmente polarizada y un polarizador y una lámina de cuarto de onda rotatorios. Utilizaremos elementos ideales por simplicidad.\n",
    "\n",
    "El ejercicio consiste en una demostración ilustrativa de las ecuaciones que relacionan los ángulos de los elementos del PSG con el acimut y el ángulo de elipticidad del estado generado. Para ello tendréis que realizar los siguientes pasos.\n",
    "\n",
    "1. Crear un elemento *Jones_matrix* que represente al polarizador y otro al retardador. Estos elementos deben tener todas las posibles combinaciones de ángulos de giro (entre 0º y 180º) con una resolución mínima de 1º. Para esto será de gran ayuda la función *meshgrid* de *numpy*.\n",
    "2. Crear la fuente circularmente polarizada como un *Jones_vector*. Multiplicar adecuadamente los elementos para obtener el estado a la salida del PSG.\n",
    "3. Representar gráficamente el aimut y el ángulo de elipticidad del estado final. Para ello serán de gran ayuda los métodos *azimuth* y *ellipticity* de la subclase *Jones_vector.parameters*.\n",
    "4. Representar gráficamente el resultado de aplicar las ecuaciones dadas en clase que calculan el acimut y el ángulo de elipticidad del estado final a partir de los ángulos de los elementos del PSG.\n",
    "5. Analizar las diferencias."
   ]
  },
  {
   "cell_type": "code",
   "execution_count": null,
   "metadata": {},
   "outputs": [],
   "source": [
    "degree_to_rad = np.pi / 180\n",
    "angles = np.arange(0.0, 180.0, step=1) * degree_to_rad\n",
    "(a_pol, a_retarder) = np.meshgrid(angles, angles)\n",
    "\n",
    "laser = Jones_vector(\"laser\").circular_light()\n",
    "polarizer = Jones_matrix(\"polarizer\").diattenuator_perfect(azimuth=a_pol)\n",
    "retarder = Jones_matrix(\"retarder\").retarder_linear(azimuth=a_retarder)\n",
    "\n",
    "output = retarder * polarizer * laser\n",
    "\n",
    "az, ell = output.parameters.azimuth_ellipticity()\n",
    "plt_az_ellip(a_pol / degree_to_rad, a_retarder / degree_to_rad, (az, ell))\n",
    "plt.close()"
   ]
  },
  {
   "cell_type": "markdown",
   "metadata": {},
   "source": [
    "Normally after polarizer we would get polarizer defining the azimuth and zero ellepticity. \n",
    "Then, the retarter would change the ellepticity angle as $\\chi = \\theta_{Q} - \\theta_P$ and $\\phi = \\theta_P$\n",
    "\n",
    "\n",
    "They look different, but this is because numbers are wriapping... I think. The direction of change in both of them is the same"
   ]
  },
  {
   "cell_type": "code",
   "execution_count": null,
   "metadata": {},
   "outputs": [],
   "source": [
    "(az_theory, ell_theory) = (a_retarder, a_pol - a_retarder)\n",
    "plt_az_ellip(a_pol / degree_to_rad, a_retarder / degree_to_rad, (az_theory, ell_theory))"
   ]
  },
  {
   "cell_type": "markdown",
   "metadata": {},
   "source": [
    "Dibujamos las diferencias. Se puede ver que el color el plano, lo cual indica que la diferencia es un artefacto de la convención de ángulos. Se podría recuperar la convención, con cuidado de evaluar cómo se hace internamente, comparándolo con como lo hemos calculado externamente."
   ]
  },
  {
   "cell_type": "code",
   "execution_count": null,
   "metadata": {},
   "outputs": [],
   "source": [
    "plt_az_ellip(\n",
    "    a_pol / degree_to_rad,\n",
    "    a_retarder / degree_to_rad,\n",
    "    (az_theory - az, ell_theory - ell),\n",
    "    title=\"difference\",\n",
    ")"
   ]
  },
  {
   "cell_type": "markdown",
   "metadata": {},
   "source": [
    "# 2. Analizador de estados\n",
    "\n",
    "Ahora vamos a modelar el analizador de estados, de nuevo con una lámina de cuarto de onda y un polarizador rotatorios. De nuevo, serán elementos ideales.\n",
    "\n",
    "El ejercicio consistirá en una demostración visual de que el estado analizado es aquel que tiene mayor transmisión (1 porque emplearemos elementos ideales) y su estado ortogonal la mínima (0 en el caso de elementos ideales). Para ello debéis realizar los siguientes pasos.\n",
    "\n",
    "1. Crear dos objetos *Jones_matrix* que representen al retardador y polarizador del PSA. Escoger sus ángulos para que el estado analizado tenga un acimut y un ángulo de elipticidad conocidos pero generados aleatoriamente (por ejemplo, empleando la función *numpy.random.randint*). \n",
    "2. Crear un objeto *Jones_vector* que va a ser el estado incidente. Este objeto tiene que contener todas las combinaciones posibles de acimut y ángulo de elipticidad (entre 0º y 180º y -45º y 45º) con una resolución mínima de 1º.\n",
    "3. Multiplicar los elementos de manera que se pueda calcular el estado final.\n",
    "4. Calcular y representar la transmisión de intensidad del PSA.\n",
    "5. Identificar los puntos de transmisión 0 y 1. Pueden ser de utilidad las funciones *argmin*, *argmax* y *unravel_index* de *numpy*."
   ]
  },
  {
   "cell_type": "markdown",
   "metadata": {},
   "source": [
    "El ejercicio se resuelve visualmente"
   ]
  },
  {
   "cell_type": "code",
   "execution_count": null,
   "metadata": {},
   "outputs": [],
   "source": [
    "import py_pol\n",
    "\n",
    "az_radian = np.arange(0.0, 180.0, step=1) * degree_to_rad\n",
    "el_radian = np.arange(-45, 45.0, step=1) * degree_to_rad\n",
    "(az_radian, el_radian) = np.meshgrid(az_radian, el_radian)\n",
    "\n",
    "laser = Jones_vector(\"laser\").general_azimuth_ellipticity(\n",
    "    azimuth=az_radian, ellipticity=el_radian\n",
    ")\n",
    "\n",
    "(a_pol, a_retarder) = (145 * degree_to_rad, 80 * degree_to_rad)\n",
    "\n",
    "polarizer = Jones_matrix(\"polarizer\").diattenuator_perfect(azimuth=a_pol)\n",
    "retarder = Jones_matrix(\"retarder\").retarder_linear(azimuth=a_retarder)\n",
    "PSA: Jones_matrix = polarizer * retarder\n",
    "\n",
    "output = PSA * laser\n",
    "\n",
    "intensity = output.parameters.intensity(draw=False)\n",
    "\n",
    "min = intensity.argmin()\n",
    "max = intensity.argmax()\n",
    "plt.pcolor(az_radian / degree_to_rad, el_radian / degree_to_rad, intensity)\n",
    "\n",
    "# Verifying\n",
    "max_i = intensity.flatten()[max]\n",
    "min_i = intensity.flatten()[min]\n",
    "# Plot max/min points\n",
    "az_degree = az_radian.flatten() / degree_to_rad\n",
    "el_degree = el_radian.flatten() / degree_to_rad\n",
    "plt.scatter(az_degree[min], el_degree[min])\n",
    "plt.scatter(az_degree[max], el_degree[max])\n",
    "plt.show()"
   ]
  }
 ],
 "metadata": {
  "kernelspec": {
   "display_name": "Python 3.10.3 ('env': venv)",
   "language": "python",
   "name": "python3"
  },
  "language_info": {
   "codemirror_mode": {
    "name": "ipython",
    "version": 3
   },
   "file_extension": ".py",
   "mimetype": "text/x-python",
   "name": "python",
   "nbconvert_exporter": "python",
   "pygments_lexer": "ipython3",
   "version": "3.10.3"
  },
  "latex_envs": {
   "LaTeX_envs_menu_present": true,
   "autoclose": false,
   "autocomplete": true,
   "bibliofile": "biblio.bib",
   "cite_by": "apalike",
   "current_citInitial": 1,
   "eqLabelWithNumbers": true,
   "eqNumInitial": 1,
   "hotkeys": {
    "equation": "Ctrl-E",
    "itemize": "Ctrl-I"
   },
   "labels_anchors": false,
   "latex_user_defs": false,
   "report_style_numbering": false,
   "user_envs_cfg": false
  },
  "toc": {
   "base_numbering": 1,
   "nav_menu": {},
   "number_sections": false,
   "sideBar": true,
   "skip_h1_title": true,
   "title_cell": "Table of Contents",
   "title_sidebar": "Contents",
   "toc_cell": false,
   "toc_position": {},
   "toc_section_display": true,
   "toc_window_display": false
  },
  "vscode": {
   "interpreter": {
    "hash": "dc988374c93268eb4bbdbb388996892ca7ce2166a8df0f80e60341213632aaf8"
   }
  },
  "widgets": {
   "application/vnd.jupyter.widget-state+json": {
    "state": {},
    "version_major": 2,
    "version_minor": 0
   }
  }
 },
 "nbformat": 4,
 "nbformat_minor": 4
}
