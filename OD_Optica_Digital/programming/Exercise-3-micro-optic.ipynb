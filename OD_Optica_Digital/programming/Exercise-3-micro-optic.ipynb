{
 "cells": [
  {
   "cell_type": "markdown",
   "metadata": {},
   "source": [
    "![Alt text](http://www.ucm.es/logo/ucm.png \"a title\")\n",
    "\n",
    "<div align=\"center\"> \n",
    "<font size=5> Máster en Nuevas Tecnologías Electrónicas y Fotónicas </font>\n",
    "</div>\n",
    "    \n",
    "<div align=\"center\"> \n",
    "<font size=4> Óptica Digital, curso 2022-2023 </font>\n",
    "</div>\n",
    "\n",
    "    \n",
    "<div align=\"center\"> \n",
    "<font size=4>   </font>\n",
    "</div>\n",
    "\n",
    "\n",
    "<div align=\"center\"> \n",
    "<font size=5> Ejercicio 3 - Micro-óptica </font>\n",
    "</div>"
   ]
  },
  {
   "cell_type": "markdown",
   "metadata": {
    "ExecuteTime": {
     "end_time": "2021-09-03T08:07:15.590395Z",
     "start_time": "2021-09-03T08:07:15.586258Z"
    }
   },
   "source": [
    "- **Fecha**: \n",
    "        \n",
    "- **Alumno**: Alex Recuenco (Alejandro G Recuenco)"
   ]
  },
  {
   "cell_type": "code",
   "execution_count": null,
   "metadata": {},
   "outputs": [],
   "source": [
    "from matplotlib import rcParams\n",
    "\n",
    "rcParams[\"figure.dpi\"] = 250\n",
    "\n",
    "from matplotlib import pyplot as plt\n",
    "from diffractio.scalar_masks_XZ import Scalar_mask_XZ\n",
    "from diffractio.utils_drawing import draw_several_fields\n",
    "\n",
    "\n",
    "def draw_intensity_phase_XY(field: Scalar_mask_XZ, title: str):\n",
    "    # Bug: Draw_several_fields only works for XY\n",
    "    draw_several_fields(\n",
    "        fields=(field, field), kinds=[\"intensity\", \"phase\"], title=title, logarithm=1e2\n",
    "    )\n",
    "    axes = plt.gca()\n",
    "    axes.figure._suptitle.set_fontsize(12)\n",
    "\n",
    "    plt.show()"
   ]
  },
  {
   "cell_type": "code",
   "execution_count": null,
   "metadata": {},
   "outputs": [],
   "source": []
  },
  {
   "cell_type": "code",
   "execution_count": null,
   "metadata": {},
   "outputs": [],
   "source": []
  },
  {
   "cell_type": "markdown",
   "metadata": {},
   "source": [
    "# Introducción\n",
    "En estos ejercicios nos vamos a centrar en elementos microópticos como lentes de Fresnel y redes de difraccion."
   ]
  },
  {
   "cell_type": "markdown",
   "metadata": {},
   "source": [
    "# Enunciados\n",
    "\n",
    "1. Sea una lente estándar de focal f′=10 mm y diámetro D=0.5 mm.\n",
    "\n",
    " a. Determine, en el marco XY y utilizando la aproximación de elemento delgado, la distribución de intensidad en el plano focal, mediante el modelo de Rayleigh-Sommerfeld.  Determine, a partir de esta imagen, el perfil radial de intensidad.\n",
    " \n",
    " b. Haga lo mismo para una lente de Fresnel binaria de amplitud con los mismos parámetros constructivos.\n",
    " \n",
    " c. Idem para una lente de Fresnel de fase, de desfase $\\pi$.\n",
    "    \n",
    " d. Compare los 3 perfiles de intensidad.\n",
    " \n",
    " Para la visualización de los focos, haga un recorte de la imagen (plt.xlim y plt.ylim,  o cut_resample) para poder observarlo adecuadamente. También puede utilizar el parámetro logarithm de .draw() para resaltar los anillos."
   ]
  },
  {
   "cell_type": "markdown",
   "metadata": {},
   "source": [
    "2. Sea una lente de Fresnel binaria de fase, cuya focal es f′=10 mm y diámetro D=0.5 mm. Determine, en el marco XY y utilizando la aproximación de elemento delgado y el modelo de Rayleigh-Sommerfeld, la intensidad máxima en el foco en función del desfase entre las almenas de la lente, dentro del rango (0 - 2π).\n",
    "\n"
   ]
  },
  {
   "cell_type": "markdown",
   "metadata": {},
   "source": [
    "3. Sea una red de Ronchi (con factor de relleno 0.5). Se pretende visualizar el efecto Talbot, mediante el formalismo XZ. Para ello se ilumina la red con una onda plana y se propaga mediante la función RS una distancia de varias veces la distancia de Talbot: $z_T = 2 p^2 / \\lambda$, siendo p el periodo y $\\lambda$ la longitud de onda (elegid los parámetros adecuados) para una correcta visualización. Como existe un efecto de borde al propagar, se puede recortar en el eje x, para eliminar dicho efecto de borde."
   ]
  },
  {
   "cell_type": "markdown",
   "metadata": {},
   "source": [
    "Proponga un valor para los parámetros que no vengan en el enunciado. En todos los casos, los resultados son gráficas de intensidad y fase luminosa."
   ]
  },
  {
   "cell_type": "markdown",
   "metadata": {},
   "source": [
    "## Resolución 1\n"
   ]
  },
  {
   "cell_type": "code",
   "execution_count": null,
   "metadata": {},
   "outputs": [],
   "source": [
    "from dataclasses import dataclass, replace, field\n",
    "from typing import Tuple, Callable\n",
    "from diffractio.scalar_sources_XY import Scalar_source_XY\n",
    "from diffractio.scalar_masks_XY import Scalar_mask_XY\n",
    "\n",
    "from diffractio import degrees, mm, um, nm\n",
    "from diffractio.scalar_fields_X import Scalar_field_X\n",
    "from diffractio.scalar_sources_X import Scalar_source_X\n",
    "from diffractio.scalar_masks_X import Scalar_mask_X\n",
    "\n",
    "from matplotlib import pyplot as plt\n",
    "import numpy as np\n",
    "\n",
    "from numpy.typing import ArrayLike\n",
    "\n",
    "\n",
    "@dataclass\n",
    "class SimulationConfig:\n",
    "    simulation_radius: float = 0.5 * mm\n",
    "    simulation_resolution: int = 1024\n",
    "\n",
    "\n",
    "def defaultMaskFactory(x, y):\n",
    "    mask = Scalar_mask_XY(x, y)\n",
    "    mask.one_level(1)\n",
    "    return mask\n",
    "\n",
    "\n",
    "@dataclass\n",
    "class SimulationParams:\n",
    "    mask_factory: Callable[[ArrayLike, ArrayLike], Scalar_mask_XY] = defaultMaskFactory\n",
    "    wavelength: float = 600 * nm\n",
    "    observation_distance: float = None  # defaults to the focal length\n",
    "    focal: float = 10 * mm\n",
    "    lens_diameter: float = 0.5 * mm\n",
    "\n",
    "    def __post_init__(self):\n",
    "        if self.observation_distance is None:\n",
    "            self.observation_distance = self.focal\n",
    "\n",
    "\n",
    "def simulate(params=SimulationParams(), config=SimulationConfig()):\n",
    "\n",
    "    x0 = np.linspace(\n",
    "        -config.simulation_radius,\n",
    "        config.simulation_radius,\n",
    "        config.simulation_resolution,\n",
    "    )\n",
    "    y0 = np.linspace(\n",
    "        -config.simulation_radius,\n",
    "        config.simulation_radius,\n",
    "        config.simulation_resolution,\n",
    "    )\n",
    "    u1 = Scalar_source_XY(x=x0, y=y0, wavelength=params.wavelength)\n",
    "    u1.plane_wave(A=1, theta=0, phi=0)\n",
    "\n",
    "    mask = params.mask_factory(x0, y0)\n",
    "\n",
    "    u2 = u1 * mask\n",
    "\n",
    "    observation = u2.RS(\n",
    "        params.observation_distance,\n",
    "        new_field=True,\n",
    "        verbose=True,\n",
    "    )\n",
    "    # Looking for the horizontal in our mesh that is closest to the y=0 axis. We can't guarantee our mesh touches it.\n",
    "    j = np.argmin(np.abs(y0))\n",
    "    field_slice = observation.u[:, j]\n",
    "\n",
    "    field = Scalar_field_X(x0, 1)\n",
    "    field.u = field_slice\n",
    "\n",
    "    return observation\n",
    "\n",
    "\n",
    "def x_line(\n",
    "    field: Scalar_source_XY, f=lambda field: np.argmin(np.abs(field.y))\n",
    ") -> Scalar_field_X:\n",
    "    \"\"\"Find a line\n",
    "\n",
    "    Args:\n",
    "        field (Scalar_source_XY): field\n",
    "        f (Callable[[Scalar_source_XY], int]): Index of the line to take\n",
    "\n",
    "    Returns:\n",
    "        Scalar_field_X: y=constant line\n",
    "    \"\"\"\n",
    "    j = f(field)\n",
    "    field_slice = field.u[:, j]\n",
    "    field = Scalar_field_X(field.x, 1)\n",
    "    field.u = field_slice\n",
    "    return field\n",
    "\n",
    "\n",
    "def plot_evolution(params=SimulationParams(), config=SimulationConfig(), title=None):\n",
    "    print(params, config)\n",
    "    observation = simulate(params, config)\n",
    "\n",
    "    draw_intensity_phase_XY(\n",
    "        observation,\n",
    "        title=f\"{title or ''}Wave observed at {params.observation_distance/mm:.1f}mm (Observation window {config.simulation_radius/mm:.1f}mm)\",\n",
    "    )\n",
    "\n",
    "    field_slice = x_line(observation, lambda field: np.argmin(np.abs(field.y)))\n",
    "    field_slice.draw(logarithm=True)\n",
    "    plt.title(\"Field Intensity across the y=0 line\")\n",
    "    plt.show()"
   ]
  },
  {
   "cell_type": "markdown",
   "metadata": {},
   "source": [
    "### **a.** Lente estándar en aproximación TEA"
   ]
  },
  {
   "cell_type": "code",
   "execution_count": null,
   "metadata": {},
   "outputs": [],
   "source": [
    "def lens_system(params: SimulationParams = SimulationParams()) -> SimulationParams:\n",
    "    def lens_mask_factory(x, y):\n",
    "        mask = Scalar_mask_XY(x=x, y=y, wavelength=params.wavelength)\n",
    "\n",
    "        mask.lens((0, 0), focal=params.focal, radius=params.lens_diameter / 2, angle=0)\n",
    "        return mask\n",
    "\n",
    "    return replace(params, mask_factory=lens_mask_factory)\n",
    "\n",
    "\n",
    "plot_evolution(lens_system(), config=SimulationConfig(simulation_resolution=500))"
   ]
  },
  {
   "cell_type": "markdown",
   "metadata": {
    "ExecuteTime": {
     "end_time": "2021-09-28T10:57:58.227660Z",
     "start_time": "2021-09-28T10:57:58.223088Z"
    }
   },
   "source": [
    "### b. Lente binaria de amplitud"
   ]
  },
  {
   "cell_type": "code",
   "execution_count": null,
   "metadata": {},
   "outputs": [],
   "source": [
    "def fresnel_lens(\n",
    "    *, params: SimulationParams = SimulationParams(), **kwargs\n",
    ") -> SimulationParams:\n",
    "    \"\"\"Parameters for a simulation with a fresnel lens\n",
    "\n",
    "    Args:\n",
    "        params (SimulationParams, optional): Defaults to SimulationParams().\n",
    "        params (**kwargs, optional): The rest of parameters are used with the Scalar_mask_XY.fresnel_lens.\n",
    "\n",
    "    Returns:\n",
    "        SimulationParams: Parameters to simulate with\n",
    "    \"\"\"\n",
    "\n",
    "    def lens_mask_factory(x, y):\n",
    "        mask = Scalar_mask_XY(x=x, y=y, wavelength=params.wavelength)\n",
    "        args = {\n",
    "            \"r0\": (0, 0),\n",
    "            \"focal\": params.focal,\n",
    "            \"radius\": params.lens_diameter / 2,\n",
    "            \"angle\": 0,\n",
    "        }\n",
    "        args.update(kwargs)\n",
    "        mask.fresnel_lens(**args)\n",
    "        # phase changes = height changes modify phase and optimize.\n",
    "        return mask\n",
    "\n",
    "    return replace(params, mask_factory=lens_mask_factory)\n",
    "\n",
    "\n",
    "plot_evolution(params=fresnel_lens())"
   ]
  },
  {
   "cell_type": "markdown",
   "metadata": {
    "ExecuteTime": {
     "end_time": "2021-09-28T10:58:03.393399Z",
     "start_time": "2021-09-28T10:58:03.390990Z"
    }
   },
   "source": [
    "### c. Lente binaria de fase"
   ]
  },
  {
   "cell_type": "code",
   "execution_count": null,
   "metadata": {},
   "outputs": [],
   "source": [
    "plot_evolution(params=fresnel_lens(kind=\"phase\", phase=180 * degrees))\n",
    "\n",
    "# Fresnel transform. Fractionary fourier transform"
   ]
  },
  {
   "cell_type": "markdown",
   "metadata": {},
   "source": [
    "### d. Comparación"
   ]
  },
  {
   "cell_type": "markdown",
   "metadata": {},
   "source": [
    "Mientras que la lente estandard solo presenta un orden cero. Podemos ver como la de Fresnel tiene ciertas eficiencia que se pierde en su intensidad en anillos a 200 microas en ambas direcciones en el orden 1.\n",
    "\n",
    "A la vez, la lente de fresnel de fase mantiene anillos de amplitudes muy similares, ya que estamos en fase cerca de zero.)"
   ]
  },
  {
   "cell_type": "markdown",
   "metadata": {},
   "source": [
    "## Resolución 2"
   ]
  },
  {
   "cell_type": "markdown",
   "metadata": {},
   "source": [
    "2. Sea una lente de Fresnel binaria de fase, cuya focal es f′=10 mm y diámetro D=0.5 mm. Determine, en el marco XY y utilizando la aproximación de elemento delgado y el modelo de Rayleigh-Sommerfeld, la intensidad máxima en el foco en función del desfase entre las almenas de la lente, dentro del rango (0 - 2π).\n"
   ]
  },
  {
   "cell_type": "code",
   "execution_count": null,
   "metadata": {},
   "outputs": [],
   "source": [
    "from diffractio.scalar_fields_XY import Scalar_field_XY\n",
    "\n",
    "\n",
    "def best_phase_search(params=SimulationParams(), config=SimulationConfig()):\n",
    "    phases = range(360)\n",
    "    solution = np.zeros((config.simulation_resolution, 360), dtype=complex)\n",
    "\n",
    "    def get_max(field: Scalar_field_XY):\n",
    "        (size, _) = field.u.shape\n",
    "        return size // 2 + 1\n",
    "\n",
    "    for i, alpha in enumerate(phases):\n",
    "\n",
    "        # print(f\"\\nalpha={round(alpha * 360 / (2 * np.pi))}\\n\\t\", )\n",
    "        ## Possible BUG: Factor is printed with a \\r character, so it is overwriting itself if you run multiple simulations\n",
    "        observation = simulate(\n",
    "            fresnel_lens(kind=\"phase\", phase=alpha * np.pi / 180, params=params),\n",
    "            config=config,\n",
    "        )\n",
    "        if alpha % 15 == 0:\n",
    "            draw_intensity_phase_XY(\n",
    "                observation,\n",
    "                title=f\"{alpha=}\",\n",
    "            )\n",
    "            field_slice = x_line(observation, get_max)\n",
    "            field_slice.draw(logarithm=True)\n",
    "            plt.title(f\"{alpha=}\")\n",
    "            plt.show()\n",
    "\n",
    "        best_slice = x_line(observation, get_max)\n",
    "        solution[:, i] = best_slice.u\n",
    "\n",
    "    return solution, phases\n",
    "\n",
    "\n",
    "## Possible bug:\n",
    "solution, phases = best_phase_search(config=SimulationConfig(simulation_resolution=512))"
   ]
  },
  {
   "cell_type": "code",
   "execution_count": null,
   "metadata": {},
   "outputs": [],
   "source": [
    "(psize, nangles) = solution.shape\n",
    "\n",
    "plot_img = solution[psize // 4 : -psize // 4, :]\n",
    "plot_img = np.abs(plot_img) + 1\n",
    "# Normalize to 1\n",
    "plot_img = plot_img / plot_img.max()\n",
    "# Give full pixel color range, 0 to 255\n",
    "plt.imshow(plot_img * 255, origin=\"lower\")\n",
    "plt.title(\n",
    "    \"Profile of simulations.\\n Each $\\\\alpha$ corresponds to a different simulation\",\n",
    ")\n",
    "plt.xlabel(\"$\\\\alpha$, phase of fresnel lense\")\n",
    "plt.ylabel(\"Intensity profile across X=0\\n (observation plane)\")\n",
    "plt.show()\n",
    "solution.shape"
   ]
  },
  {
   "cell_type": "code",
   "execution_count": null,
   "metadata": {},
   "outputs": [],
   "source": [
    "# Maximum phase\n",
    "\n",
    "max_intensity = np.amax(np.abs(solution) ** 2, axis=0)\n",
    "plt.plot([*range(360)], max_intensity)\n",
    "plt.title(\"Center intensity for each simulation\")\n",
    "plt.xlabel(r\"$\\alpha$\")\n",
    "plt.ylabel(r\"Proportional to max intensity per simulation\")\n",
    "plt.show()"
   ]
  },
  {
   "cell_type": "markdown",
   "metadata": {},
   "source": [
    "## Resolución 3"
   ]
  },
  {
   "cell_type": "markdown",
   "metadata": {},
   "source": [
    "3. Sea una red de Ronchi (con factor de relleno 0.5). Se pretende visualizar el efecto Talbot, mediante el formalismo XZ. Para ello se ilumina la red con una onda plana y se propaga mediante la función RS una distancia de varias veces la distancia de Talbot: $z_T = 2 p^2 / \\lambda$, siendo $p$ el periodo y $\\lambda$ la longitud de onda (elegid los parámetros adecuados) para una correcta visualización. Como existe un efecto de borde al propagar, se puede recortar en el eje x, para eliminar dicho efecto de borde."
   ]
  },
  {
   "cell_type": "code",
   "execution_count": null,
   "metadata": {},
   "outputs": [],
   "source": [
    "# Red de ronchi:\n",
    "## Red binaria, de amplitud con fill factor - 0.5\n",
    "## Talbot Distance\n",
    "##\n",
    "@dataclass\n",
    "class SimulationParams:\n",
    "    wavelength: float = 600 * nm\n",
    "\n",
    "\n",
    "@dataclass\n",
    "class SimulationConfig:\n",
    "    simulation_radius: float = 0.8 * mm\n",
    "    simulation_max_z: float = 5 * mm\n",
    "    simulation_resolution: int = 1024\n",
    "\n",
    "\n",
    "def plot_ronchi_evolution(params=SimulationParams(), config=SimulationConfig()):\n",
    "    wavelength = params.wavelength\n",
    "\n",
    "    x0 = np.linspace(\n",
    "        -config.simulation_radius,\n",
    "        config.simulation_radius,\n",
    "        config.simulation_resolution,\n",
    "    )\n",
    "    # Choose period so we have at least 10 pixels\n",
    "    period = x0[17] - x0[0]\n",
    "\n",
    "    z0 = np.linspace(-50 * um, config.simulation_max_z, config.simulation_resolution)\n",
    "\n",
    "    u0 = Scalar_source_X(x=x0, wavelength=wavelength)\n",
    "    u0.plane_wave()\n",
    "    mask = Scalar_mask_X(x=x0, wavelength=wavelength)\n",
    "    mask.ronchi_grating(0, period)\n",
    "    u1 = mask * u0\n",
    "    u1.draw()\n",
    "    plt.title(\"Rochi grating\")\n",
    "    plt.plot()\n",
    "    observation = Scalar_mask_XZ(x=x0, z=z0, wavelength=wavelength)\n",
    "    observation.incident_field(u1)\n",
    "    observation.WPM(has_edges=True)\n",
    "    observation.draw()\n",
    "    talbot_limit = 2 * period**2 / params.wavelength\n",
    "    for i in range(3):\n",
    "        plt.axvline(x=talbot_limit * i)\n",
    "    plt.title(\n",
    "        f\"Rochi limit is {talbot_limit/um:.0f}um\\n Blue lines display these planes\"\n",
    "    )\n",
    "    plt.show()\n",
    "\n",
    "\n",
    "plot_ronchi_evolution()\n",
    "## Efecto talbot. Self-imaging at certain distances from the net when the net is periodic.\n",
    "# This happens at z = 2 p^2/\\lamba\n",
    "\n",
    "# algorithm. Chirped z transform. You can go from 1025x1024 ot different sizes Algorithm"
   ]
  },
  {
   "cell_type": "markdown",
   "metadata": {},
   "source": [
    "Por algun motivo, $z_T = 2 p^2 / \\lambda$ parece que deja la mitad de los puntos en el que parece que la imagen inicial se recupera.\n",
    "\n",
    "Seguramente esto se deba a que he hecho algún cálculo mal."
   ]
  }
 ],
 "metadata": {
  "kernelspec": {
   "display_name": "Python 3.10.3 ('env': venv)",
   "language": "python",
   "name": "python3"
  },
  "language_info": {
   "codemirror_mode": {
    "name": "ipython",
    "version": 3
   },
   "file_extension": ".py",
   "mimetype": "text/x-python",
   "name": "python",
   "nbconvert_exporter": "python",
   "pygments_lexer": "ipython3",
   "version": "3.10.3"
  },
  "latex_envs": {
   "LaTeX_envs_menu_present": true,
   "autoclose": false,
   "autocomplete": true,
   "bibliofile": "biblio.bib",
   "cite_by": "apalike",
   "current_citInitial": 1,
   "eqLabelWithNumbers": true,
   "eqNumInitial": 1,
   "hotkeys": {
    "equation": "Ctrl-E",
    "itemize": "Ctrl-I"
   },
   "labels_anchors": false,
   "latex_user_defs": false,
   "report_style_numbering": false,
   "user_envs_cfg": false
  },
  "toc": {
   "base_numbering": 1,
   "nav_menu": {},
   "number_sections": false,
   "sideBar": true,
   "skip_h1_title": true,
   "title_cell": "Table of Contents",
   "title_sidebar": "Contents",
   "toc_cell": false,
   "toc_position": {},
   "toc_section_display": true,
   "toc_window_display": false
  },
  "vscode": {
   "interpreter": {
    "hash": "dc988374c93268eb4bbdbb388996892ca7ce2166a8df0f80e60341213632aaf8"
   }
  }
 },
 "nbformat": 4,
 "nbformat_minor": 4
}
