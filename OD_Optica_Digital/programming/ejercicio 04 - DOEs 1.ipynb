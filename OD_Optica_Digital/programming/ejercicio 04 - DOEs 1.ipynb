{
 "cells": [
  {
   "cell_type": "markdown",
   "metadata": {},
   "source": [
    "![Alt text](http://www.ucm.es/logo/ucm.png \"a title\")\n",
    "\n",
    "<div align=\"center\"> \n",
    "<font size=5> Máster en Nuevas Tecnologías Electrónicas y Fotónicas </font>\n",
    "</div>\n",
    "    \n",
    "<div align=\"center\"> \n",
    "<font size=4> Óptica Digital, curso 2022-2023 </font>\n",
    "</div>\n",
    "\n",
    "    \n",
    "<div align=\"center\"> \n",
    "<font size=4>   </font>\n",
    "</div>\n",
    "\n",
    "\n",
    "<div align=\"center\"> \n",
    "<font size=5> Ejercicio 4 - Elementos Ópticos Difractivos </font>\n",
    "</div>"
   ]
  },
  {
   "cell_type": "markdown",
   "metadata": {
    "ExecuteTime": {
     "end_time": "2021-09-03T08:07:15.590395Z",
     "start_time": "2021-09-03T08:07:15.586258Z"
    }
   },
   "source": [
    "- **Fecha**: \n",
    "        \n",
    "- **Alumno**: \n"
   ]
  },
  {
   "cell_type": "markdown",
   "metadata": {},
   "source": [
    "# Introducción\n",
    "\n",
    "En estos ejercicios nos vamos a centrar en:\n",
    "\n",
    "- funcionamiento del áxicon. \n",
    "- Array de multilentes (opcional).\n"
   ]
  },
  {
   "cell_type": "markdown",
   "metadata": {},
   "source": [
    "Proponga un valor para los parámetros que no vengan en el enunciado. En todos los casos, los resultados son gráficas de intensidad y fase luminosa."
   ]
  },
  {
   "cell_type": "markdown",
   "metadata": {},
   "source": [
    "<div class=\"alert alert-block alert-success\">\n",
    "    \n",
    "<b>Nota:</b>\n",
    "Para determinar la posición central lo puede hacer mediante:\n",
    "    \n",
    "- i_centro=int(numdatos/2)\n",
    "- j_centro=int(numdatos/2)    \n",
    "    \n",
    "    \n",
    "Para calcular la intensidad, se puede utilizar la propiedad intensity() del marco XY.    \n",
    "    \n",
    "</div>"
   ]
  },
  {
   "cell_type": "code",
   "execution_count": null,
   "metadata": {},
   "outputs": [],
   "source": [
    "from matplotlib import rcParams\n",
    "\n",
    "rcParams[\"figure.dpi\"] = 250\n",
    "\n",
    "from diffractio.utils_drawing import draw_several_fields\n",
    "\n",
    "from dataclasses import dataclass, replace, field\n",
    "from typing import NamedTuple, Tuple, Callable, Protocol\n",
    "from diffractio.scalar_sources_XY import Scalar_source_XY\n",
    "from diffractio.scalar_masks_XY import Scalar_mask_XY\n",
    "\n",
    "from diffractio import degrees, mm, um, nm\n",
    "from diffractio.scalar_fields_XY import Scalar_field_XY\n",
    "\n",
    "from matplotlib import pyplot as plt\n",
    "import numpy as np\n",
    "\n",
    "from numpy.typing import NDArray\n",
    "\n",
    "\n",
    "def draw_intensity_phase_XY(field: Scalar_mask_XY, title: str):\n",
    "    # Bug: Draw_several_fields only works for XY\n",
    "    draw_several_fields(\n",
    "        fields=(field, field), kinds=[\"intensity\", \"phase\"], title=title, logarithm=1e2\n",
    "    )\n",
    "    axes = plt.gca()\n",
    "    axes.figure._suptitle.set_fontsize(12)\n",
    "\n",
    "    plt.show()\n",
    "\n",
    "\n",
    "@dataclass(frozen=True)\n",
    "class SimulationConfig:\n",
    "    radius: float = 0.5 * mm\n",
    "    resolution: int = 512\n",
    "    wavelength: float = 600 * nm\n",
    "\n",
    "\n",
    "class XYFactory(Protocol):\n",
    "    def __call__(\n",
    "        self,\n",
    "        x: NDArray[np.floating],\n",
    "        y: NDArray[np.floating],\n",
    "        *,\n",
    "        simulation: SimulationConfig,\n",
    "    ) -> Scalar_field_XY:\n",
    "        ...\n",
    "\n",
    "\n",
    "class XYMeshFactory(Protocol):\n",
    "    def __call__(\n",
    "        self, *, simulation: SimulationConfig\n",
    "    ) -> Tuple[NDArray[np.floating], NDArray[np.floating]]:\n",
    "        ...\n",
    "\n",
    "\n",
    "class PropagationFactory(Protocol):\n",
    "    def __call__(\n",
    "        self, field: Scalar_field_XY, *, simulation: SimulationConfig\n",
    "    ) -> Scalar_field_XY:\n",
    "        ...\n",
    "\n",
    "\n",
    "def maskFactory(x, y, *, simulation=SimulationConfig()):\n",
    "    mask = Scalar_mask_XY(x, y)\n",
    "    mask.one_level(1)\n",
    "    return mask\n",
    "\n",
    "\n",
    "def waveFactory(x, y, *, simulation=SimulationConfig()):\n",
    "    u1 = Scalar_source_XY(x=x, y=y, wavelength=simulation.wavelength)\n",
    "    u1.plane_wave(A=1, theta=0, phi=0)\n",
    "    return u1\n",
    "\n",
    "\n",
    "def defaultMeshFactory(*, simulation: SimulationConfig):\n",
    "    x = np.linspace(\n",
    "        -simulation.radius,\n",
    "        simulation.radius,\n",
    "        simulation.resolution,\n",
    "    )\n",
    "    y = np.linspace(\n",
    "        -simulation.radius,\n",
    "        simulation.radius,\n",
    "        simulation.resolution,\n",
    "    )\n",
    "    return x, y\n",
    "\n",
    "\n",
    "@dataclass(frozen=True)\n",
    "class SimulationParams:\n",
    "    observation_distance: float = None  # defaults to the focal length\n",
    "    focal: float = 10 * mm\n",
    "    lens_diameter: float = 0.5 * mm\n",
    "\n",
    "\n",
    "RunResult = NamedTuple(\n",
    "    \"RunResult\", incoming=Scalar_field_XY, observation=Scalar_field_XY\n",
    ")\n",
    "\n",
    "\n",
    "@dataclass(frozen=True)\n",
    "class SimulationPropagator:\n",
    "    propagation: PropagationFactory\n",
    "    mask: XYFactory = maskFactory\n",
    "    wave: XYFactory = waveFactory\n",
    "    mesh: XYMeshFactory = defaultMeshFactory\n",
    "\n",
    "    def run(self, config: SimulationConfig = SimulationConfig()):\n",
    "        x, y = self.mesh(simulation=config)\n",
    "        wave = self.wave(x, y, simulation=config)\n",
    "        mask = self.mask(x, y, simulation=config)\n",
    "        incoming = wave * mask\n",
    "        observation = self.propagation(incoming)\n",
    "        return RunResult(incoming, observation)\n",
    "\n",
    "    @staticmethod\n",
    "    def plot(field: Scalar_field_XY, *, title=None):\n",
    "        draw_intensity_phase_XY(\n",
    "            field,\n",
    "            title=title,\n",
    "        )\n",
    "        plt.show()\n"
   ]
  },
  {
   "cell_type": "markdown",
   "metadata": {},
   "source": [
    "# 1. Axicon"
   ]
  },
  {
   "cell_type": "markdown",
   "metadata": {},
   "source": [
    "\n",
    "1. **Axicón**: Vamos a definir un axicon binario en el marco XY y de fase. Podemos utilizar un tamaño de 0.5 mm, 256 puntos, un ángulo (del axicon refractivo de 10º, y un índice de refracción equivalente de n=1.5. Dicho axicón se ilumina con una onda armónica plana en incidencia normal\n",
    "\n",
    "  - Determine la distribución de intensidad generada por el axicon a una distancia z=2.5 mm. Dibújela.\n",
    " \n",
    "  - Queremos saber la intensidad del pico central (x=0, y=0), en un intervalo entre z = 0.125 mm y 3.5 mm. Haga un bucle for entre estos valores y almacene la intensidad central en un array\n",
    " \n",
    "  - Dibuje la intensidad máxima en función de la distancia\n",
    "\n"
   ]
  },
  {
   "cell_type": "code",
   "execution_count": null,
   "metadata": {},
   "outputs": [],
   "source": [
    "@dataclass\n",
    "class SimulationParams:\n",
    "    radius:float = 0.4 * mm\n",
    "    angle:float = 15 * degrees\n",
    "    n:float = 1.6\n",
    "    z:float = 2 * mm\n",
    "\n",
    "\n",
    "def run(params=SimulationParams(), config=SimulationConfig()):\n",
    "    def mask(x, y, *, simulation: SimulationConfig):\n",
    "        r0 = (0, 0)\n",
    "        axicon = Scalar_mask_XY(x, y, wavelength=simulation.wavelength)\n",
    "\n",
    "        axicon.axicon(\n",
    "            r0, refraction_index=params.n, radius=params.radius, angle=params.angle\n",
    "        )\n",
    "        return axicon\n",
    "\n",
    "    def propagation(field: Scalar_field_XY, **_):\n",
    "        observation = field.RS(\n",
    "            params.z,\n",
    "            new_field=True,\n",
    "            verbose=True,\n",
    "        )\n",
    "        return observation\n",
    "\n",
    "    simulation = SimulationPropagator(propagation, mask=mask)\n",
    "    return simulation.run(config)\n",
    "\n",
    "\n",
    "incoming, observation = run(config=SimulationConfig(resolution=2048))\n"
   ]
  },
  {
   "cell_type": "code",
   "execution_count": null,
   "metadata": {},
   "outputs": [],
   "source": [
    "\n",
    "SimulationPropagator.plot(incoming, title=\"Incoming field\")\n",
    "SimulationPropagator.plot(observation, title=\"Outgoing field\")\n"
   ]
  },
  {
   "cell_type": "markdown",
   "metadata": {},
   "source": [
    "Ahora, hagamos el calculo en la linea central $x=y=0$ en un rango de z amplio para ver la amplitud\n"
   ]
  },
  {
   "cell_type": "code",
   "execution_count": null,
   "metadata": {},
   "outputs": [],
   "source": [
    "incoming, observation = run(\n",
    "    config=SimulationConfig(resolution=2400), params=SimulationParams(z=0.15)\n",
    ")\n"
   ]
  },
  {
   "cell_type": "code",
   "execution_count": null,
   "metadata": {},
   "outputs": [],
   "source": [
    "#  z = 0.125 mm y 3.5 mm.\n",
    "from itertools import chain, repeat\n",
    "\n",
    "\n",
    "def field_z_line(zs, resolutions, config=SimulationConfig(), params=SimulationParams()):\n",
    "    index_x = None\n",
    "    index_y = None\n",
    "    # Fixed\n",
    "\n",
    "    for z, resolution in zip(zs, resolutions):\n",
    "        # the print of the factor uses a \\r, so they replace each other\n",
    "        # Make resolution an odd integer\n",
    "        incoming, observation = run(\n",
    "            config=replace(config, resolution=resolution), params=replace(params, z=z)\n",
    "        )\n",
    "        print(\"\\n\\n\")\n",
    "        observation: Scalar_field_XY\n",
    "        # Find center, assume odd resolution\n",
    "        index_x = len(observation.x) // 2 \n",
    "        index_y = len(observation.y) // 2 \n",
    "        yield observation.u[index_x, index_y]\n",
    "\n",
    "\n",
    "N = 70\n",
    "zs = np.linspace(0.2 * mm, 4 * mm, N)\n",
    "resolutions = [*chain(repeat(2500, N//4), repeat(700, N - N//4))]\n",
    "\n",
    "\n",
    "field_z_axis = np.fromiter(field_z_line(zs, resolutions), dtype=np.csingle)\n"
   ]
  },
  {
   "cell_type": "markdown",
   "metadata": {},
   "source": [
    "Realizamos estimaciones con distinta resoluciones para obtener un factor bueno al principio.\n",
    "\n",
    "Sin embargo, al hacer este cambio de densidad, tenemos que corregir de la solucion el cambio de intensidad por cada pixel indica. Para ello, hacemos una correccion teniendo en cuenta que la resolucion indica la densidad lineal de pixeles.  "
   ]
  },
  {
   "cell_type": "code",
   "execution_count": null,
   "metadata": {},
   "outputs": [],
   "source": [
    "from diffractio.scalar_fields_X import Scalar_field_X\n",
    "\n",
    "energy_density = np.array([r**(-2/3) for r in resolutions])\n",
    "\n",
    "f = Scalar_field_X(zs)\n",
    "f.u = field_z_axis * energy_density\n",
    "\n",
    "f.draw()\n",
    "plt.xlabel(\"z ($\\mu m$)\")\n",
    "plt.ylabel(\"Proportional to intensity\")\n",
    "plt.title(label=\"Wave Intensity of cross section on the propagation axis of \")\n",
    "plt.show()\n"
   ]
  },
  {
   "cell_type": "markdown",
   "metadata": {},
   "source": [
    "**Conclusiones**:\n",
    "\n",
    "El axion permite una colimacion en el haz principal muy intensa que ocurre durante una distancia larga. Notese que en la simulacion entre 2000 y 2500 se deben a que esta colimado a un area muy pequeña, y es posible que no estemos cogiendo el centro del haz muy bien en esos casos."
   ]
  },
  {
   "cell_type": "markdown",
   "metadata": {},
   "source": [
    "# 2. Array de multilentes"
   ]
  },
  {
   "cell_type": "markdown",
   "metadata": {},
   "source": [
    "\n",
    "2. **Array de multilentes** (opcional): Cree una máscara que sea un array de multilentes de 7x7 elementos y un tamaño de 2 mm. Dicha máscara se ilumina con una onda esférica convergente situada a z=25 mm de la máscara. \n",
    "\n",
    "  - Dibuje la máscara generada.\n",
    "  \n",
    "  - Dibuje la distribución de intensidad en el plano focal.\n",
    "  \n",
    "  Para generar la máscara, utilice un doble bucle for."
   ]
  },
  {
   "cell_type": "code",
   "execution_count": null,
   "metadata": {},
   "outputs": [],
   "source": [
    "#TBH, framework is ready above"
   ]
  },
  {
   "cell_type": "markdown",
   "metadata": {},
   "source": [
    "### Propagación"
   ]
  },
  {
   "cell_type": "code",
   "execution_count": null,
   "metadata": {},
   "outputs": [],
   "source": []
  },
  {
   "cell_type": "markdown",
   "metadata": {},
   "source": [
    "**Conclusiones**:"
   ]
  }
 ],
 "metadata": {
  "kernelspec": {
   "display_name": "Python 3.10.3 ('env': venv)",
   "language": "python",
   "name": "python3"
  },
  "language_info": {
   "codemirror_mode": {
    "name": "ipython",
    "version": 3
   },
   "file_extension": ".py",
   "mimetype": "text/x-python",
   "name": "python",
   "nbconvert_exporter": "python",
   "pygments_lexer": "ipython3",
   "version": "3.10.3"
  },
  "latex_envs": {
   "LaTeX_envs_menu_present": true,
   "autoclose": false,
   "autocomplete": true,
   "bibliofile": "biblio.bib",
   "cite_by": "apalike",
   "current_citInitial": 1,
   "eqLabelWithNumbers": true,
   "eqNumInitial": 1,
   "hotkeys": {
    "equation": "Ctrl-E",
    "itemize": "Ctrl-I"
   },
   "labels_anchors": false,
   "latex_user_defs": false,
   "report_style_numbering": false,
   "user_envs_cfg": false
  },
  "toc": {
   "base_numbering": 1,
   "nav_menu": {},
   "number_sections": false,
   "sideBar": true,
   "skip_h1_title": true,
   "title_cell": "Table of Contents",
   "title_sidebar": "Contents",
   "toc_cell": false,
   "toc_position": {},
   "toc_section_display": true,
   "toc_window_display": false
  },
  "vscode": {
   "interpreter": {
    "hash": "dc988374c93268eb4bbdbb388996892ca7ce2166a8df0f80e60341213632aaf8"
   }
  },
  "widgets": {
   "application/vnd.jupyter.widget-state+json": {
    "state": {},
    "version_major": 2,
    "version_minor": 0
   }
  }
 },
 "nbformat": 4,
 "nbformat_minor": 4
}
