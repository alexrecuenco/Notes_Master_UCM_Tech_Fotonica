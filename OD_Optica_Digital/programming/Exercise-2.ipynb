{
 "cells": [
  {
   "cell_type": "markdown",
   "metadata": {},
   "source": [
    "![Alt text](http://www.ucm.es/logo/ucm.png \"a title\")\n",
    "\n",
    "<div align=\"center\"> \n",
    "<font size=5> Máster en Nuevas Tecnologías Electrónicas y Fotónicas </font>\n",
    "</div>\n",
    "    \n",
    "<div align=\"center\"> \n",
    "<font size=4> Óptica Digital, curso 2022-2023 </font>\n",
    "</div>\n",
    "\n",
    "    \n",
    "<div align=\"center\"> \n",
    "<font size=4> Ejercicio 1 - Propagación de la luz </font>\n",
    "</div>"
   ]
  },
  {
   "cell_type": "markdown",
   "metadata": {},
   "source": [
    "<style>\n",
    ".alert-green {\n",
    "  color: rgb(60,118,61) !important;\n",
    "}\n",
    "</style>\n"
   ]
  },
  {
   "cell_type": "markdown",
   "metadata": {
    "ExecuteTime": {
     "end_time": "2021-09-03T08:07:15.590395Z",
     "start_time": "2021-09-03T08:07:15.586258Z"
    }
   },
   "source": [
    "- **Fecha**: ***\n",
    "        \n",
    "- **Alumno**: ****   \n"
   ]
  },
  {
   "cell_type": "markdown",
   "metadata": {},
   "source": [
    "# Introducción\n",
    "\n",
    "1. En el marco XZ, cree un haz gaussiano con longitud de onda $\\lambda = 2\\mu m$, y observe cómo varía su propagación (amplitud y fase) a medida que cambia la anchura de su cintura, para w0=25 $\\mu m$ y w0=2 $\\mu m$. Para la propagación utilice la función WPM.\n",
    "\n",
    "1. En el marco XY, cree una máscara que esté formada por dos aberturas: 1 círculo de 50 micras de diámetro y ubicado en la posición (x,y)=(-100 um,0) y un cuadrado de 100 micras dde lado y ubicado en la posición (x,y)=(100 um, 0). Se ilumina por una onda armónica plana de  $\\lambda = 0.6328\\mu m$ y se obsera el campo a una distancia de 2 mm. Para la propagación utilice la función RS.\n",
    "\n",
    "1. En el marco XY, vamos a utilizar la máscara square_circle que es una función entre un cuadrado y un círculo, según el parámetro s entre 0 y 1, donde s=0 es un círculo y s=1 es un cuadrado. Queremos ver la figura de difracción en campo lejano. Cree una máscara de 100 $\\mu m$ de tamaño (R1=100*um, R2=100*um) y utilice una lente de focal de 2 mm y 200 um de radio para observar la figura de difracción en el plano focal de la lente. Determine la intensidad luminosa para s=0.75 y s=0.95. Para la propagación utilice la función RS.\n",
    "\n",
    "    Tenga como referencia para los resultados el artículo M. Fernandez Guasti and M. De La Cruz Heredia, “Diffraction pattern of a circle/square aperture,” J. Mod. Opt., vol. 40, no. 6, pp. 1073–1080, 1993.\n",
    "    \n",
    "    Para preguntar por una función determinada, en jupyter, puede realizar lo siguiente:\n",
    "    't0.square_circle?' donde t0 es una máscara definida previamente.\n",
    "\n",
    "\n",
    "Proponga un valor para los parámetros que no vengan en el enunciado. En todos los casos, los resultados son gráficas de intensidad y fase luminosa."
   ]
  },
  {
   "cell_type": "markdown",
   "metadata": {},
   "source": [
    "## Resolución 1\n"
   ]
  },
  {
   "cell_type": "code",
   "execution_count": null,
   "metadata": {},
   "outputs": [],
   "source": []
  },
  {
   "cell_type": "markdown",
   "metadata": {},
   "source": [
    "**Conclusiones**: "
   ]
  },
  {
   "cell_type": "markdown",
   "metadata": {},
   "source": [
    "## Resolución 2"
   ]
  },
  {
   "cell_type": "code",
   "execution_count": null,
   "metadata": {},
   "outputs": [],
   "source": []
  },
  {
   "cell_type": "markdown",
   "metadata": {},
   "source": [
    "**Conclusiones**: "
   ]
  },
  {
   "cell_type": "markdown",
   "metadata": {},
   "source": [
    "## Resolución 3"
   ]
  },
  {
   "cell_type": "code",
   "execution_count": null,
   "metadata": {},
   "outputs": [],
   "source": []
  },
  {
   "cell_type": "markdown",
   "metadata": {},
   "source": [
    "**Conclusiones**: "
   ]
  }
 ],
 "metadata": {
  "kernelspec": {
   "display_name": "Python 3.10.4 64-bit",
   "language": "python",
   "name": "python3"
  },
  "language_info": {
   "codemirror_mode": {
    "name": "ipython",
    "version": 3
   },
   "file_extension": ".py",
   "mimetype": "text/x-python",
   "name": "python",
   "nbconvert_exporter": "python",
   "pygments_lexer": "ipython3",
   "version": "3.10.4"
  },
  "latex_envs": {
   "LaTeX_envs_menu_present": true,
   "autoclose": false,
   "autocomplete": true,
   "bibliofile": "biblio.bib",
   "cite_by": "apalike",
   "current_citInitial": 1,
   "eqLabelWithNumbers": true,
   "eqNumInitial": 1,
   "hotkeys": {
    "equation": "Ctrl-E",
    "itemize": "Ctrl-I"
   },
   "labels_anchors": false,
   "latex_user_defs": false,
   "report_style_numbering": false,
   "user_envs_cfg": false
  },
  "toc": {
   "base_numbering": 1,
   "nav_menu": {},
   "number_sections": false,
   "sideBar": true,
   "skip_h1_title": true,
   "title_cell": "Table of Contents",
   "title_sidebar": "Contents",
   "toc_cell": false,
   "toc_position": {},
   "toc_section_display": true,
   "toc_window_display": false
  },
  "vscode": {
   "interpreter": {
    "hash": "916dbcbb3f70747c44a77c7bcd40155683ae19c65e1c03b4aa3499c5328201f1"
   }
  }
 },
 "nbformat": 4,
 "nbformat_minor": 4
}
