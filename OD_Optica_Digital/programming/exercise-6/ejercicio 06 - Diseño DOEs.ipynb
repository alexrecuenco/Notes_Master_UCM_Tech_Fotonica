{
 "cells": [
  {
   "cell_type": "markdown",
   "metadata": {},
   "source": [
    "![Alt text](http://www.ucm.es/logo/ucm.png \"a title\")\n",
    "\n",
    "<div align=\"center\"> \n",
    "<font size=5> Máster en Nuevas Tecnologías Electrónicas y Fotónicas </font>\n",
    "</div>\n",
    "    \n",
    "<div align=\"center\"> \n",
    "<font size=4> Óptica Digital, curso 2022-2023 </font>\n",
    "</div>\n",
    "\n",
    "    \n",
    "<div align=\"center\"> \n",
    "\n",
    "<font size=4>   </font>\n",
    "\n",
    "<font size=5> Ejercicio 6 - Diseño de elementos Ópticos Difractivos </font>\n",
    "</div>"
   ]
  },
  {
   "cell_type": "markdown",
   "metadata": {
    "ExecuteTime": {
     "end_time": "2021-09-03T08:07:15.590395Z",
     "start_time": "2021-09-03T08:07:15.586258Z"
    }
   },
   "source": [
    "- **Fecha**: \n",
    "        \n",
    "- **Alumno**:  Alex Recuenco\n"
   ]
  },
  {
   "cell_type": "markdown",
   "metadata": {},
   "source": [
    "# Introducción\n",
    "\n",
    "En este ejercicio nos vamos a centrar en el diseño de elementos ópticos difractivos. Vamos a generar kinoformas, que luego pasaremos a máscaras binarias de amplitud o fase. En lugar de tener un algoritmo específico, geraremos máscaras de fase continúas y el paso final será, si es necesario, convertirlas en ampliftud y/o binarias.\n",
    "\n",
    "- Diseño de máscaras.\n",
    "- Verificaión del resultado.\n",
    "- Grabación de máscaras como .bmp. Dichas máscaras nos servirán para la Práctica de laboratorio 3.\n",
    "\n",
    "El algoritmo de propagación se proporcionará a través del archivo \"IFTA.py\".\n",
    "\n",
    "Dentro de este archivo están las siguientes funciones:\n",
    "\n",
    "- GS_far_algorithm. Permite realizar el algoritmo IFTA en campo lejano\n",
    "- GS_near_algoritm. Permite realizar el algoritmo IFTA en campo cercano\n",
    "- binarize. Realiza el proceso de binarización de la máscara generada\n",
    "- nmse. Parámetro de calidad que compara la máscara objetivo y el resultado."
   ]
  },
  {
   "cell_type": "markdown",
   "metadata": {},
   "source": [
    "# Enunciados"
   ]
  },
  {
   "cell_type": "markdown",
   "metadata": {},
   "source": [
    "1. **Diseño de una máscara en campo lejano.**\n",
    "\n",
    "    a. Genere una distribución de intensidad objetivo compleja, target, a través de un .bmp o Scalar_mask_XY.\n",
    "    \n",
    "    b. Utilice el algoritmo GS_far_algorithm de IFTA.py para diseñar un DOE cuyo target sea la distribución de luz en campo lejano para la imagen propuesta. Dibuje la máscara generada. Dibuje la historia de error del algoritmo\n",
    "    \n",
    "    c. Determine la distribución de intensidad en campo lejano. Utilice la función verify_mask. \n",
    "  \n",
    "    d. Determine el error comparando mediante la funcion mnse el objetivo (target) y el resultado. Grabe la máscara\n",
    "          "
   ]
  },
  {
   "cell_type": "markdown",
   "metadata": {},
   "source": [
    "2. **Diseño de una máscara en campo cercano**\n",
    "\n",
    "    a. Sea una distribución objetivo formada por un único punto en el centro de la imagen (0,0). Dicha distribución de luz está ubicada a una distancia z = 15 mm de la máscara a calcular. Determine, con el algoritmo IFTA de campo cercano la máscara de fase. Calcule la intensidad obtenida por dicha máscara.\n",
    "    \n",
    "    b. Realice el mismo cálculo para una distribución objetivo de 2 puntos en el eje x equidistantes del centro (-a,0), (a,0).\n",
    "    \n",
    "3. **Comparación entre varios tipos de máscaras**\n",
    "\n",
    "    a. Realice el mismo cálculo para una máscara cuadrada. \n",
    "    \n",
    "    b. Compare el resultado para las configuraciones amplitud-continua, amplitud-binaria, fase-continua, fase-binaria"
   ]
  },
  {
   "cell_type": "markdown",
   "metadata": {},
   "source": [
    "<div class=\"alert alert-block alert-success\">\n",
    "    \n",
    "<b>Nota:</b>\n",
    "    \n",
    "En todos los casos, especialmente en las kinoformas de amplitud, es conveniente eliminar el orden 0 de la intensidad obtenida, pues reduce la visibilidad del resultado.\n",
    "\n",
    "    - Para la función fft, hay un parámetro específico.\n",
    "\n",
    "    - Al usar verify_mask en campo lejano, escriba z=0 o z=None\n",
    "    \n",
    "</div>\n",
    "\n"
   ]
  },
  {
   "cell_type": "markdown",
   "metadata": {},
   "source": [
    "Proponga un valor para los parámetros que no vengan en el enunciado. En todos los casos, los resultados son gráficas de intensidad y fase luminosa."
   ]
  },
  {
   "cell_type": "markdown",
   "metadata": {},
   "source": [
    "<div class=\"alert alert-block alert-info\">\n",
    "\n",
    "<b>Consejos:</b>\n",
    "    \n",
    "    - Para una mejor observación y rapidez en los cálculos, utilice una máscara de 512 x 512 pixeles.\n",
    "    \n",
    "    - El tamaño de la máscara puede ser 1 mm.\n",
    "    \n",
    "\n",
    "</div>"
   ]
  },
  {
   "cell_type": "markdown",
   "metadata": {},
   "source": [
    "## Importar módulos \n"
   ]
  },
  {
   "cell_type": "code",
   "execution_count": null,
   "metadata": {},
   "outputs": [],
   "source": [
    "%load_ext autoreload\n",
    "%autoreload 2"
   ]
  },
  {
   "cell_type": "code",
   "execution_count": null,
   "metadata": {
    "ExecuteTime": {
     "end_time": "2021-09-28T10:57:56.182717Z",
     "start_time": "2021-09-28T10:57:56.168939Z"
    }
   },
   "outputs": [],
   "source": [
    "import matplotlib\n",
    "import matplotlib.cm as cm\n",
    "\n",
    "from diffractio import degrees, mm, plt, sp, um, np\n",
    "from diffractio.scalar_fields_XY import Scalar_field_XY\n",
    "from diffractio.utils_drawing import draw_several_fields\n",
    "from diffractio.scalar_masks_XY import Scalar_mask_XY\n",
    "from diffractio.scalar_sources_XY import Scalar_source_XY\n"
   ]
  },
  {
   "cell_type": "code",
   "execution_count": null,
   "metadata": {},
   "outputs": [],
   "source": [
    "from IFTA import GS_far_algorithm, GS_Fresnel_algorithm, binarize, nmse, insert_pupil, verify_mask"
   ]
  },
  {
   "cell_type": "code",
   "execution_count": null,
   "metadata": {},
   "outputs": [],
   "source": [
    "from dataclasses import dataclass\n",
    "\n",
    "\n",
    "@dataclass\n",
    "class MaskOptions:\n",
    "    continuous: Scalar_mask_XY\n",
    "    continuous_phase: Scalar_mask_XY\n",
    "    binary: Scalar_mask_XY\n",
    "    binary_phase: Scalar_mask_XY\n",
    "\n",
    "\n",
    "def get_all_masks(continuous_mask):\n",
    "    binary = binarize(continuous_mask)\n",
    "\n",
    "    continuous_phase = np.exp(2 * np.pi * continuous_mask)\n",
    "\n",
    "    # 0 -> 0, 1 -> pi\n",
    "    binary_phase = np.exp(np.pi * continuous_mask)\n",
    "    return MaskOptions(\n",
    "        continuous=continuous_mask,\n",
    "        binary=binary,\n",
    "        continuous_phase=continuous_phase,\n",
    "        binary_phase=binary_phase,\n",
    "    )\n"
   ]
  },
  {
   "cell_type": "markdown",
   "metadata": {},
   "source": [
    "# Ejercicio 1"
   ]
  },
  {
   "cell_type": "markdown",
   "metadata": {},
   "source": [
    "**a) Genere una distribución de intensidad objetivo que desee, target, a través de un dibujo o Scalar_mask_XY.**"
   ]
  },
  {
   "cell_type": "code",
   "execution_count": null,
   "metadata": {},
   "outputs": [],
   "source": [
    "size = 1 * mm\n",
    "num_x = num_y = 512\n",
    "wavelength = 0.5 * um\n",
    "\n",
    "num_steps = 50\n"
   ]
  },
  {
   "cell_type": "code",
   "execution_count": null,
   "metadata": {},
   "outputs": [],
   "source": [
    "x = np.linspace(-size // 2, size // 2, num_x)\n",
    "y = np.linspace(-size // 2, size // 2, num_y)\n",
    "\n",
    "source = Scalar_source_XY(x, y, wavelength)\n",
    "source.plane_wave(A=1, theta=0, phi=0)\n",
    "\n",
    "target = Scalar_mask_XY(x, y, wavelength)\n",
    "target.image(\"masks/mascara1024.png\")\n",
    "target.draw()\n"
   ]
  },
  {
   "cell_type": "markdown",
   "metadata": {},
   "source": [
    "**b) Utilice el algoritmo GS_far_algorithm** "
   ]
  },
  {
   "cell_type": "code",
   "execution_count": null,
   "metadata": {},
   "outputs": [],
   "source": [
    "\n",
    "mask_final, errors = GS_far_algorithm(None, target, num_steps)\n",
    "print(errors)"
   ]
  },
  {
   "cell_type": "markdown",
   "metadata": {},
   "source": [
    "**c) Verificación de resultados**"
   ]
  },
  {
   "cell_type": "code",
   "execution_count": null,
   "metadata": {},
   "outputs": [],
   "source": [
    "# print(mask_final.u)\n",
    "# def draw_mask_result(mask, **kwargs):\n",
    "#     mask.draw(**kwargs)\n",
    "#     plt.show()\n",
    "\n",
    "#     source = Scalar_source_XY(x, y, wavelength=wavelength)\n",
    "#     source.plane_wave()\n",
    "#     input = source * mask\n",
    "\n",
    "#     output = input.fft(new_field=True)\n",
    "#     output.draw(**kwargs)\n",
    "#     plt.show()\n",
    "\n",
    "# print(mask_final.u)\n",
    "# draw_mask_result(mask_final)\n",
    "\n",
    "DOE:Scalar_mask_XY\n",
    "DOE, result = verify_mask(mask_final, 0, False, False, True)\n",
    "\n",
    "DOE.draw()\n",
    "plt.show()\n",
    "result.draw()\n",
    "plt.show()\n",
    "\n"
   ]
  },
  {
   "cell_type": "markdown",
   "metadata": {},
   "source": [
    "**d. Determine el error comparando mediante la funcion mnse el objetivo (target) y el resultado. Grabe la máscara**\n"
   ]
  },
  {
   "cell_type": "code",
   "execution_count": null,
   "metadata": {},
   "outputs": [],
   "source": [
    "# print(target.u)\n",
    "# difference = np.abs(output.u)**2-np.abs(target.u)**2\n",
    "# print(difference)\n",
    "# #rmse =float(np.mean(difference**2))**0.5\n",
    "nmse_gs= nmse(np.abs(DOE.u)**2, np.abs(target.u)**2)\n",
    "print(nmse_gs, errors[-1])\n",
    "\n",
    "## QUESTION: Porque el error aqui es distinto entre ambos? No se supone que es el NMSE el que se esta usando "
   ]
  },
  {
   "cell_type": "markdown",
   "metadata": {},
   "source": [
    "**e. Grabar máscaras**"
   ]
  },
  {
   "cell_type": "code",
   "execution_count": null,
   "metadata": {},
   "outputs": [],
   "source": [
    "DOE.save_mask('solutions/GS_far_algorithm.bmp')"
   ]
  },
  {
   "cell_type": "markdown",
   "metadata": {},
   "source": [
    "# Ejercicio 2"
   ]
  },
  {
   "cell_type": "code",
   "execution_count": null,
   "metadata": {},
   "outputs": [],
   "source": [
    "from dataclasses import dataclass, field\n",
    "from typing import Tuple\n",
    "\n",
    "\n",
    "@dataclass(frozen=True)\n",
    "class DoeSettings:\n",
    "    size: float = 1 * mm\n",
    "    num_x: int = 512\n",
    "    num_y: int = 512\n",
    "    wavelength: float = 0.6328 * um\n",
    "\n",
    "    z_distance: float = 15 * mm\n",
    "    num_steps: float = 10\n",
    "\n",
    "\n",
    "def obtain_dots_mask(target_factory, settings: DoeSettings = DoeSettings()):\n",
    "    x = np.linspace(-settings.size / 2, settings.size / 2, settings.num_x)\n",
    "    y = np.linspace(-settings.size / 2, settings.size / 2, settings.num_y)\n",
    "    target = target_factory(x, y, settings.wavelength)\n",
    "\n",
    "    mask_final, errors = GS_Fresnel_algorithm(\n",
    "        source=None, target=target, z=settings.z_distance, num_steps=settings.num_steps\n",
    "    )\n",
    "    return settings, target, mask_final, errors\n",
    "\n",
    "\n",
    "def plot_dots_target_mask(target, mask, errors):\n",
    "    # target.circle(r0=(0,0),radius=5*um)\n",
    "    target.draw()\n",
    "    plt.title(\"Target image\")\n",
    "    plt.show()\n",
    "\n",
    "    print(errors)\n",
    "\n",
    "    ## QUESTION 2: Why are all the errors exactly the same\n",
    "\n",
    "    mask.draw()\n",
    "    plt.title(\"Mask\")\n",
    "    plt.show()\n",
    "\n",
    "\n",
    "def plot_verification(mask: Scalar_mask_XY, *args, **kwargs):\n",
    "    binary_mask = mask.binarize(bin_level=0.5, new_field=True)\n",
    "\n",
    "    doe_matrix = [\n",
    "        {\n",
    "            \"mask\": mask,\n",
    "            \"has_mask\": False,\n",
    "            \"is_phase\": False,\n",
    "            \"is_binary\": False,\n",
    "            \"title\": \"DOE continuous\",\n",
    "        },\n",
    "        {\n",
    "            \"mask\": mask,\n",
    "            \"has_mask\": False,\n",
    "            \"is_phase\": True,\n",
    "            \"is_binary\": False,\n",
    "            \"title\": \"DOE continuous phase\",\n",
    "        },\n",
    "        {\n",
    "            \"mask\": binary_mask,\n",
    "            \"has_mask\": False,\n",
    "            \"is_phase\": False,\n",
    "            \"is_binary\": True,\n",
    "            \"title\": \"DOE binary\",\n",
    "        },\n",
    "        {\n",
    "            \"mask\": binary_mask,\n",
    "            \"has_mask\": False,\n",
    "            \"is_phase\": True,\n",
    "            \"is_binary\": True,\n",
    "            \"title\": \"DOE binary phase\",\n",
    "        },\n",
    "    ]\n",
    "    for opts in doe_matrix:\n",
    "        title = opts.pop(\"title\", \"DOE\")\n",
    "\n",
    "        DOE, result = verify_mask(*args, **opts, **kwargs)\n",
    "        DOE.draw()\n",
    "        plt.title(title)\n",
    "        plt.show()\n",
    "        result.draw(logarithm=True)\n",
    "        plt.title(f\"Result of {title} (log scale)\")\n",
    "        plt.show()\n"
   ]
  },
  {
   "cell_type": "markdown",
   "metadata": {},
   "source": [
    "## a) 1 punto"
   ]
  },
  {
   "cell_type": "code",
   "execution_count": null,
   "metadata": {},
   "outputs": [],
   "source": [
    "def dot_target_factory(dots=(0, 0)):\n",
    "    def factory(x, y, wavelength):\n",
    "        target = Scalar_mask_XY(x, y, wavelength)\n",
    "        # target.circle(r0=(0,0),radius=5*um)\n",
    "        target.dots(r0=dots)\n",
    "        return target\n",
    "    return factory\n"
   ]
  },
  {
   "cell_type": "code",
   "execution_count": null,
   "metadata": {},
   "outputs": [],
   "source": [
    "settings, target, mask_final, errors = obtain_dots_mask(dot_target_factory())"
   ]
  },
  {
   "cell_type": "code",
   "execution_count": null,
   "metadata": {},
   "outputs": [],
   "source": [
    "plot_dots_target_mask(target, mask_final, errors)"
   ]
  },
  {
   "cell_type": "markdown",
   "metadata": {},
   "source": [
    "**b) Verificación de la máscara**"
   ]
  },
  {
   "cell_type": "code",
   "execution_count": null,
   "metadata": {},
   "outputs": [],
   "source": [
    "plot_verification(mask_final, z=settings.z_distance)"
   ]
  },
  {
   "cell_type": "markdown",
   "metadata": {},
   "source": [
    "### Save masks"
   ]
  },
  {
   "cell_type": "code",
   "execution_count": null,
   "metadata": {},
   "outputs": [],
   "source": [
    "mask_final.save_mask('solutions/GS_near_one_dot.bmp')"
   ]
  },
  {
   "cell_type": "markdown",
   "metadata": {},
   "source": []
  },
  {
   "cell_type": "markdown",
   "metadata": {},
   "source": [
    "## b) 2 puntos"
   ]
  },
  {
   "cell_type": "code",
   "execution_count": null,
   "metadata": {},
   "outputs": [],
   "source": [
    "dots=([-250, 250],[0,0])\n",
    "\n",
    "\n",
    "settings, target, mask_final, errors = obtain_dots_mask(dot_target_factory(dots))"
   ]
  },
  {
   "cell_type": "code",
   "execution_count": null,
   "metadata": {},
   "outputs": [],
   "source": [
    "plot_dots_target_mask(target, mask_final, errors)"
   ]
  },
  {
   "cell_type": "markdown",
   "metadata": {},
   "source": [
    "**b) Verificación de la máscara**"
   ]
  },
  {
   "cell_type": "code",
   "execution_count": null,
   "metadata": {},
   "outputs": [],
   "source": [
    "plot_verification(mask_final, z=settings.z_distance)"
   ]
  },
  {
   "cell_type": "markdown",
   "metadata": {},
   "source": [
    "### Save mask"
   ]
  },
  {
   "cell_type": "code",
   "execution_count": null,
   "metadata": {},
   "outputs": [],
   "source": [
    "mask_final.save_mask('solutions/GS_near_two_dots.bmp')"
   ]
  },
  {
   "cell_type": "markdown",
   "metadata": {},
   "source": [
    "## Ejercicio 3."
   ]
  },
  {
   "cell_type": "markdown",
   "metadata": {},
   "source": [
    "**Realice el mismo cálculo para una máscara cuadrada.**\n"
   ]
  },
  {
   "cell_type": "code",
   "execution_count": null,
   "metadata": {},
   "outputs": [],
   "source": [
    "def square_mask_factory(x,y,wavelength):\n",
    "    target=Scalar_mask_XY(x,y,wavelength)\n",
    "    target.square(r0=(0,0), size=100*um, angle=0)\n",
    "    return target\n"
   ]
  },
  {
   "cell_type": "code",
   "execution_count": null,
   "metadata": {},
   "outputs": [],
   "source": [
    "settings, target, mask_final, errors = obtain_dots_mask(square_mask_factory, DoeSettings(num_steps=100))"
   ]
  },
  {
   "cell_type": "code",
   "execution_count": null,
   "metadata": {},
   "outputs": [],
   "source": [
    "plot_dots_target_mask(target, mask_final, errors)"
   ]
  },
  {
   "cell_type": "code",
   "execution_count": null,
   "metadata": {},
   "outputs": [],
   "source": [
    "\n",
    "plot_verification(mask_final, z=settings.z_distance)\n"
   ]
  },
  {
   "cell_type": "markdown",
   "metadata": {},
   "source": [
    "NOTE:\n",
    "\n",
    "Notese como en los dibujos de fase, el dibujo parece que no tenga nada, esto es simplemente porque sólo tiene cambios de fase, y estamos representando la amplitud en este dibujo."
   ]
  },
  {
   "cell_type": "markdown",
   "metadata": {},
   "source": [
    "### Save mask"
   ]
  },
  {
   "cell_type": "code",
   "execution_count": null,
   "metadata": {},
   "outputs": [],
   "source": [
    "mask_final.save_mask('solutions/GS_near_square.bmp');"
   ]
  }
 ],
 "metadata": {
  "kernelspec": {
   "display_name": "Python 3.10.3 ('env': venv)",
   "language": "python",
   "name": "python3"
  },
  "language_info": {
   "codemirror_mode": {
    "name": "ipython",
    "version": 3
   },
   "file_extension": ".py",
   "mimetype": "text/x-python",
   "name": "python",
   "nbconvert_exporter": "python",
   "pygments_lexer": "ipython3",
   "version": "3.10.3"
  },
  "latex_envs": {
   "LaTeX_envs_menu_present": true,
   "autoclose": false,
   "autocomplete": true,
   "bibliofile": "biblio.bib",
   "cite_by": "apalike",
   "current_citInitial": 1,
   "eqLabelWithNumbers": true,
   "eqNumInitial": 1,
   "hotkeys": {
    "equation": "Ctrl-E",
    "itemize": "Ctrl-I"
   },
   "labels_anchors": false,
   "latex_user_defs": false,
   "report_style_numbering": false,
   "user_envs_cfg": false
  },
  "toc": {
   "base_numbering": 1,
   "nav_menu": {},
   "number_sections": false,
   "sideBar": true,
   "skip_h1_title": true,
   "title_cell": "Table of Contents",
   "title_sidebar": "Contents",
   "toc_cell": false,
   "toc_position": {},
   "toc_section_display": true,
   "toc_window_display": false
  },
  "vscode": {
   "interpreter": {
    "hash": "dc988374c93268eb4bbdbb388996892ca7ce2166a8df0f80e60341213632aaf8"
   }
  },
  "widgets": {
   "application/vnd.jupyter.widget-state+json": {
    "state": {},
    "version_major": 2,
    "version_minor": 0
   }
  }
 },
 "nbformat": 4,
 "nbformat_minor": 4
}
