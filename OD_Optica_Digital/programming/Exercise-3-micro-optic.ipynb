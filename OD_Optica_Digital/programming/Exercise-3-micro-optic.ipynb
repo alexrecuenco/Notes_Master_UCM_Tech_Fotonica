{
 "cells": [
  {
   "cell_type": "markdown",
   "metadata": {},
   "source": [
    "![Alt text](http://www.ucm.es/logo/ucm.png \"a title\")\n",
    "\n",
    "<div align=\"center\"> \n",
    "<font size=5> Máster en Nuevas Tecnologías Electrónicas y Fotónicas </font>\n",
    "</div>\n",
    "    \n",
    "<div align=\"center\"> \n",
    "<font size=4> Óptica Digital, curso 2022-2023 </font>\n",
    "</div>\n",
    "\n",
    "    \n",
    "<div align=\"center\"> \n",
    "<font size=4>   </font>\n",
    "</div>\n",
    "\n",
    "\n",
    "<div align=\"center\"> \n",
    "<font size=5> Ejercicio 3 - Micro-óptica </font>\n",
    "</div>"
   ]
  },
  {
   "cell_type": "markdown",
   "metadata": {
    "ExecuteTime": {
     "end_time": "2021-09-03T08:07:15.590395Z",
     "start_time": "2021-09-03T08:07:15.586258Z"
    }
   },
   "source": [
    "- **Fecha**: \n",
    "        \n",
    "- **Alumno**: Alex Recuenco (Alejandro G Recuenco)"
   ]
  },
  {
   "cell_type": "code",
   "execution_count": 1,
   "metadata": {},
   "outputs": [],
   "source": [
    "from matplotlib import rcParams\n",
    "\n",
    "rcParams[\"figure.dpi\"] = 250\n",
    "\n"
   ]
  },
  {
   "cell_type": "markdown",
   "metadata": {},
   "source": [
    "# Introducción\n",
    "En estos ejercicios nos vamos a centrar en elementos microópticos como lentes de Fresnel y redes de difraccion."
   ]
  },
  {
   "cell_type": "markdown",
   "metadata": {},
   "source": [
    "# Enunciados\n",
    "\n",
    "1. Sea una lente estándar de focal f′=10 mm y diámetro D=0.5 mm.\n",
    "\n",
    " a. Determine, en el marco XY y utilizando la aproximación de elemento delgado, la distribución de intensidad en el plano focal, mediante el modelo de Rayleigh-Sommerfeld.  Determine, a partir de esta imagen, el perfil radial de intensidad.\n",
    " \n",
    " b. Haga lo mismo para una lente de Fresnel binaria de amplitud con los mismos parámetros constructivos.\n",
    " \n",
    " c. Idem para una lente de Fresnel de fase, de desfase $\\pi$.\n",
    "    \n",
    " d. Compare los 3 perfiles de intensidad.\n",
    " \n",
    " Para la visualización de los focos, haga un recorte de la imagen (plt.xlim y plt.ylim,  o cut_resample) para poder observarlo adecuadamente. También puede utilizar el parámetro logarithm de .draw() para resaltar los anillos."
   ]
  },
  {
   "cell_type": "markdown",
   "metadata": {},
   "source": [
    "2. Sea una lente de Fresnel binaria de fase, cuya focal es f′=10 mm y diámetro D=0.5 mm. Determine, en el marco XY y utilizando la aproximación de elemento delgado y el modelo de Rayleigh-Sommerfeld, la intensidad máxima en el foco en función del desfase entre las almenas de la lente, dentro del rango (0 - 2π).\n",
    "\n"
   ]
  },
  {
   "cell_type": "markdown",
   "metadata": {},
   "source": [
    "3. Sea una red de Ronchi (con factor de relleno 0.5). Se pretende visualizar el efecto Talbot, mediante el formalismo XZ. Para ello se ilumina la red con una onda plana y se propaga mediante la función RS una distancia de varias veces la distancia de Talbot: $z_T = 2 p^2 / \\lambda$, siendo p el periodo y $\\lambda$ la longitud de onda (elegid los parámetros adecuados) para una correcta visualización. Como existe un efecto de borde al propagar, se puede recortar en el eje x, para eliminar dicho efecto de borde."
   ]
  },
  {
   "cell_type": "markdown",
   "metadata": {},
   "source": [
    "Proponga un valor para los parámetros que no vengan en el enunciado. En todos los casos, los resultados son gráficas de intensidad y fase luminosa."
   ]
  },
  {
   "cell_type": "markdown",
   "metadata": {},
   "source": [
    "## Resolución 1\n"
   ]
  },
  {
   "cell_type": "code",
   "execution_count": null,
   "metadata": {},
   "outputs": [],
   "source": [
    "from dataclasses import dataclass\n",
    "from typing import Tuple\n",
    "from diffractio.scalar_sources_XY import Scalar_source_XY\n",
    "from diffractio.scalar_masks_XY import Scalar_mask_XY\n",
    "\n",
    "from diffractio import degrees, mm, plt, sp, um, np\n",
    "from diffractio.scalar_sources_X import Scalar_source_X\n",
    "from diffractio.scalar_masks_X import Scalar_mask_X\n",
    "\n",
    "\n",
    "@dataclass\n",
    "class SimulationConfig:\n",
    "    simulation_radius: float = 0.3 * mm\n",
    "    simulation_resolution: int = 1024\n",
    "    amplification: int = 1\n",
    "\n",
    "\n",
    "@dataclass\n",
    "class SimulationParams:\n",
    "    focal: float = 10 * um\n",
    "    lens_diameter: float = 0.5 * mm\n",
    "\n",
    "    observation_distance: float = 2 * mm\n",
    "\n",
    "\n",
    "def plot_evolution(params=SimulationParams(), config=SimulationConfig(), title=None):\n",
    "\n",
    "    x0 = np.linspace(\n",
    "        -config.simulation_radius,\n",
    "        config.simulation_radius,\n",
    "        config.simulation_resolution,\n",
    "    )\n",
    "    y0 = np.linspace(\n",
    "        -config.simulation_radius,\n",
    "        config.simulation_radius,\n",
    "        config.simulation_resolution,\n",
    "    )\n",
    "    u1 = Scalar_source_XY(x=x0, y=y0, wavelength=params.wavelength)\n",
    "    u1.plane_wave(A=1, theta=np.pi / 2, phi=0)\n",
    "\n",
    "    circle_mask = Scalar_mask_XY(x=x0, y=y0, wavelength=params.wavelength)\n",
    "    circle_mask.circle(r0=params.circle_pos, radius=params.circle_radius)\n",
    "    square_mask = Scalar_mask_XY(x=x0, y=y0, wavelength=params.wavelength)\n",
    "    square_mask.square(\n",
    "        r0=params.square_pos, size=params.square_size, angle=params.square_angle\n",
    "    )\n",
    "    total_mask = circle_mask + square_mask\n",
    "    # Cast into 1s and zeros... I don't know how else to do this\n",
    "    total_mask.u = (total_mask.u > 0) + 0\n",
    "    total_mask.draw()\n",
    "    plt.show()\n",
    "    u2 = u1 * total_mask\n",
    "\n",
    "    observation_plane = u2.RS(\n",
    "        params.observation_distance,\n",
    "        new_field=True,\n",
    "        amplification=(config.amplification, config.amplification),\n",
    "        verbose=True,\n",
    "    )\n",
    "    draw_intensity_phase_XY(\n",
    "        observation_plane,\n",
    "        title=title\n",
    "        or f\"Wave at {params.observation_distance/mm:.1f}mm of source. Observation window of size {config.amplification*config.simulation_radius/mm:.1f}mm\",\n",
    "    )\n",
    "\n",
    "\n",
    "# Original problem\n",
    "plot_evolution(\n",
    "    params=SimulationParams(\n",
    "        observation_distance=2 * mm, circle_radius=25 * um, square_size=100 * um\n",
    "    ),\n",
    ")\n",
    "plot_evolution(\n",
    "    params=SimulationParams(\n",
    "        observation_distance=4 * mm, circle_radius=25 * um, square_size=100 * um\n",
    "    ),\n",
    ")\n",
    "\n",
    "# Modified problem with more overlap\n",
    "\n",
    "plot_evolution()\n",
    "plot_evolution(\n",
    "    params=SimulationParams(observation_distance=4 * mm),\n",
    ")\n",
    "plot_evolution(\n",
    "    params=SimulationParams(observation_distance=4 * mm, circle_pos=(0, 0)),\n",
    ")\n"
   ]
  },
  {
   "cell_type": "markdown",
   "metadata": {},
   "source": [
    "### **a.** Lente estándar en aproximación TEA"
   ]
  },
  {
   "cell_type": "code",
   "execution_count": null,
   "metadata": {},
   "outputs": [],
   "source": []
  },
  {
   "cell_type": "markdown",
   "metadata": {
    "ExecuteTime": {
     "end_time": "2021-09-28T10:57:58.227660Z",
     "start_time": "2021-09-28T10:57:58.223088Z"
    }
   },
   "source": [
    "### b. Lente binaria de amplitud"
   ]
  },
  {
   "cell_type": "code",
   "execution_count": null,
   "metadata": {},
   "outputs": [],
   "source": []
  },
  {
   "cell_type": "markdown",
   "metadata": {
    "ExecuteTime": {
     "end_time": "2021-09-28T10:58:03.393399Z",
     "start_time": "2021-09-28T10:58:03.390990Z"
    }
   },
   "source": [
    "### c. Lente binaria de fase"
   ]
  },
  {
   "cell_type": "code",
   "execution_count": null,
   "metadata": {},
   "outputs": [],
   "source": []
  },
  {
   "cell_type": "markdown",
   "metadata": {},
   "source": [
    "### d. Comparación"
   ]
  },
  {
   "cell_type": "code",
   "execution_count": null,
   "metadata": {},
   "outputs": [],
   "source": []
  },
  {
   "cell_type": "markdown",
   "metadata": {},
   "source": [
    "## Resolución 2"
   ]
  },
  {
   "cell_type": "code",
   "execution_count": null,
   "metadata": {},
   "outputs": [],
   "source": []
  },
  {
   "cell_type": "markdown",
   "metadata": {},
   "source": [
    "## Resolución 3"
   ]
  },
  {
   "cell_type": "code",
   "execution_count": null,
   "metadata": {},
   "outputs": [],
   "source": []
  }
 ],
 "metadata": {
  "kernelspec": {
   "display_name": "Python 3.10.3 ('env': venv)",
   "language": "python",
   "name": "python3"
  },
  "language_info": {
   "codemirror_mode": {
    "name": "ipython",
    "version": 3
   },
   "file_extension": ".py",
   "mimetype": "text/x-python",
   "name": "python",
   "nbconvert_exporter": "python",
   "pygments_lexer": "ipython3",
   "version": "3.10.3"
  },
  "latex_envs": {
   "LaTeX_envs_menu_present": true,
   "autoclose": false,
   "autocomplete": true,
   "bibliofile": "biblio.bib",
   "cite_by": "apalike",
   "current_citInitial": 1,
   "eqLabelWithNumbers": true,
   "eqNumInitial": 1,
   "hotkeys": {
    "equation": "Ctrl-E",
    "itemize": "Ctrl-I"
   },
   "labels_anchors": false,
   "latex_user_defs": false,
   "report_style_numbering": false,
   "user_envs_cfg": false
  },
  "toc": {
   "base_numbering": 1,
   "nav_menu": {},
   "number_sections": false,
   "sideBar": true,
   "skip_h1_title": true,
   "title_cell": "Table of Contents",
   "title_sidebar": "Contents",
   "toc_cell": false,
   "toc_position": {},
   "toc_section_display": true,
   "toc_window_display": false
  },
  "vscode": {
   "interpreter": {
    "hash": "dc988374c93268eb4bbdbb388996892ca7ce2166a8df0f80e60341213632aaf8"
   }
  }
 },
 "nbformat": 4,
 "nbformat_minor": 4
}
