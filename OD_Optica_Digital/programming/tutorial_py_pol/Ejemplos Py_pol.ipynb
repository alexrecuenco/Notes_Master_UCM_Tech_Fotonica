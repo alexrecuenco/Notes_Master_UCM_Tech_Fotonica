{
 "cells": [
  {
   "cell_type": "markdown",
   "metadata": {},
   "source": [
    "# Ejemplo py_pol\n",
    "\n",
    "Ejemplo inicial para comenzar a utilizar el módulo py_pol en frmalismo de Jones."
   ]
  },
  {
   "cell_type": "code",
   "execution_count": null,
   "metadata": {},
   "outputs": [],
   "source": [
    "from py_pol.jones_vector import Jones_vector\n",
    "from py_pol.jones_matrix import Jones_matrix, degrees\n",
    "import numpy as np\n",
    "import matplotlib.pyplot as plt"
   ]
  },
  {
   "cell_type": "markdown",
   "metadata": {},
   "source": [
    "## Primeros pasos\n",
    "\n",
    "En primer lugar vamos a ver algunos ejemplos de cómo realizar las operaciones más básicas.\n",
    "\n",
    "### Crear objetos"
   ]
  },
  {
   "cell_type": "code",
   "execution_count": null,
   "metadata": {},
   "outputs": [],
   "source": [
    "# Crear un vector de Jones\n",
    "E = Jones_vector(name=\"Light\")\n",
    "print(E)"
   ]
  },
  {
   "cell_type": "code",
   "execution_count": null,
   "metadata": {},
   "outputs": [],
   "source": [
    "# Crear una matriz de Jones\n",
    "J = Jones_matrix(name=\"Optical element\")\n",
    "print(J)"
   ]
  },
  {
   "cell_type": "markdown",
   "metadata": {},
   "source": [
    "### Definir qué es cada objeto"
   ]
  },
  {
   "cell_type": "code",
   "execution_count": null,
   "metadata": {},
   "outputs": [],
   "source": [
    "# Crear un haz linealmente olarizado a 30º y de intensidad 2\n",
    "E = Jones_vector(\"Laser\")\n",
    "E.linear_light(azimuth=30 * degrees, intensity=2)\n",
    "print(E)"
   ]
  },
  {
   "cell_type": "code",
   "execution_count": null,
   "metadata": {},
   "outputs": [],
   "source": [
    "# Crear un polarizador ideal a 10º\n",
    "J = Jones_matrix(\"Polarizer\")\n",
    "J.diattenuator_perfect(azimuth=10 * degrees)\n",
    "print(J)"
   ]
  },
  {
   "cell_type": "code",
   "execution_count": null,
   "metadata": {},
   "outputs": [],
   "source": [
    "# Crear polarizadores ideales con angulos entre 0 y 90º\n",
    "J = Jones_matrix(\"Polarizer\")\n",
    "angles = np.linspace(0, 90 * degrees, 5)\n",
    "J.diattenuator_perfect(azimuth=angles)\n",
    "print(J)"
   ]
  },
  {
   "cell_type": "markdown",
   "metadata": {},
   "source": [
    "### Manipular objetos"
   ]
  },
  {
   "cell_type": "code",
   "execution_count": null,
   "metadata": {},
   "outputs": [],
   "source": [
    "# Crear un haz linealmente polarizado a 0º y despues rotarlo 45º\n",
    "E = Jones_vector(\"Laser\")\n",
    "E.linear_light(azimuth=0 * degrees)\n",
    "print(E)\n",
    "\n",
    "E.rotate(angle=45 * degrees)\n",
    "print(E)"
   ]
  },
  {
   "cell_type": "code",
   "execution_count": null,
   "metadata": {},
   "outputs": [],
   "source": [
    "# Crear un polarizador ideal a 0º y despues rotarlo 45º\n",
    "J = Jones_matrix(\"Polarizer\")\n",
    "J.diattenuator_perfect(azimuth=0 * degrees)\n",
    "print(J)\n",
    "\n",
    "J.rotate(angle=45 * degrees)\n",
    "print(J)"
   ]
  },
  {
   "cell_type": "markdown",
   "metadata": {},
   "source": [
    "### Operaciones entre objetos"
   ]
  },
  {
   "cell_type": "code",
   "execution_count": null,
   "metadata": {},
   "outputs": [],
   "source": [
    "# Calcular el haz resultante de un haz linealmente polarizado a 0º tras atravesar un polarizador ideal a 45º\n",
    "E = Jones_vector(\"Laser\")\n",
    "E.linear_light(azimuth=0 * degrees)\n",
    "print(E)\n",
    "\n",
    "J = Jones_matrix(\"Polarizer\")\n",
    "J.diattenuator_perfect(azimuth=45 * degrees)\n",
    "print(J)\n",
    "\n",
    "E2 = J * E\n",
    "print(E2)"
   ]
  },
  {
   "cell_type": "code",
   "execution_count": null,
   "metadata": {},
   "outputs": [],
   "source": [
    "# Calcular la matriz de Jones de un sistema compuesto por una lamina de cuarto de onda a 45º seguida de un polarizador lineal a 0º\n",
    "Jr = Jones_matrix(\"Retarder\")\n",
    "Jr.quarter_waveplate(azimuth=45 * degrees)\n",
    "print(Jr)\n",
    "\n",
    "Jp = Jones_matrix(\"Polarizer\")\n",
    "Jp.diattenuator_perfect(azimuth=0 * degrees)\n",
    "print(Jp)\n",
    "\n",
    "# Note, the element that is furthest from the system is placed on the right.\n",
    "Jtotal = Jr * Jp\n",
    "print(Jtotal)"
   ]
  },
  {
   "cell_type": "code",
   "execution_count": null,
   "metadata": {},
   "outputs": [],
   "source": [
    "# Calcular la matriz de Jones de un sistema compuesto por una lamina de cuarto de onda a 45º seguida de un polarizador lineal con un angulo entre 0 y 90º\n",
    "E = Jones_vector(\"Laser\")\n",
    "E.linear_light(azimuth=0 * degrees)\n",
    "print(E)\n",
    "\n",
    "J = Jones_matrix(\"Polarizer\")\n",
    "angles = np.linspace(0, 90 * degrees, 5)\n",
    "J.diattenuator_perfect(azimuth=angles)\n",
    "print(J)\n",
    "\n",
    "E2 = J * E\n",
    "print(E2)"
   ]
  },
  {
   "cell_type": "markdown",
   "metadata": {},
   "source": [
    "### Extraer parámetros de los objetos"
   ]
  },
  {
   "cell_type": "code",
   "execution_count": null,
   "metadata": {},
   "outputs": [],
   "source": [
    "# Calcular el azimut de un haz eliptico\n",
    "angles = np.linspace(0, 180 * degrees, 19)\n",
    "E = Jones_vector(\"laser\")\n",
    "E.general_azimuth_ellipticity(intensity=2, azimuth=angles, ellipticity=20 * degrees)\n",
    "\n",
    "# Extra parameters can be obtained from the\n",
    "E.parameters.get_all(draw=True)"
   ]
  },
  {
   "cell_type": "code",
   "execution_count": null,
   "metadata": {},
   "outputs": [],
   "source": [
    "# calcular la retardancia de 100 elementos opticos completamente aleatorios\n",
    "Jelements = np.random.rand(2, 2, 10, 10) + 1j * np.random.rand(2, 2, 10, 10)\n",
    "J = Jones_matrix(\"Random element\")\n",
    "J.from_matrix(Jelements)\n",
    "R = J.parameters.retardance(draw=True)"
   ]
  },
  {
   "cell_type": "markdown",
   "metadata": {},
   "source": [
    "### Parametros utiles de los objetos py_pol"
   ]
  },
  {
   "cell_type": "code",
   "execution_count": null,
   "metadata": {},
   "outputs": [],
   "source": [
    "E = Jones_vector(\"Laser\")\n",
    "E.linear_light(azimuth=45 * degrees, intensity=np.random.rand(3) * 5)\n",
    "\n",
    "print(\"Array: \", E.M)\n",
    "print(\"Name: \", E.name)\n",
    "print(\"Size: \", E.size)\n",
    "print(\"Shape: \", E.shape)\n",
    "print(\"Number of dimensions: \", E.ndim)\n",
    "print(\"Type: \", E.type, \"\\n\")\n",
    "\n",
    "I = E.parameters.intensity(verbose=True)\n",
    "\n",
    "cond = E.checks.is_circular(verbose=True)"
   ]
  },
  {
   "cell_type": "markdown",
   "metadata": {},
   "source": [
    "## Ejemplo 1: Ley de Malus\n",
    "\n",
    "Vamos a ver la Ley de Malus (https://en.wikipedia.org/wiki/Polarizer) para el caso de polarizadores ideales y polarizadores reales.\n",
    "\n",
    "En el caso de los polarizadores ideales, la transmisión será 1 cuando el eje de transmisión de los polarizadores estén alineados y 0 cuando estén cruzados \n",
    "\n",
    "$I(\\theta) = I_{0} * cos(\\theta_1 - \\theta_0)^2$,\n",
    "\n",
    "siendo $I_0$ la intensidad del haz circularmente polarizado incidente y $\\theta_i$ el ángulo de los polarizadores.\n",
    "\n",
    "En el caso de polarizadores reales es un poquito más complicado. Por un lado tenemos que la transmisión máxima de los polarizadores ($p_1$ en campo eléctrico o $T_{max} = p_1^2$ en intensidad) es menor que 1. Por otro lado la transmisión mínima de los polarizadores ($p_2$ en campo eléctrico o $T_{min} = p_2^2$ en intensidad) es mayor que 0. En este caso, la ecuación de la Ley de Malus se complica:\n",
    "\n",
    "$I(\\theta) = \\frac{I_{0}}{2} * [T^2_{min} + T^2_{max} + (2 * T_{max} * T_{min} - T^2_{max} - T^2_{min}) * cos(\\theta_1 - \\theta_0)^2]$.\n",
    "\n",
    "### Polarizadores ideales"
   ]
  },
  {
   "cell_type": "code",
   "execution_count": null,
   "metadata": {},
   "outputs": [],
   "source": [
    "angles = np.linspace(0, 360 * degrees, 361)\n",
    "J0 = Jones_matrix(\"Polarizer 0\")\n",
    "J0.diattenuator_perfect(azimuth=0)\n",
    "\n",
    "J1 = Jones_matrix(\"Polarizer 1\")\n",
    "J1.diattenuator_perfect(azimuth=angles)\n",
    "\n",
    "E0 = Jones_vector(\"Laser\")\n",
    "E0.circular_light(kind=\"l\", intensity=2)\n",
    "\n",
    "Efin = J1 * J0 * E0\n",
    "I = Efin.parameters.intensity(draw=True)"
   ]
  },
  {
   "cell_type": "markdown",
   "metadata": {},
   "source": [
    "### Polarizadores reales"
   ]
  },
  {
   "cell_type": "code",
   "execution_count": null,
   "metadata": {},
   "outputs": [],
   "source": [
    "angles = np.linspace(0, 360 * degrees, 361)\n",
    "J0 = Jones_matrix(\"Polarizer 0\")\n",
    "J0.diattenuator_linear(azimuth=0, Tmax=0.9, Tmin=0.1)\n",
    "\n",
    "J1 = Jones_matrix(\"Polarizer 1\")\n",
    "J1.diattenuator_linear(azimuth=angles, Tmax=0.9, Tmin=0.1)\n",
    "\n",
    "E0 = Jones_vector(\"Laser\")\n",
    "E0.circular_light(kind=\"l\", intensity=2)\n",
    "\n",
    "Efin = J1 * J0 * E0\n",
    "I = Efin.parameters.intensity(draw=True)"
   ]
  },
  {
   "cell_type": "markdown",
   "metadata": {},
   "source": [
    "## Ejemplo 2: Efecto Zenon clásico\n",
    "\n",
    "El efecto Zenon clásico estudia la transmisión de un sistema de 2 o más polarizadores donde sus ángulos están equiespaciados y el primero y el último estan cruzados.\n",
    "\n",
    "### Polarizadores ideales"
   ]
  },
  {
   "cell_type": "code",
   "execution_count": null,
   "metadata": {},
   "outputs": [],
   "source": [
    "E0 = Jones_vector(\"Laser\")\n",
    "E0.circular_light(kind=\"l\", intensity=2)\n",
    "\n",
    "arr = [*range(2, 102)]\n",
    "I = np.zeros(100)\n",
    "for i, element in enumerate(arr):\n",
    "    angles = np.linspace(0, 90 * degrees, element)\n",
    "    J1 = Jones_matrix(\"Polarizer 1\")\n",
    "    J1.diattenuator_perfect(\n",
    "        azimuth=angles,\n",
    "    )\n",
    "\n",
    "    # Usually the system creates one operation per polarized. We do .prod() to ask the sobtware to create the product of all the elements\n",
    "    Efin = J1.prod() * E0\n",
    "    I[i] = Efin.parameters.intensity()\n",
    "\n",
    "plt.plot(arr, I)\n",
    "plt.xlabel(\"Number of polarizers\")\n",
    "plt.ylabel(\"Final intensity\")"
   ]
  },
  {
   "cell_type": "markdown",
   "metadata": {},
   "source": [
    "### Polarizadores reales"
   ]
  },
  {
   "cell_type": "code",
   "execution_count": null,
   "metadata": {},
   "outputs": [],
   "source": [
    "E0 = Jones_vector(\"Laser\")\n",
    "E0.circular_light(kind=\"l\", intensity=2)\n",
    "\n",
    "Narray = np.linspace(2, 101, 100)\n",
    "I2 = np.zeros(100)\n",
    "for ind, N in enumerate(Narray):\n",
    "    angles = np.linspace(0, 90 * degrees, int(N))\n",
    "    J1 = Jones_matrix(\"Polarizer 1\")\n",
    "    J1.diattenuator_linear(azimuth=angles, Tmax=0.99, Tmin=1e-4)\n",
    "\n",
    "    Efin = J1.prod() * E0\n",
    "    I2[ind] = Efin.parameters.intensity()\n",
    "\n",
    "plt.plot(Narray, I2)\n",
    "plt.plot(Narray, I, \"b--\")\n",
    "plt.xlabel(\"Number of polarizers\")\n",
    "plt.ylabel(\"Final intensity\")"
   ]
  }
 ],
 "metadata": {
  "kernelspec": {
   "display_name": "Python 3.10.3 ('env': venv)",
   "language": "python",
   "name": "python3"
  },
  "language_info": {
   "codemirror_mode": {
    "name": "ipython",
    "version": 3
   },
   "file_extension": ".py",
   "mimetype": "text/x-python",
   "name": "python",
   "nbconvert_exporter": "python",
   "pygments_lexer": "ipython3",
   "version": "3.10.3"
  },
  "vscode": {
   "interpreter": {
    "hash": "dc988374c93268eb4bbdbb388996892ca7ce2166a8df0f80e60341213632aaf8"
   }
  }
 },
 "nbformat": 4,
 "nbformat_minor": 2
}
