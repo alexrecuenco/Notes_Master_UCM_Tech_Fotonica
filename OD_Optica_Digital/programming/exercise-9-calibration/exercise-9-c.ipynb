{
 "cells": [
  {
   "cell_type": "markdown",
   "metadata": {},
   "source": [
    "![Alt text](http://www.ucm.es/logo/ucm.png \"a title\")\n",
    "\n",
    "<div align=\"center\"> \n",
    "<font size=5> Máster en Nuevas Tecnologías Electrónicas y Fotónicas </font>\n",
    "</div>\n",
    "    \n",
    "<div align=\"center\"> \n",
    "<font size=4> Óptica Digital, curso 2021-2022 </font>\n",
    "</div>\n",
    "\n",
    "    \n",
    "<div align=\"center\"> \n",
    "<font size=4> Ejercicio C - Calibración de los SLM </font>\n",
    "</div>"
   ]
  },
  {
   "cell_type": "markdown",
   "metadata": {
    "ExecuteTime": {
     "end_time": "2021-09-03T08:07:15.590395Z",
     "start_time": "2021-09-03T08:07:15.586258Z"
    }
   },
   "source": [
    "- **Fecha**: *\n",
    "        \n",
    "- **Alumno**: Alex G Recuenco \n"
   ]
  },
  {
   "cell_type": "markdown",
   "metadata": {},
   "source": [
    "# Introducción\n",
    "\n",
    "En este ejercicio vamos a trabajar con la calibración del SLM para encontrar unas condiciones de modulación de amplitud y modulación de fase. Para ello, hay que diseñar una función de mérito para cada una de los dos tipos de modulación y encontrar una configuración de ángulos para cada una mediante una optimización.\n",
    "\n",
    "## Cargar calibración del SLM\n",
    "\n",
    "Hay que realizar estos pasos para cargar la calibración como un objeto *Jones_vector* de *pypol*."
   ]
  },
  {
   "cell_type": "code",
   "execution_count": null,
   "metadata": {},
   "outputs": [],
   "source": [
    "import numpy as np\n",
    "from py_pol.jones_matrix import Jones_matrix\n",
    "from py_pol.jones_vector import Jones_vector"
   ]
  },
  {
   "cell_type": "code",
   "execution_count": null,
   "metadata": {},
   "outputs": [],
   "source": [
    "from collections import namedtuple\n",
    "\n",
    "\n",
    "AnglesElements = namedtuple(\"AnglesElements\", [\"pg\", \"qg\", \"qa\", \"pa\"])\n",
    "AnglesField = namedtuple(\"AnglesField\", [\"phi_a\", \"xi_a\", \"phi_g\", \"xi_g\"])\n",
    "\n",
    "\n",
    "def field_to_elements(angles: AnglesField) -> AnglesElements:\n",
    "    assert isinstance(angles, AnglesField)\n",
    "    phi_a, xi_a, phi_g, xi_g = angles\n",
    "    qg, pg = phi_g, phi_g - xi_g\n",
    "    qa, pa = phi_a, phi_a + xi_a\n",
    "    return AnglesElements(pg, qg, qa, pa)\n",
    "\n",
    "\n",
    "def angles_degree_to_rad(angles_360: AnglesField) -> AnglesField:\n",
    "    assert isinstance(angles_360, AnglesField)\n",
    "    a1, a2, a3, a4 = angles_360\n",
    "    ratio = np.pi / 180\n",
    "    return AnglesField(a1 * ratio, a2 * ratio, a3 * ratio, a4 * ratio)\n",
    "\n",
    "\n",
    "def transmission(angles: AnglesElements, J: Jones_matrix) -> Jones_vector:\n",
    "    assert isinstance(angles, AnglesElements)\n",
    "    (pg, qg, qa, pa) = angles\n",
    "    Ein = Jones_vector().circular_light(intensity=2)\n",
    "    P_g = Jones_matrix().diattenuator_perfect(azimuth=pg)\n",
    "    Q_g = Jones_matrix().quarter_waveplate(azimuth=qg)\n",
    "    Q_a = Jones_matrix().quarter_waveplate(azimuth=qa)\n",
    "    P_a = Jones_matrix().diattenuator_perfect(azimuth=pa)\n",
    "\n",
    "    Eg: Jones_vector = Q_g * P_g * Ein\n",
    "    Efin: Jones_vector = P_a * Q_a * J * Eg\n",
    "    return Efin\n",
    "\n",
    "\n",
    "def field_transmission(angles: AnglesField, J: Jones_matrix) -> Jones_vector:\n",
    "    assert isinstance(angles, AnglesField)\n",
    "    angles_elements = field_to_elements(angles)\n",
    "    return transmission(angles_elements, J)\n",
    "\n",
    "\n",
    "def parameters_intensity_phase(E: Jones_vector):\n",
    "    return E.parameters.intensity(), (E.parameters.global_phase() % 2 * np.pi)\n",
    "\n",
    "\n",
    "def parameters_az_el(E: Jones_vector):\n",
    "    return E.parameters.azimuth_ellipticity()"
   ]
  },
  {
   "cell_type": "markdown",
   "metadata": {},
   "source": []
  },
  {
   "cell_type": "code",
   "execution_count": null,
   "metadata": {},
   "outputs": [],
   "source": [
    "def load_SLM(filename):  # Cargar datos del archivo NPZ (grabado con np.savez)\n",
    "    data = np.load(filename)\n",
    "    # Definir una lista con las componentes de la matriz de Jones: J00, J01, J10 y J11\n",
    "    components = [\n",
    "        data[\"J0\"] * np.exp(1j * 0),\n",
    "        data[\"J1\"] * np.exp(1j * (data[\"d1\"] - data[\"d0\"])),\n",
    "        data[\"J2\"] * np.exp(1j * (data[\"d2\"] - data[\"d0\"])),\n",
    "        data[\"J3\"] * np.exp(1j * (data[\"d3\"] - data[\"d0\"])),\n",
    "    ]\n",
    "    # Crear el objeto py_pol\n",
    "    Jslm = Jones_matrix()\n",
    "    Jslm.from_components(components)\n",
    "    return Jslm\n",
    "\n",
    "\n",
    "Jslm = load_SLM(\"SLM_Jones_components.npz\")"
   ]
  },
  {
   "cell_type": "markdown",
   "metadata": {},
   "source": [
    "## Sistema\n",
    "\n",
    "El sistema será igual que en el laboratorio: un haz inicial de polarización circular a derechas, un generador de estados (PSG) formado por un polarizador perfecto y una lámina de cuarto de onda que pueden rotar, el SLM, y un analizador de estados (PSA) formado por una lámina de cuarto de onda y un polarizador perfecto que pueden rotar."
   ]
  },
  {
   "cell_type": "markdown",
   "metadata": {},
   "source": [
    "# Calibración completa\n",
    "\n",
    "Vamos a calibrar la matriz del SLM que tenemos (como si no supiéramos acceder a sus datos) mediante el método del retardador o el método extendido. Aquellos alumnos que hayan realizado la práctica 4A en el laboratorio deben utilizar el método del retardador (para no repetir lo que hicieron en el laboratorio), mientras que los que realicen la práctica 4B deben escoger el método extendido (que es más completo)."
   ]
  },
  {
   "cell_type": "markdown",
   "metadata": {},
   "source": [
    "## Cálculo "
   ]
  },
  {
   "cell_type": "code",
   "execution_count": null,
   "metadata": {},
   "outputs": [],
   "source": [
    "measures = [\n",
    "    AnglesField(0, 0, 0, 0),  # 1\n",
    "    AnglesField(0, 0, 90, 0),\n",
    "    AnglesField(90, 0, 0, 0),\n",
    "    AnglesField(90, 0, 90, 0),\n",
    "    AnglesField(0, 0, 0, -45),  # 5\n",
    "    AnglesField(0, 0, 45, 0),\n",
    "    AnglesField(0, 45, 0, 0),\n",
    "    AnglesField(45, 0, 0, 0),\n",
    "    AnglesField(90, 0, 0, -45),\n",
    "    AnglesField(90, 0, 45, 0),  # 10\n",
    "]\n",
    "\n",
    "from typing import List\n",
    "\n",
    "# https://doi.org/10.1016/j.optlaseng.2021.106914\n",
    "def extended_method(Is: List[np.array]) -> Jones_matrix:\n",
    "    I1, I2, I3, I4, I5, I6, I7, I8, I9, I10 = Is\n",
    "    J00 = np.sqrt(I1)\n",
    "    J01 = np.sqrt(I2)\n",
    "    J10 = np.sqrt(I3)\n",
    "    J11 = np.sqrt(I4)\n",
    "    delta_0 = 0\n",
    "    delta_1 = np.arctan2(2 * I5 - I1 - I2, 2 * I6 - I1 - I2)\n",
    "    delta_2 = np.arctan2(2 * I7 - I1 - I2, 2 * I8 - I1 - I2)\n",
    "    delta_3 = delta_2 + np.arctan2(2 * I9 - I3 - I4, 2 * I10 - I3 - I4)\n",
    "\n",
    "    components = [\n",
    "        J00 * np.exp(1j * delta_0),\n",
    "        J01 * np.exp(1j * delta_1),\n",
    "        J10 * np.exp(1j * delta_2),\n",
    "        J11 * np.exp(1j * delta_3),\n",
    "    ]\n",
    "    Jslm = Jones_matrix()\n",
    "    Jslm.from_components(components)\n",
    "    return Jslm\n",
    "\n",
    "\n",
    "from functools import partial\n",
    "\n",
    "\n",
    "def measure_intensity(angles_360: AnglesField, J: Jones_matrix):\n",
    "    assert isinstance(angles_360, AnglesField)\n",
    "    angles = angles_degree_to_rad(angles_360)\n",
    "    Eout = field_transmission(angles, J)\n",
    "    intensity, _ = parameters_intensity_phase(Eout)\n",
    "    return intensity\n",
    "\n",
    "\n",
    "def do_extended_measures(*, measures):\n",
    "    intensities = [measure_intensity(measure, J=Jslm) for measure in measures]\n",
    "    J = extended_method(intensities)\n",
    "    return J\n",
    "\n",
    "\n",
    "J_experiment = do_extended_measures(measures=measures)"
   ]
  },
  {
   "cell_type": "markdown",
   "metadata": {},
   "source": [
    "## Comparación \n",
    "\n",
    "Compara el módulo y la fase global de los elementos de matriz obtenidos \"experimentalmente\" con los de la matriz Jslm original."
   ]
  },
  {
   "cell_type": "code",
   "execution_count": null,
   "metadata": {},
   "outputs": [],
   "source": [
    "# out=Jslm.draw(verbose=False);\n",
    "from itertools import count\n",
    "import matplotlib.pyplot as plt\n",
    "\n",
    "\n",
    "def plot_components(J: Jones_matrix, title: str):\n",
    "    components = J.parameters.components()\n",
    "    x = np.arange(0, 256)\n",
    "    fig, axs = plt.subplots(4, 2)\n",
    "    fig.tight_layout()\n",
    "    for index, c, (col_abs, col_phi) in zip(count(), components, axs):\n",
    "        col_abs.plot(x, np.abs(c))\n",
    "        col_abs.set_title(rf\"$|J_{{ {index:0>2b} }}| $\")\n",
    "        col_phi.set_title(rf\"$\\phi(J_{{ {index:0>2b} }}) $\")\n",
    "        col_phi.plot(x, np.angle(c))\n",
    "    fig.suptitle(title)"
   ]
  },
  {
   "cell_type": "code",
   "execution_count": null,
   "metadata": {},
   "outputs": [],
   "source": [
    "plot_components(Jslm, \"Loaded from data\")\n",
    "\n",
    "plot_components(J_experiment, \"Calculated on simulation\")"
   ]
  },
  {
   "cell_type": "markdown",
   "metadata": {},
   "source": [
    "## Discusión\n",
    "\n",
    "Discute el resultado obtenido."
   ]
  },
  {
   "cell_type": "markdown",
   "metadata": {},
   "source": [
    "El resultado es consistente, es cierto que existen ciertos errores numericos que son muy visibles en angulos cerca de $\\pi/2$, ya que en ese angulo los errores explotan. En el paper original, se describe que para mejorar los errores numéricos se puede usar unos calculos de intensidades adicionales para corregir estos errores."
   ]
  }
 ],
 "metadata": {
  "kernelspec": {
   "display_name": "Python 3.10.3 ('env': venv)",
   "language": "python",
   "name": "python3"
  },
  "language_info": {
   "codemirror_mode": {
    "name": "ipython",
    "version": 3
   },
   "file_extension": ".py",
   "mimetype": "text/x-python",
   "name": "python",
   "nbconvert_exporter": "python",
   "pygments_lexer": "ipython3",
   "version": "3.10.3"
  },
  "latex_envs": {
   "LaTeX_envs_menu_present": true,
   "autoclose": false,
   "autocomplete": true,
   "bibliofile": "biblio.bib",
   "cite_by": "apalike",
   "current_citInitial": 1,
   "eqLabelWithNumbers": true,
   "eqNumInitial": 1,
   "hotkeys": {
    "equation": "Ctrl-E",
    "itemize": "Ctrl-I"
   },
   "labels_anchors": false,
   "latex_user_defs": false,
   "report_style_numbering": false,
   "user_envs_cfg": false
  },
  "toc": {
   "base_numbering": 1,
   "nav_menu": {},
   "number_sections": false,
   "sideBar": true,
   "skip_h1_title": true,
   "title_cell": "Table of Contents",
   "title_sidebar": "Contents",
   "toc_cell": false,
   "toc_position": {},
   "toc_section_display": true,
   "toc_window_display": false
  },
  "vscode": {
   "interpreter": {
    "hash": "dc988374c93268eb4bbdbb388996892ca7ce2166a8df0f80e60341213632aaf8"
   }
  },
  "widgets": {
   "application/vnd.jupyter.widget-state+json": {
    "state": {},
    "version_major": 2,
    "version_minor": 0
   }
  }
 },
 "nbformat": 4,
 "nbformat_minor": 4
}
