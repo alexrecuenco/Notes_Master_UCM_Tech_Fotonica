{
 "cells": [
  {
   "cell_type": "markdown",
   "metadata": {},
   "source": [
    "![Alt text](http://www.ucm.es/logo/ucm.png \"a title\")\n",
    "\n",
    "<div align=\"center\"> \n",
    "<font size=5> Máster en Nuevas Tecnologías Electrónicas y Fotónicas </font>\n",
    "</div>\n",
    "    \n",
    "<div align=\"center\"> \n",
    "<font size=4> Óptica Digital, curso 2022-2023 </font>\n",
    "</div>\n",
    "\n",
    "<div align=\"center\"> \n",
    "<font size=4>  \n",
    "\n",
    "</font>\n",
    "</div>\n",
    "\n",
    "<div align=\"center\"> \n",
    "<font size=5> Ejercicio 5 - Elementos ópticos difractivos </font>\n",
    "</div>"
   ]
  },
  {
   "cell_type": "markdown",
   "metadata": {
    "ExecuteTime": {
     "end_time": "2021-09-03T08:07:15.590395Z",
     "start_time": "2021-09-03T08:07:15.586258Z"
    }
   },
   "source": [
    "- **Fecha**: \n",
    "        \n",
    "- **Alumno**:  Alex Recuenco \n"
   ]
  },
  {
   "cell_type": "markdown",
   "metadata": {},
   "source": [
    "# Introducción\n",
    "\n",
    "En este ejercicio nos vamos a centrar en el uso de kinoformas. Éstas producen una distribución de intensidad deseada en el campo lejano. Utilizaremos dos estrategias:\n",
    "\n",
    "- La función fft de la clase, que directamente calcula la distribución en campo lejano.\n",
    "- El uso de una lente y propagar hasta la distancia focal. Esto nos permitirá el control del tamaño cambiando la focal.\n",
    "\n",
    "Veremos el efecto de una kinoforma de amplitud y una de fase."
   ]
  },
  {
   "cell_type": "markdown",
   "metadata": {},
   "source": [
    "# Enunciados\n",
    "\n",
    "1. Sea una kinoforma proporcionada mediante un dibujo .bmp.\n",
    "\n",
    "    a. Cargue la imagen (DOEucm.bmp) y genere una transmitancia de amplitud. Hay una función específica dentro de Scalar_mask_XY.\n",
    "    \n",
    "    b. Obtenga la distribución de intensidad en campo lejano cuando esta kinoforma es iluminada por una onda armónica plana en incidencia normal.\n",
    "    \n",
    "    c. Convierta la imagen en una transmitancia de fase. Obtenga de nuevo la distribución de intensidad en campo lejano.\n",
    "    \n",
    "    d. Para obtener el campo lejano, utilice una lente. Obtenga la distribución de intensidad en el plano focal de la lente. \n",
    "    \n",
    "    e. Para el caso d), utilice una máscara para eliminar el orden 0.\n",
    "    \n",
    "    f. Compare los resultados.\n",
    "    \n",
    "    \n",
    "    "
   ]
  },
  {
   "cell_type": "markdown",
   "metadata": {},
   "source": [
    "<div class=\"alert alert-block alert-success\">\n",
    "    \n",
    "<b>Nota:</b>\n",
    "    \n",
    "En todos los casos, especialmente en las kinoformas de amplitud, es conveniente eliminar el orden 0 de la intensidad obtenida, pues reduce la visibilidad del resultado.\n",
    "\n",
    "    - Para la función fft, hay un parámetro específico.\n",
    "\n",
    "    - Para campo cercano es necesario crear la máscara y multiplicarla por el resultado.\n",
    "    \n",
    "</div>\n",
    "\n"
   ]
  },
  {
   "cell_type": "markdown",
   "metadata": {},
   "source": [
    "Proponga un valor para los parámetros que no vengan en el enunciado. En todos los casos, los resultados son gráficas de intensidad y fase luminosa."
   ]
  },
  {
   "cell_type": "markdown",
   "metadata": {},
   "source": [
    "<div class=\"alert alert-block alert-info\">\n",
    "\n",
    "<b>Consejos:</b>\n",
    "    \n",
    "    - Para una mejor observación y rapidez en los cálculos, utilice una máscara de 512 x 512 pixeles.\n",
    "    \n",
    "    - El tamaño de la máscara puede ser 1 mm.\n",
    "    \n",
    "    - Para enmascarar, utilice una abertura circular, donde el centro tenga una transmitancia 0 y los bordes una transmitancia 1.\n",
    "    \n",
    "  \n",
    "</div>"
   ]
  },
  {
   "cell_type": "code",
   "execution_count": null,
   "metadata": {},
   "outputs": [],
   "source": [
    "import cv2 as cv\n",
    "import numpy as np\n",
    "\n",
    "\n",
    "def load_img(file):\n",
    "    img = cv.imread(file, cv.IMREAD_GRAYSCALE)\n",
    "    return img\n",
    "\n",
    "\n",
    "img_file = \"DOEucm.bmp\""
   ]
  },
  {
   "cell_type": "markdown",
   "metadata": {},
   "source": [
    "## Resolución\n"
   ]
  },
  {
   "cell_type": "code",
   "execution_count": null,
   "metadata": {},
   "outputs": [],
   "source": [
    "from matplotlib import pyplot as plt\n",
    "from numpy.typing import NDArray\n",
    "\n",
    "loaded_img = load_img(img_file)\n",
    "plt.imshow(loaded_img, cmap=\"gray\")"
   ]
  },
  {
   "cell_type": "code",
   "execution_count": null,
   "metadata": {},
   "outputs": [],
   "source": [
    "(resolution, resolution_sim_y) = np.array(loaded_img.shape) * 2\n",
    "assert resolution == resolution_sim_y, \"Picture needs to be square\"\n",
    "\n",
    "print(resolution)\n",
    "# normalize\n",
    "def _normalize_img(img: NDArray):\n",
    "    img = img.astype(float)\n",
    "    min_val = img.min()\n",
    "    max_val = img.max()\n",
    "\n",
    "    img = (img - min_val) / (max_val - min_val)\n",
    "    return img\n",
    "\n",
    "\n",
    "img = _normalize_img(loaded_img)\n",
    "plt.imshow(img, cmap=\"gray\")"
   ]
  },
  {
   "cell_type": "code",
   "execution_count": null,
   "metadata": {},
   "outputs": [],
   "source": [
    "resized_mask = cv.resize(\n",
    "    img, dsize=(resolution, resolution), interpolation=cv.INTER_NEAREST_EXACT\n",
    ")\n",
    "plt.imshow(resized_mask, cmap=\"gray\")"
   ]
  },
  {
   "cell_type": "markdown",
   "metadata": {},
   "source": [
    "### Definiciones iniciales"
   ]
  },
  {
   "cell_type": "code",
   "execution_count": null,
   "metadata": {},
   "outputs": [],
   "source": [
    "from os import remove\n",
    "from diffractio import mm, um\n",
    "from diffractio.scalar_sources_XY import Scalar_source_XY\n",
    "from diffractio.scalar_masks_XY import Scalar_mask_XY\n",
    "\n",
    "wavelength = 700 * um\n",
    "x = np.linspace(-mm, mm, resolution)\n",
    "y = x.copy()\n",
    "\n",
    "\n",
    "def propagate(image: NDArray, **propagation_kw):\n",
    "    wave = Scalar_source_XY(x, y, wavelength=wavelength)\n",
    "    wave.plane_wave()\n",
    "    mask = Scalar_mask_XY(x, y, wavelength=wavelength)\n",
    "    mask.u = np.array(image)\n",
    "\n",
    "    input = wave * mask\n",
    "    propagation_kw.pop(\"new_field\", None)\n",
    "    far_field = input.fft(**propagation_kw, new_field=True)\n",
    "    return (input, far_field)"
   ]
  },
  {
   "cell_type": "markdown",
   "metadata": {},
   "source": [
    "### b. Distribución de intensidad en campo lejano"
   ]
  },
  {
   "cell_type": "code",
   "execution_count": null,
   "metadata": {},
   "outputs": [],
   "source": [
    "input, far_field = propagate(resized_mask, remove0=False)\n",
    "\n",
    "input.draw(normalize=True)\n",
    "plt.show()\n",
    "far_field.draw(logarithm=True)\n",
    "plt.show()"
   ]
  },
  {
   "cell_type": "markdown",
   "metadata": {},
   "source": [
    "### c. Máscara de fase"
   ]
  },
  {
   "cell_type": "markdown",
   "metadata": {},
   "source": [
    "Como la mascara es binaria, podemos reemplazar 0 por 1, y 1 por -1 (Cambiando el argumento por fase). \n",
    "\n",
    "Este cambio se puede hacer con una transformacion lineal, que es mas rapida. Primero multiplicamos por -2 y luego sumamos 1"
   ]
  },
  {
   "cell_type": "code",
   "execution_count": null,
   "metadata": {},
   "outputs": [],
   "source": [
    "phase_mask = resized_mask * (-2) + 1"
   ]
  },
  {
   "cell_type": "code",
   "execution_count": null,
   "metadata": {},
   "outputs": [],
   "source": [
    "input, far_field = propagate(phase_mask, remove0=False)\n",
    "\n",
    "input.draw(normalize=True, kind=\"phase\")\n",
    "plt.show()\n",
    "far_field.draw(logarithm=True)\n",
    "plt.show()"
   ]
  },
  {
   "cell_type": "markdown",
   "metadata": {},
   "source": [
    "### d. Uso de una lente"
   ]
  },
  {
   "cell_type": "code",
   "execution_count": null,
   "metadata": {},
   "outputs": [],
   "source": [
    "x = np.linspace(-6 * mm, 6 * mm, 1024)\n",
    "y = x.copy()\n",
    "wavelength = 0.6 * um\n",
    "\n",
    "\n",
    "def propagate_lense(image: NDArray, focal=5 * mm, **propagation_kw):\n",
    "    wave = Scalar_source_XY(x, y, wavelength=wavelength)\n",
    "    wave.plane_wave(A=10)\n",
    "    mask = Scalar_mask_XY(x, y, wavelength=wavelength)\n",
    "    resized_image = cv.resize(\n",
    "        image, dsize=mask.u.shape, interpolation=cv.INTER_NEAREST_EXACT\n",
    "    )\n",
    "    mask.u = np.array(resized_image)\n",
    "\n",
    "    input = wave * mask\n",
    "    lens_field = input\n",
    "    print(\"\\n\")\n",
    "    lens = Scalar_mask_XY(x, y, wavelength=wavelength)\n",
    "\n",
    "    lens.lens((0, 0), focal, radius=0)\n",
    "\n",
    "    lens_field = lens_field * lens\n",
    "\n",
    "    propagation_kw.pop(\"new_field\", None)\n",
    "    focal = propagation_kw.pop(\"z\", focal)\n",
    "    far_field = lens_field.RS(**propagation_kw, z=focal, new_field=True)\n",
    "    return (input, far_field)\n",
    "\n",
    "\n",
    "input, far_field = propagate_lense(phase_mask, focal=500 * mm, verbose=True)\n",
    "\n",
    "input.draw(logarithm=True)\n",
    "plt.show()\n",
    "far_field.draw(logarithm=True)\n",
    "\n",
    "plt.show()"
   ]
  },
  {
   "cell_type": "markdown",
   "metadata": {},
   "source": [
    "### e. Máscara para orden 0"
   ]
  },
  {
   "cell_type": "code",
   "execution_count": null,
   "metadata": {},
   "outputs": [],
   "source": [
    "zero_mask = Scalar_mask_XY(x, y, wavelength=wavelength)\n",
    "zero_mask.circle((0, 0), 750 * um)\n",
    "zero_mask.u = 1 - zero_mask.u\n",
    "\n",
    "zero_mask.draw()\n",
    "plt.show()\n",
    "field_zero_masked = far_field * zero_mask\n",
    "field_zero_masked.draw(logarithm=True)\n",
    "\n",
    "plt.show()"
   ]
  },
  {
   "cell_type": "markdown",
   "metadata": {},
   "source": [
    "**Conclusiones**:\n",
    "\n",
    "La FFT es un algoritmo que es O(N). Teniendo en cuenta que es una aproximación, sólo hay que tener cuidado en que régimen estamos trabajando, y a lo mejor una simulación de RS nos permite comparar nuestros resultados. Pero en general, usar la FFT ofrece mejor resolución y velocidad de computación"
   ]
  }
 ],
 "metadata": {
  "kernelspec": {
   "display_name": "Python 3.10.3 ('env': venv)",
   "language": "python",
   "name": "python3"
  },
  "language_info": {
   "codemirror_mode": {
    "name": "ipython",
    "version": 3
   },
   "file_extension": ".py",
   "mimetype": "text/x-python",
   "name": "python",
   "nbconvert_exporter": "python",
   "pygments_lexer": "ipython3",
   "version": "3.10.3"
  },
  "latex_envs": {
   "LaTeX_envs_menu_present": true,
   "autoclose": false,
   "autocomplete": true,
   "bibliofile": "biblio.bib",
   "cite_by": "apalike",
   "current_citInitial": 1,
   "eqLabelWithNumbers": true,
   "eqNumInitial": 1,
   "hotkeys": {
    "equation": "Ctrl-E",
    "itemize": "Ctrl-I"
   },
   "labels_anchors": false,
   "latex_user_defs": false,
   "report_style_numbering": false,
   "user_envs_cfg": false
  },
  "toc": {
   "base_numbering": 1,
   "nav_menu": {},
   "number_sections": false,
   "sideBar": true,
   "skip_h1_title": true,
   "title_cell": "Table of Contents",
   "title_sidebar": "Contents",
   "toc_cell": false,
   "toc_position": {},
   "toc_section_display": true,
   "toc_window_display": false
  },
  "vscode": {
   "interpreter": {
    "hash": "dc988374c93268eb4bbdbb388996892ca7ce2166a8df0f80e60341213632aaf8"
   }
  },
  "widgets": {
   "application/vnd.jupyter.widget-state+json": {
    "state": {},
    "version_major": 2,
    "version_minor": 0
   }
  }
 },
 "nbformat": 4,
 "nbformat_minor": 4
}
