{
 "cells": [
  {
   "cell_type": "markdown",
   "metadata": {},
   "source": [
    "![Alt text](http://www.ucm.es/logo/ucm.png \"a title\")\n",
    "\n",
    "<div align=\"center\"> \n",
    "<font size=5> Máster en Nuevas Tecnologías Electrónicas y Fotónicas </font>\n",
    "</div>\n",
    "    \n",
    "<div align=\"center\"> \n",
    "<font size=4> Óptica Digital, curso 2021-2022 </font>\n",
    "</div>\n",
    "\n",
    "    \n",
    "<div align=\"center\"> \n",
    "<font size=4> Ejercicio A - Funcionamiento de los SLM </font>\n",
    "</div>"
   ]
  },
  {
   "cell_type": "markdown",
   "metadata": {
    "ExecuteTime": {
     "end_time": "2021-09-03T08:07:15.590395Z",
     "start_time": "2021-09-03T08:07:15.586258Z"
    }
   },
   "source": [
    "- **Fecha**: *\n",
    "        \n",
    "- **Alumno**: *  \n"
   ]
  },
  {
   "cell_type": "markdown",
   "metadata": {},
   "source": [
    "# Introducción\n",
    "\n",
    "En este ejercicio vamos a trabajar con la calibración del SLM para encontrar unas condiciones de modulación de amplitud y modulación de fase. Para ello, hay que diseñar una función de mérito para cada una de los dos tipos de modulación y encontrar una configuración de ángulos para cada una mediante una optimización.\n",
    "\n",
    "## Cargar calibración del SLM\n",
    "\n",
    "Hay que realizar estos pasos para cargar la calibración como un objeto *Jones_vector* de *pypol*."
   ]
  },
  {
   "cell_type": "code",
   "execution_count": null,
   "metadata": {},
   "outputs": [],
   "source": [
    "import numpy as np\n",
    "from py_pol.jones_matrix import Jones_matrix\n",
    "from py_pol.jones_vector import Jones_vector"
   ]
  },
  {
   "cell_type": "code",
   "execution_count": null,
   "metadata": {},
   "outputs": [],
   "source": [
    "# Cargar datos del archivo NPZ (grabado con np.savez)\n",
    "data = np.load(\"SLM_Jones_components.npz\")\n",
    "# Definir una lista con las componentes de la matriz de Jones: J00, J01, J10 y J11\n",
    "components = [data[\"J0\"] * np.exp(1j * data[\"d0\"]),\n",
    "             data[\"J1\"] * np.exp(1j * data[\"d1\"]),\n",
    "             data[\"J2\"] * np.exp(1j * data[\"d2\"]),\n",
    "             data[\"J3\"] * np.exp(1j * data[\"d3\"])]\n",
    "# Crear el objeto py_pol\n",
    "Jslm = Jones_matrix()\n",
    "Jslm.from_components(components);"
   ]
  },
  {
   "cell_type": "markdown",
   "metadata": {},
   "source": [
    "## Sistema\n",
    "\n",
    "El sistema será igual que en el laboratorio: un haz inicial de polarización circular a derechas, un generador de estados (PSG) formado por un polarizador perfecto y una lámina de cuarto de onda que pueden rotar, el SLM, y un analizador de estados (PSA) formado por una lámina de cuarto de onda y un polarizador perfecto que pueden rotar."
   ]
  },
  {
   "cell_type": "markdown",
   "metadata": {},
   "source": [
    "# Análisis del SLM\n",
    "\n",
    "En primer lugar, vamos a estudiar el SLM que tenemos. Para ello, en primer lugar vamos a representar su matriz de Jones empleando diversas combinaciones de parámetros.\n",
    "\n",
    "## Parte real y parte imaginaria\n",
    "\n",
    "Primero vamos a representar la parte real y la parte imaginaria de los elementos de matriz. Para ello, es necesario extraer las componentes con el método *parameters.components*."
   ]
  },
  {
   "cell_type": "code",
   "execution_count": null,
   "metadata": {},
   "outputs": [],
   "source": []
  },
  {
   "cell_type": "markdown",
   "metadata": {},
   "source": [
    "Ahora, representa en una figura con 2 filas y 4 columnas la parte real y la parte imaginaria de las diferentes componentes en función de los niveles de gris."
   ]
  },
  {
   "cell_type": "code",
   "execution_count": null,
   "metadata": {},
   "outputs": [],
   "source": []
  },
  {
   "cell_type": "markdown",
   "metadata": {},
   "source": [
    "## Modulo y fase\n",
    "\n",
    "La representación en parte real e imaginaria, aunque correcta, no ofrece demasiada información. La representación en módulo y fase complejos ofrece algo más d información. Ahora, representa en una figura con 2 filas y 4 columnas el módulo y la fase complejas de las diferentes componentes en función de los niveles de gris."
   ]
  },
  {
   "cell_type": "code",
   "execution_count": null,
   "metadata": {},
   "outputs": [],
   "source": []
  },
  {
   "cell_type": "markdown",
   "metadata": {},
   "source": [
    "## Descomposición polar\n",
    "\n",
    "La representación módulo - fase ofrece información clara para algunos estados incidentes simples, pero para otros es más complicado. Otra manera de representar la información de la matriz de Jones es utilizando el teorema de descomposición polar. Este teorema permite descomponer las matrices de Jones en un polarizador y un retardador. Los 8 parámetros que emplearemos será la fase global de la matriz de Jones del SLM, la retardancia del retardador, el azimut y la elipticidad del autoestado rápido del retardador, la transmisión máxima y mínima del polarizador, y el azimut y la elipticidad del autoestado de transmisión del polarizador. \n",
    "\n",
    "Para ello, hay que empezar por dividir la matriz de Jones del SLM en la de un retardador y un polarizador. Para ello, se usa el método *analysis.decompose_pure*."
   ]
  },
  {
   "cell_type": "code",
   "execution_count": null,
   "metadata": {},
   "outputs": [],
   "source": []
  },
  {
   "cell_type": "markdown",
   "metadata": {},
   "source": [
    "Ahora ya se pueden extraer los parámetros del retardador y del diatenuador. Para ello se utilizan los métodos *analysis.diattenuator* y *analysis.retarder*."
   ]
  },
  {
   "cell_type": "code",
   "execution_count": null,
   "metadata": {
    "tags": []
   },
   "outputs": [],
   "source": []
  },
  {
   "cell_type": "markdown",
   "metadata": {},
   "source": [
    "Ya se pueden representar los parámetros en una figura de 2 filas y 4 columnas."
   ]
  },
  {
   "cell_type": "code",
   "execution_count": null,
   "metadata": {},
   "outputs": [],
   "source": []
  },
  {
   "cell_type": "markdown",
   "metadata": {},
   "source": [
    "Por último, hacer una breve descripción del SLM en función de los parámetros obtenidos."
   ]
  },
  {
   "cell_type": "markdown",
   "metadata": {},
   "source": []
  },
  {
   "cell_type": "markdown",
   "metadata": {},
   "source": [
    "# Modulación de amplitud\n",
    "\n",
    "## Función de mérito\n",
    "\n",
    "Define una buena función de mérito que sirva para encontrar una configuración de modulación de amplitud."
   ]
  },
  {
   "cell_type": "code",
   "execution_count": null,
   "metadata": {},
   "outputs": [],
   "source": []
  },
  {
   "cell_type": "markdown",
   "metadata": {},
   "source": [
    "## Optimización\n",
    "\n",
    "Encuentra la configuración de modulación de amplitud empleando la función de mérito definida en el apartado anterior. El resultado debe ser los ángulos de los polarizadores y láminas de cuarto de onda del PSG y del PSA, además de una representación de la transmisión en amplitud y fase del sistema en dicha configuración."
   ]
  },
  {
   "cell_type": "code",
   "execution_count": null,
   "metadata": {},
   "outputs": [],
   "source": []
  },
  {
   "cell_type": "markdown",
   "metadata": {},
   "source": [
    "# Modulación de fase\n",
    "\n",
    "## Función de mérito\n",
    "\n",
    "Define una buena función de mérito que sirva para encontrar una configuración de modulación de fase."
   ]
  },
  {
   "cell_type": "code",
   "execution_count": null,
   "metadata": {},
   "outputs": [],
   "source": []
  },
  {
   "cell_type": "markdown",
   "metadata": {},
   "source": [
    "## Optimización\n",
    "\n",
    "Encuentra la configuración de modulación de fase empleando la función de mérito definida en el apartado anterior. El resultado debe ser los ángulos de los polarizadores y láminas de cuarto de onda del PSG y del PSA, además de una representación de la transmisión en amplitud y fase del sistema en dicha configuración."
   ]
  },
  {
   "cell_type": "code",
   "execution_count": null,
   "metadata": {},
   "outputs": [],
   "source": []
  }
 ],
 "metadata": {
  "kernelspec": {
   "display_name": "Python 3.10.3 ('env': venv)",
   "language": "python",
   "name": "python3"
  },
  "language_info": {
   "codemirror_mode": {
    "name": "ipython",
    "version": 3
   },
   "file_extension": ".py",
   "mimetype": "text/x-python",
   "name": "python",
   "nbconvert_exporter": "python",
   "pygments_lexer": "ipython3",
   "version": "3.10.3"
  },
  "latex_envs": {
   "LaTeX_envs_menu_present": true,
   "autoclose": false,
   "autocomplete": true,
   "bibliofile": "biblio.bib",
   "cite_by": "apalike",
   "current_citInitial": 1,
   "eqLabelWithNumbers": true,
   "eqNumInitial": 1,
   "hotkeys": {
    "equation": "Ctrl-E",
    "itemize": "Ctrl-I"
   },
   "labels_anchors": false,
   "latex_user_defs": false,
   "report_style_numbering": false,
   "user_envs_cfg": false
  },
  "toc": {
   "base_numbering": 1,
   "nav_menu": {},
   "number_sections": false,
   "sideBar": true,
   "skip_h1_title": true,
   "title_cell": "Table of Contents",
   "title_sidebar": "Contents",
   "toc_cell": false,
   "toc_position": {},
   "toc_section_display": true,
   "toc_window_display": false
  },
  "vscode": {
   "interpreter": {
    "hash": "dc988374c93268eb4bbdbb388996892ca7ce2166a8df0f80e60341213632aaf8"
   }
  },
  "widgets": {
   "application/vnd.jupyter.widget-state+json": {
    "state": {},
    "version_major": 2,
    "version_minor": 0
   }
  }
 },
 "nbformat": 4,
 "nbformat_minor": 4
}
